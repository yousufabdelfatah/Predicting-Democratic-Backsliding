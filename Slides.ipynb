{
 "cells": [
  {
   "cell_type": "markdown",
   "metadata": {
    "slideshow": {
     "slide_type": "slide"
    }
   },
   "source": [
    "# Predicting Democratic Backsliding"
   ]
  },
  {
   "cell_type": "markdown",
   "metadata": {
    "slideshow": {
     "slide_type": "slide"
    }
   },
   "source": [
    "## Problem Statement\n",
    "\n",
    "Question: What are the factors that cause democratic backsliding\n",
    "\n",
    "Goal: *Can we build a model that accurately predicts incidents of democratic backsliding?*"
   ]
  },
  {
   "cell_type": "markdown",
   "metadata": {
    "slideshow": {
     "slide_type": "slide"
    }
   },
   "source": [
    "## Why does this matter\n",
    "\n",
    "Democratic backsliding: state-led debilitation or elimination of the political institutions sustaining an existing democracy- basically a catch-all for the various processes that lead to a decrease in democracy. "
   ]
  },
  {
   "cell_type": "markdown",
   "metadata": {
    "slideshow": {
     "slide_type": "fragment"
    }
   },
   "source": [
    "We know how democracies recede"
   ]
  },
  {
   "cell_type": "markdown",
   "metadata": {
    "slideshow": {
     "slide_type": "fragment"
    }
   },
   "source": [
    "But not why"
   ]
  },
  {
   "cell_type": "markdown",
   "metadata": {
    "slideshow": {
     "slide_type": "fragment"
    }
   },
   "source": [
    "If we are able to accurately predict backsliding we may be able to infer from the model the factors that cause backsliding"
   ]
  },
  {
   "cell_type": "markdown",
   "metadata": {
    "slideshow": {
     "slide_type": "slide"
    }
   },
   "source": [
    "## Initial Plan\n",
    "\n",
    "Use Social Cohesion Data and Economic Data to Build a Predictive model\n",
    "\n",
    "Create three models: one predicting democratic backsliding based on the social cohesion data, one predicting it based on economic growth, and another that combines the two\n",
    "\n",
    "Create visualizations that show variable distributions and the relationship between most predictive dependent variables and backsliding\n",
    "\n",
    "Issue: There isn't enough social cohesion data"
   ]
  },
  {
   "cell_type": "markdown",
   "metadata": {
    "slideshow": {
     "slide_type": "slide"
    }
   },
   "source": [
    "## Data used\n",
    "\n",
    "Democracy and Institution Data:\n",
    "- Polity Project\n",
    "- Varieties of Democracy (V-Dem)\n",
    "\n",
    "Economic Data:\n",
    "- World Bank\n",
    "- Gapminder\n",
    "\n",
    "Only used data as far back as 1960\n",
    "\n",
    "Lots of missingness in the Econ Data"
   ]
  },
  {
   "cell_type": "markdown",
   "metadata": {
    "slideshow": {
     "slide_type": "slide"
    }
   },
   "source": [
    "## Data Manipulation\n",
    "\n",
    "Broke up V-Dems country data into 5 buckets:\n",
    "1. Access to Services\n",
    "2. Civil Liberties\n",
    "3. Civil Society\n",
    "4. Media Freedom\n",
    "5. Internal Strife\n",
    "\n",
    "Merged Econ Data:\n",
    "1. GDP change\n",
    "2. GDP per capita change\n",
    "3. Unemployment Rates\n",
    "4. Poverty Rates\n",
    "5. Gini coefficients"
   ]
  },
  {
   "cell_type": "markdown",
   "metadata": {
    "slideshow": {
     "slide_type": "subslide"
    }
   },
   "source": [
    "## Data Manipulation\n",
    "\n",
    "Standardized country names with country converter\n",
    "\n",
    "Lagged all the dependent variables\n",
    "\n",
    "Used year-over-year difference in Polity as the Y"
   ]
  },
  {
   "cell_type": "markdown",
   "metadata": {
    "slideshow": {
     "slide_type": "slide"
    }
   },
   "source": [
    "## Model\n",
    " \n",
    "SK Learn Pipeline with 4 classifiers:\n",
    "1. Naive Bayes\n",
    "2. K Nearest Neighbors\n",
    "    - Tuning on number of neighbors\n",
    "3. Decision Tree\n",
    "    - Tuning Max Depth\n",
    "4. Random Forest (Best Across the Board)\n",
    "    - Tuning on Max Depth, Number of Estimators, and Max Features"
   ]
  },
  {
   "cell_type": "markdown",
   "metadata": {
    "slideshow": {
     "slide_type": "slide"
    }
   },
   "source": [
    "## Preliminary Results"
   ]
  },
  {
   "cell_type": "markdown",
   "metadata": {
    "slideshow": {
     "slide_type": "fragment"
    }
   },
   "source": [
    "Accuracy Score: \n",
    "\n",
    "max: 0.9902912621359223\n",
    "\n",
    "min: 0.943342776203966\n",
    "\n",
    "avg: 0.958725797916388\n",
    "\n",
    "Seems pretty good right?"
   ]
  },
  {
   "cell_type": "markdown",
   "metadata": {
    "slideshow": {
     "slide_type": "subslide"
    }
   },
   "source": [
    "Percent of sample that is actually 0: roughly 95%\n",
    "![](Figures/y_distribution.png)"
   ]
  },
  {
   "cell_type": "markdown",
   "metadata": {
    "slideshow": {
     "slide_type": "subslide"
    }
   },
   "source": [
    "## Preliminary Results\n",
    "\n",
    "Balanced Accuracy Scores: \n",
    "\n",
    "Max: 0.5952380952380952 (Media)\n",
    "\n",
    "Min: 0.5 (Econ)\n",
    "\n",
    "Avg: 0.5399991534925244"
   ]
  },
  {
   "cell_type": "markdown",
   "metadata": {
    "slideshow": {
     "slide_type": "slide"
    }
   },
   "source": [
    "## Confusion matrix: \n",
    "\n",
    "<table><tr><td><img src='Figures/Media_Confusion_matrix.png'></td><td><img src='Figures/Strife_Confusion_matrix.png'></td></tr></table>"
   ]
  },
  {
   "cell_type": "markdown",
   "metadata": {
    "slideshow": {
     "slide_type": "slide"
    }
   },
   "source": [
    "## Variable Importance\n",
    "\n",
    "![](Figures/strife_importance.png)"
   ]
  },
  {
   "cell_type": "markdown",
   "metadata": {
    "slideshow": {
     "slide_type": "slide"
    }
   },
   "source": [
    "## Moving Forward: \n",
    "\n",
    "    - Different imputations for missingness\n",
    "    - Different lags (1 yr vs 5 yr)\n",
    "    - Try SVC classifier\n",
    "    - Run full model\n",
    "    - Create visualizations for variable effects and distributions\n",
    "    - If the model is predictive: Explore interactions\n",
    "    "
   ]
  },
  {
   "cell_type": "markdown",
   "metadata": {
    "slideshow": {
     "slide_type": "slide"
    }
   },
   "source": [
    "# Thank You!"
   ]
  }
 ],
 "metadata": {
  "celltoolbar": "Slideshow",
  "kernelspec": {
   "display_name": "Python 3",
   "language": "python",
   "name": "python3"
  },
  "language_info": {
   "codemirror_mode": {
    "name": "ipython",
    "version": 3
   },
   "file_extension": ".py",
   "mimetype": "text/x-python",
   "name": "python",
   "nbconvert_exporter": "python",
   "pygments_lexer": "ipython3",
   "version": "3.8.2"
  }
 },
 "nbformat": 4,
 "nbformat_minor": 4
}
