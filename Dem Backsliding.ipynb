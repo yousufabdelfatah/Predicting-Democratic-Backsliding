{
 "metadata": {
  "language_info": {
   "codemirror_mode": {
    "name": "ipython",
    "version": 3
   },
   "file_extension": ".py",
   "mimetype": "text/x-python",
   "name": "python",
   "nbconvert_exporter": "python",
   "pygments_lexer": "ipython3",
   "version": "3.8.2-final"
  },
  "orig_nbformat": 2,
  "kernelspec": {
   "name": "python3",
   "display_name": "Python 3"
  }
 },
 "nbformat": 4,
 "nbformat_minor": 2,
 "cells": [
  {
   "source": [
    "# Predicting Democratic Backsliding"
   ],
   "cell_type": "markdown",
   "metadata": {}
  },
  {
   "source": [
    "## Import Packages"
   ],
   "cell_type": "markdown",
   "metadata": {}
  },
  {
   "cell_type": "code",
   "execution_count": 42,
   "metadata": {},
   "outputs": [],
   "source": [
    "# Data Wrangling\n",
    "import pandas as pd\n",
    "import numpy as np\n",
    "import country_converter as coco\n",
    "import missingno as miss\n",
    "\n",
    "# Plotting libraries\n",
    "from plotnine import *\n",
    "import matplotlib.pyplot as plt\n",
    "\n",
    "# For pre-processing data \n",
    "from sklearn import preprocessing as pp \n",
    "from sklearn.compose import ColumnTransformer \n",
    "\n",
    "# For splits and CV\n",
    "from sklearn.model_selection import train_test_split\n",
    "from sklearn.model_selection import KFold # Cross validation \n",
    "from sklearn.model_selection import cross_validate # Cross validation \n",
    "from sklearn.model_selection import GridSearchCV # Cross validation + param. tuning.\n",
    "\n",
    "# Machine learning methods \n",
    "from sklearn.naive_bayes import GaussianNB as NB\n",
    "from sklearn.neighbors import KNeighborsClassifier as KNN\n",
    "from sklearn.tree import DecisionTreeClassifier as DT\n",
    "from sklearn.ensemble import RandomForestClassifier as RF\n",
    "from sklearn import tree # For plotting the decision tree rules\n",
    "\n",
    "# For evaluating our model's performance\n",
    "import sklearn.metrics as m\n",
    "\n",
    "# Pipeline to combine modeling elements\n",
    "from sklearn.pipeline import Pipeline\n",
    "\n",
    "# Model Interpretation\n",
    "from sklearn.inspection import partial_dependence\n",
    "from sklearn.inspection import plot_partial_dependence\n",
    "from sklearn.inspection import permutation_importance\n",
    "from pdpbox import pdp"
   ]
  },
  {
   "source": [
    "## Load the democracy data and select features"
   ],
   "cell_type": "markdown",
   "metadata": {}
  },
  {
   "cell_type": "code",
   "execution_count": 43,
   "metadata": {},
   "outputs": [],
   "source": [
    "vdem = pd.read_csv(\"Data/Country_Year_V-Dem_Full+others_CSV_v10/V-Dem-CY-Full+Others-v10.csv\")"
   ]
  },
  {
   "cell_type": "code",
   "execution_count": 44,
   "metadata": {},
   "outputs": [],
   "source": [
    "vdem = vdem.loc[vdem['year'] >= 1960]"
   ]
  },
  {
   "cell_type": "code",
   "execution_count": 45,
   "metadata": {},
   "outputs": [],
   "source": [
    "civil_liberties = vdem[[\"country_name\", \"year\", \"v2x_frassoc_thick\", \"v2x_suffr\", \"v2xel_frefair\", \"v2cltort\", \"v2clkill\", \"v2cltrnslw\", \"v2clrspct\", \"v2clacjust\", \"v2clsocgrp\", \"v2clacfree\", \"v2clrelig\", \"v2caassemb\", \"v2xcl_acjst\", \"v2x_clpol\", \"v2x_freexp\"]]"
   ]
  },
  {
   "cell_type": "code",
   "execution_count": 46,
   "metadata": {},
   "outputs": [],
   "source": [
    "civil_society = vdem[[\"country_name\", \"year\", \"v2x_cspart\", \"v2cseeorgs\", \"v2csreprss\", \"v2cscnsult\", \"v2csstruc_0\", \"v2csstruc_1\", \"v2csstruc_2\", \"v2csprtcpt\", \"v2csantimv\", \"v2csrlgrep\"]]"
   ]
  },
  {
   "cell_type": "code",
   "execution_count": 47,
   "metadata": {},
   "outputs": [],
   "source": [
    "media = vdem[[\"country_name\", \"year\", \"v2mecenefm\", \"v2mecenefi\", \"v2mecenefibin\", \"v2mecrit\", \"v2merange\", \"v2meharjrn\", \"v2mebias\"]]"
   ]
  },
  {
   "cell_type": "code",
   "execution_count": 48,
   "metadata": {},
   "outputs": [],
   "source": [
    "access_services = vdem[[\"country_name\", \"year\", \"v2pepwrses\", \"v2pepwrsoc\", \"v2peedueq\", \"v2pehealth\", \"v2peapsecon\", \"v2peasjsoecon\", \"v2peasbecon\", \"v2clgencl\", \"v2peapsgen\", \"v2pepwrgeo\", \"v2clgeocl\", \"v2peapsgeo\", \"v2peasjgeo\", \"v2peasbegeo\", \"v2clpolcl\", \"v2peapspol\", \"v2peasjpol\", \"v2peasbepol\"]]"
   ]
  },
  {
   "cell_type": "code",
   "execution_count": 49,
   "metadata": {},
   "outputs": [],
   "source": [
    "strife = vdem[[\"country_name\", \"year\", \"v2cacamps\", \"v2caviol\", \"v2cagenmob\", \"v2cademmob\", \"v2caautmob\", \"v2castate\", \"v2catrauni\", \"v2capolit\", \"v2canonpol\"]]"
   ]
  },
  {
   "cell_type": "code",
   "execution_count": 50,
   "metadata": {},
   "outputs": [],
   "source": [
    "polity_data = pd.read_csv(\"Data/p5v2018.csv\")"
   ]
  },
  {
   "cell_type": "code",
   "execution_count": 51,
   "metadata": {},
   "outputs": [],
   "source": [
    "polity_data = polity_data[[\"country\", \"year\", \"polity2\", \"durable\"]]"
   ]
  },
  {
   "cell_type": "code",
   "execution_count": 52,
   "metadata": {},
   "outputs": [],
   "source": [
    "polity_data = polity_data.loc[polity_data['year'] >= 1960]"
   ]
  },
  {
   "cell_type": "code",
   "execution_count": 53,
   "metadata": {},
   "outputs": [
    {
     "output_type": "execute_result",
     "data": {
      "text/plain": [
       "           country  year  polity2  durable\n",
       "160    Afghanistan  1960    -10.0      NaN\n",
       "161    Afghanistan  1961    -10.0      NaN\n",
       "162    Afghanistan  1962    -10.0      NaN\n",
       "163    Afghanistan  1963    -10.0      NaN\n",
       "164    Afghanistan  1964     -7.0      0.0\n",
       "...            ...   ...      ...      ...\n",
       "17543     Zimbabwe  2014      4.0      1.0\n",
       "17544     Zimbabwe  2015      4.0      2.0\n",
       "17545     Zimbabwe  2016      4.0      3.0\n",
       "17546     Zimbabwe  2017      4.0      4.0\n",
       "17547     Zimbabwe  2018      4.0      5.0\n",
       "\n",
       "[8798 rows x 4 columns]"
      ],
      "text/html": "<div>\n<style scoped>\n    .dataframe tbody tr th:only-of-type {\n        vertical-align: middle;\n    }\n\n    .dataframe tbody tr th {\n        vertical-align: top;\n    }\n\n    .dataframe thead th {\n        text-align: right;\n    }\n</style>\n<table border=\"1\" class=\"dataframe\">\n  <thead>\n    <tr style=\"text-align: right;\">\n      <th></th>\n      <th>country</th>\n      <th>year</th>\n      <th>polity2</th>\n      <th>durable</th>\n    </tr>\n  </thead>\n  <tbody>\n    <tr>\n      <th>160</th>\n      <td>Afghanistan</td>\n      <td>1960</td>\n      <td>-10.0</td>\n      <td>NaN</td>\n    </tr>\n    <tr>\n      <th>161</th>\n      <td>Afghanistan</td>\n      <td>1961</td>\n      <td>-10.0</td>\n      <td>NaN</td>\n    </tr>\n    <tr>\n      <th>162</th>\n      <td>Afghanistan</td>\n      <td>1962</td>\n      <td>-10.0</td>\n      <td>NaN</td>\n    </tr>\n    <tr>\n      <th>163</th>\n      <td>Afghanistan</td>\n      <td>1963</td>\n      <td>-10.0</td>\n      <td>NaN</td>\n    </tr>\n    <tr>\n      <th>164</th>\n      <td>Afghanistan</td>\n      <td>1964</td>\n      <td>-7.0</td>\n      <td>0.0</td>\n    </tr>\n    <tr>\n      <th>...</th>\n      <td>...</td>\n      <td>...</td>\n      <td>...</td>\n      <td>...</td>\n    </tr>\n    <tr>\n      <th>17543</th>\n      <td>Zimbabwe</td>\n      <td>2014</td>\n      <td>4.0</td>\n      <td>1.0</td>\n    </tr>\n    <tr>\n      <th>17544</th>\n      <td>Zimbabwe</td>\n      <td>2015</td>\n      <td>4.0</td>\n      <td>2.0</td>\n    </tr>\n    <tr>\n      <th>17545</th>\n      <td>Zimbabwe</td>\n      <td>2016</td>\n      <td>4.0</td>\n      <td>3.0</td>\n    </tr>\n    <tr>\n      <th>17546</th>\n      <td>Zimbabwe</td>\n      <td>2017</td>\n      <td>4.0</td>\n      <td>4.0</td>\n    </tr>\n    <tr>\n      <th>17547</th>\n      <td>Zimbabwe</td>\n      <td>2018</td>\n      <td>4.0</td>\n      <td>5.0</td>\n    </tr>\n  </tbody>\n</table>\n<p>8798 rows × 4 columns</p>\n</div>"
     },
     "metadata": {},
     "execution_count": 53
    }
   ],
   "source": [
    "polity_data"
   ]
  },
  {
   "source": [
    "## Load the econ data (what if we make this SOL data- life expectacny etc)"
   ],
   "cell_type": "markdown",
   "metadata": {}
  },
  {
   "cell_type": "code",
   "execution_count": 54,
   "metadata": {},
   "outputs": [],
   "source": [
    "# read in GDP per capita growth data\n",
    "GDPPC_growth = pd.read_csv(\"Data/gdp_per_capita_yearly_growth.csv\")"
   ]
  },
  {
   "cell_type": "code",
   "execution_count": 55,
   "metadata": {},
   "outputs": [],
   "source": [
    "# melt so that we have country year as units of observation\n",
    "GDPPC_growth = GDPPC_growth.melt(id_vars= 'country', var_name = 'year', value_name='GDPpc_growth')"
   ]
  },
  {
   "cell_type": "code",
   "execution_count": 56,
   "metadata": {},
   "outputs": [],
   "source": [
    "# change year to numeric\n",
    "GDPPC_growth['year'] = pd.to_numeric(GDPPC_growth['year'])"
   ]
  },
  {
   "cell_type": "code",
   "execution_count": 57,
   "metadata": {},
   "outputs": [],
   "source": [
    "# keep only observations from 1960 onwards\n",
    "GDPPC_growth = GDPPC_growth.loc[GDPPC_growth['year'] >= 1960]"
   ]
  },
  {
   "cell_type": "code",
   "execution_count": 58,
   "metadata": {},
   "outputs": [],
   "source": [
    "# read in real GDP growth data\n",
    "GDP_growth = pd.read_csv(\"Data/gdp_total_yearly_growth.csv\")"
   ]
  },
  {
   "cell_type": "code",
   "execution_count": 59,
   "metadata": {},
   "outputs": [],
   "source": [
    "# melt so that we have country year as units of observation\n",
    "GDP_growth = GDP_growth.melt(id_vars= 'country', var_name = 'year', value_name='GDP_growth')"
   ]
  },
  {
   "cell_type": "code",
   "execution_count": 60,
   "metadata": {},
   "outputs": [],
   "source": [
    "# change year to numeric\n",
    "GDP_growth['year'] = pd.to_numeric(GDP_growth['year'])"
   ]
  },
  {
   "cell_type": "code",
   "execution_count": 61,
   "metadata": {},
   "outputs": [],
   "source": [
    "# keep only observations from 1960 onwards\n",
    "GDP_growth = GDP_growth.loc[GDP_growth['year'] >= 1960]"
   ]
  },
  {
   "source": [
    "## Make sure countries line up"
   ],
   "cell_type": "markdown",
   "metadata": {}
  },
  {
   "cell_type": "code",
   "execution_count": 62,
   "metadata": {},
   "outputs": [
    {
     "output_type": "execute_result",
     "data": {
      "text/plain": [
       "194"
      ]
     },
     "metadata": {},
     "execution_count": 62
    }
   ],
   "source": [
    "len(np.intersect1d(GDP_growth.country, GDP_growth.country))"
   ]
  },
  {
   "cell_type": "code",
   "execution_count": 63,
   "metadata": {},
   "outputs": [
    {
     "output_type": "execute_result",
     "data": {
      "text/plain": [
       "194"
      ]
     },
     "metadata": {},
     "execution_count": 63
    }
   ],
   "source": [
    "len(GDP_growth.country.unique())"
   ]
  },
  {
   "cell_type": "code",
   "execution_count": 64,
   "metadata": {},
   "outputs": [
    {
     "output_type": "execute_result",
     "data": {
      "text/plain": [
       "182"
      ]
     },
     "metadata": {},
     "execution_count": 64
    }
   ],
   "source": [
    "len(vdem.country_name.unique())\n",
    "# vdems has less countries than gapminder and GDP"
   ]
  },
  {
   "cell_type": "code",
   "execution_count": 65,
   "metadata": {},
   "outputs": [
    {
     "output_type": "execute_result",
     "data": {
      "text/plain": [
       "180"
      ]
     },
     "metadata": {},
     "execution_count": 65
    }
   ],
   "source": [
    "len(polity_data.country.unique())"
   ]
  },
  {
   "cell_type": "code",
   "execution_count": 66,
   "metadata": {},
   "outputs": [],
   "source": [
    "#civil_liberties['country_name'] = civil_liberties.country_name.apply(lambda x: coco.convert(names=x, to='name_short'))"
   ]
  },
  {
   "cell_type": "code",
   "execution_count": 67,
   "metadata": {},
   "outputs": [
    {
     "output_type": "stream",
     "name": "stderr",
     "text": [
      "Republic of Vietnam not found in regex\n",
      "Republic of Vietnam not found in regex\n",
      "Republic of Vietnam not found in regex\n",
      "Republic of Vietnam not found in regex\n",
      "Republic of Vietnam not found in regex\n",
      "Republic of Vietnam not found in regex\n",
      "Republic of Vietnam not found in regex\n",
      "Republic of Vietnam not found in regex\n",
      "Republic of Vietnam not found in regex\n",
      "Republic of Vietnam not found in regex\n",
      "Republic of Vietnam not found in regex\n",
      "Republic of Vietnam not found in regex\n",
      "Republic of Vietnam not found in regex\n",
      "Republic of Vietnam not found in regex\n",
      "Republic of Vietnam not found in regex\n",
      "Republic of Vietnam not found in regex\n",
      "German Democratic Republic not found in regex\n",
      "German Democratic Republic not found in regex\n",
      "German Democratic Republic not found in regex\n",
      "German Democratic Republic not found in regex\n",
      "German Democratic Republic not found in regex\n",
      "German Democratic Republic not found in regex\n",
      "German Democratic Republic not found in regex\n",
      "German Democratic Republic not found in regex\n",
      "German Democratic Republic not found in regex\n",
      "German Democratic Republic not found in regex\n",
      "German Democratic Republic not found in regex\n",
      "German Democratic Republic not found in regex\n",
      "German Democratic Republic not found in regex\n",
      "German Democratic Republic not found in regex\n",
      "German Democratic Republic not found in regex\n",
      "German Democratic Republic not found in regex\n",
      "German Democratic Republic not found in regex\n",
      "German Democratic Republic not found in regex\n",
      "German Democratic Republic not found in regex\n",
      "German Democratic Republic not found in regex\n",
      "German Democratic Republic not found in regex\n",
      "German Democratic Republic not found in regex\n",
      "German Democratic Republic not found in regex\n",
      "German Democratic Republic not found in regex\n",
      "German Democratic Republic not found in regex\n",
      "German Democratic Republic not found in regex\n",
      "German Democratic Republic not found in regex\n",
      "German Democratic Republic not found in regex\n",
      "German Democratic Republic not found in regex\n",
      "German Democratic Republic not found in regex\n",
      "German Democratic Republic not found in regex\n",
      "Zanzibar not found in regex\n",
      "Zanzibar not found in regex\n",
      "Zanzibar not found in regex\n",
      "Zanzibar not found in regex\n",
      "Zanzibar not found in regex\n",
      "Zanzibar not found in regex\n",
      "Zanzibar not found in regex\n",
      "Zanzibar not found in regex\n",
      "Zanzibar not found in regex\n",
      "Zanzibar not found in regex\n",
      "Zanzibar not found in regex\n",
      "Zanzibar not found in regex\n",
      "Zanzibar not found in regex\n",
      "Zanzibar not found in regex\n",
      "Zanzibar not found in regex\n",
      "Zanzibar not found in regex\n",
      "Zanzibar not found in regex\n",
      "Zanzibar not found in regex\n",
      "Zanzibar not found in regex\n",
      "Zanzibar not found in regex\n",
      "Zanzibar not found in regex\n",
      "Zanzibar not found in regex\n",
      "Zanzibar not found in regex\n",
      "Zanzibar not found in regex\n",
      "Zanzibar not found in regex\n",
      "Zanzibar not found in regex\n",
      "Zanzibar not found in regex\n",
      "Zanzibar not found in regex\n",
      "Zanzibar not found in regex\n",
      "Zanzibar not found in regex\n",
      "Zanzibar not found in regex\n",
      "Zanzibar not found in regex\n",
      "Zanzibar not found in regex\n",
      "Zanzibar not found in regex\n",
      "Zanzibar not found in regex\n",
      "Zanzibar not found in regex\n",
      "Zanzibar not found in regex\n",
      "Zanzibar not found in regex\n",
      "Zanzibar not found in regex\n",
      "Zanzibar not found in regex\n",
      "Zanzibar not found in regex\n",
      "Zanzibar not found in regex\n",
      "Zanzibar not found in regex\n",
      "Zanzibar not found in regex\n",
      "Zanzibar not found in regex\n",
      "Zanzibar not found in regex\n",
      "Zanzibar not found in regex\n",
      "Zanzibar not found in regex\n",
      "Zanzibar not found in regex\n",
      "Zanzibar not found in regex\n",
      "Zanzibar not found in regex\n",
      "Zanzibar not found in regex\n",
      "Zanzibar not found in regex\n",
      "Zanzibar not found in regex\n",
      "Zanzibar not found in regex\n",
      "Zanzibar not found in regex\n",
      "Zanzibar not found in regex\n",
      "Zanzibar not found in regex\n",
      "Zanzibar not found in regex\n",
      "Zanzibar not found in regex\n"
     ]
    }
   ],
   "source": [
    "# standardize country names with country-converter than keep the countries that overlap\n",
    "vdem_names = civil_liberties.country_name.to_list()\n",
    "vdem_names = coco.convert(vdem_names, to = 'name_short', not_found = None)"
   ]
  },
  {
   "cell_type": "code",
   "execution_count": 68,
   "metadata": {},
   "outputs": [
    {
     "output_type": "stream",
     "name": "stderr",
     "text": [
      "Vietnam North not found in regex\n",
      "Vietnam North not found in regex\n",
      "Vietnam North not found in regex\n",
      "Vietnam North not found in regex\n",
      "Vietnam North not found in regex\n",
      "Vietnam North not found in regex\n",
      "Vietnam North not found in regex\n",
      "Vietnam North not found in regex\n",
      "Vietnam North not found in regex\n",
      "Vietnam North not found in regex\n",
      "Vietnam North not found in regex\n",
      "Vietnam North not found in regex\n",
      "Vietnam North not found in regex\n",
      "Vietnam North not found in regex\n",
      "Vietnam North not found in regex\n",
      "Vietnam North not found in regex\n",
      "Vietnam North not found in regex\n",
      "Germany East not found in regex\n",
      "Germany East not found in regex\n",
      "Germany East not found in regex\n",
      "Germany East not found in regex\n",
      "Germany East not found in regex\n",
      "Germany East not found in regex\n",
      "Germany East not found in regex\n",
      "Germany East not found in regex\n",
      "Germany East not found in regex\n",
      "Germany East not found in regex\n",
      "Germany East not found in regex\n",
      "Germany East not found in regex\n",
      "Germany East not found in regex\n",
      "Germany East not found in regex\n",
      "Germany East not found in regex\n",
      "Germany East not found in regex\n",
      "Germany East not found in regex\n",
      "Germany East not found in regex\n",
      "Germany East not found in regex\n",
      "Germany East not found in regex\n",
      "Germany East not found in regex\n",
      "Germany East not found in regex\n",
      "Germany East not found in regex\n",
      "Germany East not found in regex\n",
      "Germany East not found in regex\n",
      "Germany East not found in regex\n",
      "Germany East not found in regex\n",
      "Germany East not found in regex\n",
      "Germany East not found in regex\n",
      "Germany East not found in regex\n",
      "Germany East not found in regex\n",
      "Germany West not found in regex\n",
      "Germany West not found in regex\n",
      "Germany West not found in regex\n",
      "Germany West not found in regex\n",
      "Germany West not found in regex\n",
      "Germany West not found in regex\n",
      "Germany West not found in regex\n",
      "Germany West not found in regex\n",
      "Germany West not found in regex\n",
      "Germany West not found in regex\n",
      "Germany West not found in regex\n",
      "Germany West not found in regex\n",
      "Germany West not found in regex\n",
      "Germany West not found in regex\n",
      "Germany West not found in regex\n",
      "Germany West not found in regex\n",
      "Germany West not found in regex\n",
      "Germany West not found in regex\n",
      "Germany West not found in regex\n",
      "Germany West not found in regex\n",
      "Germany West not found in regex\n",
      "Germany West not found in regex\n",
      "Germany West not found in regex\n",
      "Germany West not found in regex\n",
      "Germany West not found in regex\n",
      "Germany West not found in regex\n",
      "Germany West not found in regex\n",
      "Germany West not found in regex\n",
      "Germany West not found in regex\n",
      "Germany West not found in regex\n",
      "Germany West not found in regex\n",
      "South Vietnam not found in regex\n",
      "South Vietnam not found in regex\n",
      "South Vietnam not found in regex\n",
      "South Vietnam not found in regex\n",
      "South Vietnam not found in regex\n",
      "South Vietnam not found in regex\n",
      "South Vietnam not found in regex\n",
      "South Vietnam not found in regex\n",
      "South Vietnam not found in regex\n",
      "South Vietnam not found in regex\n",
      "South Vietnam not found in regex\n",
      "South Vietnam not found in regex\n",
      "South Vietnam not found in regex\n",
      "South Vietnam not found in regex\n",
      "South Vietnam not found in regex\n",
      "South Vietnam not found in regex\n",
      "UAE not found in ISO3\n",
      "UAE not found in ISO3\n",
      "UAE not found in ISO3\n",
      "UAE not found in ISO3\n",
      "UAE not found in ISO3\n",
      "UAE not found in ISO3\n",
      "UAE not found in ISO3\n",
      "UAE not found in ISO3\n",
      "UAE not found in ISO3\n",
      "UAE not found in ISO3\n",
      "UAE not found in ISO3\n",
      "UAE not found in ISO3\n",
      "UAE not found in ISO3\n",
      "UAE not found in ISO3\n",
      "UAE not found in ISO3\n",
      "UAE not found in ISO3\n",
      "UAE not found in ISO3\n",
      "UAE not found in ISO3\n",
      "UAE not found in ISO3\n",
      "UAE not found in ISO3\n",
      "UAE not found in ISO3\n",
      "UAE not found in ISO3\n",
      "UAE not found in ISO3\n",
      "UAE not found in ISO3\n",
      "UAE not found in ISO3\n",
      "UAE not found in ISO3\n",
      "UAE not found in ISO3\n",
      "UAE not found in ISO3\n",
      "UAE not found in ISO3\n",
      "UAE not found in ISO3\n",
      "UAE not found in ISO3\n",
      "UAE not found in ISO3\n",
      "UAE not found in ISO3\n",
      "UAE not found in ISO3\n",
      "UAE not found in ISO3\n",
      "UAE not found in ISO3\n",
      "UAE not found in ISO3\n",
      "UAE not found in ISO3\n",
      "UAE not found in ISO3\n",
      "UAE not found in ISO3\n",
      "UAE not found in ISO3\n",
      "UAE not found in ISO3\n",
      "UAE not found in ISO3\n",
      "UAE not found in ISO3\n",
      "UAE not found in ISO3\n",
      "UAE not found in ISO3\n",
      "UAE not found in ISO3\n",
      "UAE not found in ISO3\n",
      "USSR not found in regex\n",
      "USSR not found in regex\n",
      "USSR not found in regex\n",
      "USSR not found in regex\n",
      "USSR not found in regex\n",
      "USSR not found in regex\n",
      "USSR not found in regex\n",
      "USSR not found in regex\n",
      "USSR not found in regex\n",
      "USSR not found in regex\n",
      "USSR not found in regex\n",
      "USSR not found in regex\n",
      "USSR not found in regex\n",
      "USSR not found in regex\n",
      "USSR not found in regex\n",
      "USSR not found in regex\n",
      "USSR not found in regex\n",
      "USSR not found in regex\n",
      "USSR not found in regex\n",
      "USSR not found in regex\n",
      "USSR not found in regex\n",
      "USSR not found in regex\n",
      "USSR not found in regex\n",
      "USSR not found in regex\n",
      "USSR not found in regex\n",
      "USSR not found in regex\n",
      "USSR not found in regex\n",
      "USSR not found in regex\n",
      "USSR not found in regex\n",
      "USSR not found in regex\n",
      "USSR not found in regex\n",
      "USSR not found in regex\n",
      "Yugoslavia not found in regex\n",
      "Yugoslavia not found in regex\n",
      "Yugoslavia not found in regex\n",
      "Yugoslavia not found in regex\n",
      "Yugoslavia not found in regex\n",
      "Yugoslavia not found in regex\n",
      "Yugoslavia not found in regex\n",
      "Yugoslavia not found in regex\n",
      "Yugoslavia not found in regex\n",
      "Yugoslavia not found in regex\n",
      "Yugoslavia not found in regex\n",
      "Yugoslavia not found in regex\n",
      "Serbia and Montenegro not found in regex\n",
      "Serbia and Montenegro not found in regex\n",
      "Serbia and Montenegro not found in regex\n",
      "Serbia and Montenegro not found in regex\n",
      "Yugoslavia not found in regex\n",
      "Yugoslavia not found in regex\n",
      "Yugoslavia not found in regex\n",
      "Yugoslavia not found in regex\n",
      "Yugoslavia not found in regex\n",
      "Yugoslavia not found in regex\n",
      "Yugoslavia not found in regex\n",
      "Yugoslavia not found in regex\n",
      "Yugoslavia not found in regex\n",
      "Yugoslavia not found in regex\n",
      "Yugoslavia not found in regex\n",
      "Yugoslavia not found in regex\n",
      "Yugoslavia not found in regex\n",
      "Yugoslavia not found in regex\n",
      "Yugoslavia not found in regex\n",
      "Yugoslavia not found in regex\n",
      "Yugoslavia not found in regex\n",
      "Yugoslavia not found in regex\n",
      "Yugoslavia not found in regex\n",
      "Yugoslavia not found in regex\n",
      "Yugoslavia not found in regex\n",
      "Yugoslavia not found in regex\n",
      "Yugoslavia not found in regex\n",
      "Yugoslavia not found in regex\n",
      "Yugoslavia not found in regex\n",
      "Yugoslavia not found in regex\n",
      "Yugoslavia not found in regex\n",
      "Yugoslavia not found in regex\n",
      "Yugoslavia not found in regex\n",
      "Yugoslavia not found in regex\n",
      "Yugoslavia not found in regex\n",
      "Yugoslavia not found in regex\n"
     ]
    }
   ],
   "source": [
    "polity_names = polity_data.country.tolist()\n",
    "polity_names = coco.convert(polity_names, to = 'name_short')"
   ]
  },
  {
   "cell_type": "code",
   "execution_count": 69,
   "metadata": {},
   "outputs": [],
   "source": [
    "polity_data[\"country\"] = polity_names\n",
    "access_services[\"country_name\"] = vdem_names\n",
    "civil_liberties[\"country_name\"] = vdem_names\n",
    "civil_society[\"country_name\"] = vdem_names\n",
    "media[\"country_name\"] = vdem_names\n",
    "strife[\"country_name\"] = vdem_names"
   ]
  },
  {
   "cell_type": "code",
   "execution_count": 70,
   "metadata": {},
   "outputs": [],
   "source": [
    "polity_names = pd.Series(polity_names)\n",
    "vdem_names = pd.Series(vdem_names)"
   ]
  },
  {
   "cell_type": "code",
   "execution_count": 71,
   "metadata": {},
   "outputs": [],
   "source": [
    "intersection = pd.Series(np.intersect1d(polity_names, vdem_names))"
   ]
  },
  {
   "cell_type": "code",
   "execution_count": 72,
   "metadata": {},
   "outputs": [],
   "source": [
    "polity_data = polity_data[polity_data[\"country\"].isin(intersection)]\n",
    "access_services = access_services[access_services[\"country_name\"].isin(intersection)]\n",
    "civil_liberties = civil_liberties[civil_liberties[\"country_name\"].isin(intersection)]\n",
    "civil_society = civil_society[civil_society[\"country_name\"].isin(intersection)]\n",
    "media = media[media[\"country_name\"].isin(intersection)]\n",
    "strife = strife[strife[\"country_name\"].isin(intersection)]"
   ]
  },
  {
   "source": [
    "## Wrangle institution data"
   ],
   "cell_type": "markdown",
   "metadata": {}
  },
  {
   "cell_type": "code",
   "execution_count": 73,
   "metadata": {},
   "outputs": [],
   "source": [
    "# Set country and year as index for X variables\n",
    "# should I combine the two or should I set a multi index\n",
    "access_services.set_index([\"country_name\", \"year\"], inplace=True)\n",
    "civil_liberties.set_index([\"country_name\", \"year\"], inplace=True)\n",
    "civil_society.set_index([\"country_name\", \"year\"], inplace=True)\n",
    "media.set_index([\"country_name\", \"year\"], inplace=True)\n",
    "strife.set_index([\"country_name\", \"year\"], inplace=True)"
   ]
  },
  {
   "cell_type": "code",
   "execution_count": 74,
   "metadata": {},
   "outputs": [],
   "source": [
    "# lag variables- previous year\n",
    "strife = strife.groupby(\"country_name\").shift()\n",
    "media = media.groupby(\"country_name\").shift()"
   ]
  },
  {
   "cell_type": "code",
   "execution_count": 75,
   "metadata": {},
   "outputs": [],
   "source": [
    "# for the y let's drop durable for now\n",
    "polity_data.drop(columns = \"durable\", inplace=True)"
   ]
  },
  {
   "cell_type": "code",
   "execution_count": 76,
   "metadata": {},
   "outputs": [],
   "source": [
    "# Create variable to show change in polity score\n",
    "shifted_polity = polity_data.groupby(\"country\").apply(lambda x: x - x.shift(1))"
   ]
  },
  {
   "cell_type": "code",
   "execution_count": 77,
   "metadata": {},
   "outputs": [],
   "source": [
    "polity_data[\"change in polity\"] = shifted_polity.polity2"
   ]
  },
  {
   "cell_type": "code",
   "execution_count": 78,
   "metadata": {},
   "outputs": [],
   "source": [
    "# create binary variable for presence of backsliding\n",
    "polity_data[\"backsliding\"] = np.where(polity_data[\"change in polity\"] >= 0, 0, 1) "
   ]
  },
  {
   "cell_type": "code",
   "execution_count": 79,
   "metadata": {},
   "outputs": [],
   "source": [
    "# set country year index for Y\n",
    "polity_data.set_index([\"country\", \"year\"], inplace=True)"
   ]
  },
  {
   "cell_type": "code",
   "execution_count": 80,
   "metadata": {},
   "outputs": [
    {
     "output_type": "execute_result",
     "data": {
      "text/plain": [
       "                  polity2  change in polity  backsliding\n",
       "country     year                                        \n",
       "Afghanistan 1960    -10.0               NaN            1\n",
       "            1961    -10.0               0.0            0\n",
       "            1962    -10.0               0.0            0\n",
       "            1963    -10.0               0.0            0\n",
       "            1964     -7.0               3.0            0\n",
       "...                   ...               ...          ...\n",
       "Zimbabwe    2014      4.0               0.0            0\n",
       "            2015      4.0               0.0            0\n",
       "            2016      4.0               0.0            0\n",
       "            2017      4.0               0.0            0\n",
       "            2018      4.0               0.0            0\n",
       "\n",
       "[8575 rows x 3 columns]"
      ],
      "text/html": "<div>\n<style scoped>\n    .dataframe tbody tr th:only-of-type {\n        vertical-align: middle;\n    }\n\n    .dataframe tbody tr th {\n        vertical-align: top;\n    }\n\n    .dataframe thead th {\n        text-align: right;\n    }\n</style>\n<table border=\"1\" class=\"dataframe\">\n  <thead>\n    <tr style=\"text-align: right;\">\n      <th></th>\n      <th></th>\n      <th>polity2</th>\n      <th>change in polity</th>\n      <th>backsliding</th>\n    </tr>\n    <tr>\n      <th>country</th>\n      <th>year</th>\n      <th></th>\n      <th></th>\n      <th></th>\n    </tr>\n  </thead>\n  <tbody>\n    <tr>\n      <th rowspan=\"5\" valign=\"top\">Afghanistan</th>\n      <th>1960</th>\n      <td>-10.0</td>\n      <td>NaN</td>\n      <td>1</td>\n    </tr>\n    <tr>\n      <th>1961</th>\n      <td>-10.0</td>\n      <td>0.0</td>\n      <td>0</td>\n    </tr>\n    <tr>\n      <th>1962</th>\n      <td>-10.0</td>\n      <td>0.0</td>\n      <td>0</td>\n    </tr>\n    <tr>\n      <th>1963</th>\n      <td>-10.0</td>\n      <td>0.0</td>\n      <td>0</td>\n    </tr>\n    <tr>\n      <th>1964</th>\n      <td>-7.0</td>\n      <td>3.0</td>\n      <td>0</td>\n    </tr>\n    <tr>\n      <th>...</th>\n      <th>...</th>\n      <td>...</td>\n      <td>...</td>\n      <td>...</td>\n    </tr>\n    <tr>\n      <th rowspan=\"5\" valign=\"top\">Zimbabwe</th>\n      <th>2014</th>\n      <td>4.0</td>\n      <td>0.0</td>\n      <td>0</td>\n    </tr>\n    <tr>\n      <th>2015</th>\n      <td>4.0</td>\n      <td>0.0</td>\n      <td>0</td>\n    </tr>\n    <tr>\n      <th>2016</th>\n      <td>4.0</td>\n      <td>0.0</td>\n      <td>0</td>\n    </tr>\n    <tr>\n      <th>2017</th>\n      <td>4.0</td>\n      <td>0.0</td>\n      <td>0</td>\n    </tr>\n    <tr>\n      <th>2018</th>\n      <td>4.0</td>\n      <td>0.0</td>\n      <td>0</td>\n    </tr>\n  </tbody>\n</table>\n<p>8575 rows × 3 columns</p>\n</div>"
     },
     "metadata": {},
     "execution_count": 80
    }
   ],
   "source": [
    "polity_data"
   ]
  },
  {
   "cell_type": "code",
   "execution_count": 81,
   "metadata": {},
   "outputs": [],
   "source": [
    "polity_data.drop(columns = [\"polity2\", \"change in polity\"], inplace=True)"
   ]
  },
  {
   "cell_type": "code",
   "execution_count": 82,
   "metadata": {},
   "outputs": [],
   "source": [
    "# Merge Data\n",
    "strife = polity_data.merge(strife, how = \"inner\", left_index = True, right_on = ['country_name', 'year'])"
   ]
  },
  {
   "cell_type": "code",
   "execution_count": 83,
   "metadata": {},
   "outputs": [
    {
     "output_type": "execute_result",
     "data": {
      "text/plain": [
       "                   backsliding  v2cacamps  v2caviol  v2cagenmob  v2cademmob  \\\n",
       "country_name year                                                             \n",
       "Afghanistan  1960            1        NaN       NaN         NaN         NaN   \n",
       "             1961            0        NaN       NaN         NaN         NaN   \n",
       "             1962            0        NaN       NaN         NaN         NaN   \n",
       "             1963            0        NaN       NaN         NaN         NaN   \n",
       "             1964            0        NaN       NaN         NaN         NaN   \n",
       "...                        ...        ...       ...         ...         ...   \n",
       "Zimbabwe     2014            0      2.124     1.780       2.116       1.438   \n",
       "             2015            0      2.598     1.695       2.116       1.106   \n",
       "             2016            0      2.598     1.695       2.371       1.106   \n",
       "             2017            0      3.005     1.984       2.876       2.597   \n",
       "             2018            0      2.951     1.982       3.422       2.597   \n",
       "\n",
       "                   v2caautmob  v2castate  v2catrauni  v2capolit  v2canonpol  \n",
       "country_name year                                                            \n",
       "Afghanistan  1960         NaN        NaN         NaN        NaN         NaN  \n",
       "             1961         NaN        NaN         NaN        NaN         NaN  \n",
       "             1962         NaN        NaN         NaN        NaN         NaN  \n",
       "             1963         NaN        NaN         NaN        NaN         NaN  \n",
       "             1964         NaN        NaN         NaN        NaN         NaN  \n",
       "...                       ...        ...         ...        ...         ...  \n",
       "Zimbabwe     2014       3.047      2.126       0.940      2.696       2.234  \n",
       "             2015       2.295      1.856       0.596      2.696       2.234  \n",
       "             2016       2.295      1.856       0.596      2.696       2.234  \n",
       "             2017       2.295      1.856       0.596      2.696       2.234  \n",
       "             2018       3.040      1.688       0.596      2.696       2.234  \n",
       "\n",
       "[8658 rows x 10 columns]"
      ],
      "text/html": "<div>\n<style scoped>\n    .dataframe tbody tr th:only-of-type {\n        vertical-align: middle;\n    }\n\n    .dataframe tbody tr th {\n        vertical-align: top;\n    }\n\n    .dataframe thead th {\n        text-align: right;\n    }\n</style>\n<table border=\"1\" class=\"dataframe\">\n  <thead>\n    <tr style=\"text-align: right;\">\n      <th></th>\n      <th></th>\n      <th>backsliding</th>\n      <th>v2cacamps</th>\n      <th>v2caviol</th>\n      <th>v2cagenmob</th>\n      <th>v2cademmob</th>\n      <th>v2caautmob</th>\n      <th>v2castate</th>\n      <th>v2catrauni</th>\n      <th>v2capolit</th>\n      <th>v2canonpol</th>\n    </tr>\n    <tr>\n      <th>country_name</th>\n      <th>year</th>\n      <th></th>\n      <th></th>\n      <th></th>\n      <th></th>\n      <th></th>\n      <th></th>\n      <th></th>\n      <th></th>\n      <th></th>\n      <th></th>\n    </tr>\n  </thead>\n  <tbody>\n    <tr>\n      <th rowspan=\"5\" valign=\"top\">Afghanistan</th>\n      <th>1960</th>\n      <td>1</td>\n      <td>NaN</td>\n      <td>NaN</td>\n      <td>NaN</td>\n      <td>NaN</td>\n      <td>NaN</td>\n      <td>NaN</td>\n      <td>NaN</td>\n      <td>NaN</td>\n      <td>NaN</td>\n    </tr>\n    <tr>\n      <th>1961</th>\n      <td>0</td>\n      <td>NaN</td>\n      <td>NaN</td>\n      <td>NaN</td>\n      <td>NaN</td>\n      <td>NaN</td>\n      <td>NaN</td>\n      <td>NaN</td>\n      <td>NaN</td>\n      <td>NaN</td>\n    </tr>\n    <tr>\n      <th>1962</th>\n      <td>0</td>\n      <td>NaN</td>\n      <td>NaN</td>\n      <td>NaN</td>\n      <td>NaN</td>\n      <td>NaN</td>\n      <td>NaN</td>\n      <td>NaN</td>\n      <td>NaN</td>\n      <td>NaN</td>\n    </tr>\n    <tr>\n      <th>1963</th>\n      <td>0</td>\n      <td>NaN</td>\n      <td>NaN</td>\n      <td>NaN</td>\n      <td>NaN</td>\n      <td>NaN</td>\n      <td>NaN</td>\n      <td>NaN</td>\n      <td>NaN</td>\n      <td>NaN</td>\n    </tr>\n    <tr>\n      <th>1964</th>\n      <td>0</td>\n      <td>NaN</td>\n      <td>NaN</td>\n      <td>NaN</td>\n      <td>NaN</td>\n      <td>NaN</td>\n      <td>NaN</td>\n      <td>NaN</td>\n      <td>NaN</td>\n      <td>NaN</td>\n    </tr>\n    <tr>\n      <th>...</th>\n      <th>...</th>\n      <td>...</td>\n      <td>...</td>\n      <td>...</td>\n      <td>...</td>\n      <td>...</td>\n      <td>...</td>\n      <td>...</td>\n      <td>...</td>\n      <td>...</td>\n      <td>...</td>\n    </tr>\n    <tr>\n      <th rowspan=\"5\" valign=\"top\">Zimbabwe</th>\n      <th>2014</th>\n      <td>0</td>\n      <td>2.124</td>\n      <td>1.780</td>\n      <td>2.116</td>\n      <td>1.438</td>\n      <td>3.047</td>\n      <td>2.126</td>\n      <td>0.940</td>\n      <td>2.696</td>\n      <td>2.234</td>\n    </tr>\n    <tr>\n      <th>2015</th>\n      <td>0</td>\n      <td>2.598</td>\n      <td>1.695</td>\n      <td>2.116</td>\n      <td>1.106</td>\n      <td>2.295</td>\n      <td>1.856</td>\n      <td>0.596</td>\n      <td>2.696</td>\n      <td>2.234</td>\n    </tr>\n    <tr>\n      <th>2016</th>\n      <td>0</td>\n      <td>2.598</td>\n      <td>1.695</td>\n      <td>2.371</td>\n      <td>1.106</td>\n      <td>2.295</td>\n      <td>1.856</td>\n      <td>0.596</td>\n      <td>2.696</td>\n      <td>2.234</td>\n    </tr>\n    <tr>\n      <th>2017</th>\n      <td>0</td>\n      <td>3.005</td>\n      <td>1.984</td>\n      <td>2.876</td>\n      <td>2.597</td>\n      <td>2.295</td>\n      <td>1.856</td>\n      <td>0.596</td>\n      <td>2.696</td>\n      <td>2.234</td>\n    </tr>\n    <tr>\n      <th>2018</th>\n      <td>0</td>\n      <td>2.951</td>\n      <td>1.982</td>\n      <td>3.422</td>\n      <td>2.597</td>\n      <td>3.040</td>\n      <td>1.688</td>\n      <td>0.596</td>\n      <td>2.696</td>\n      <td>2.234</td>\n    </tr>\n  </tbody>\n</table>\n<p>8658 rows × 10 columns</p>\n</div>"
     },
     "metadata": {},
     "execution_count": 83
    }
   ],
   "source": [
    "strife"
   ]
  },
  {
   "source": [
    "## Split the data"
   ],
   "cell_type": "markdown",
   "metadata": {}
  },
  {
   "cell_type": "code",
   "execution_count": 85,
   "metadata": {},
   "outputs": [],
   "source": [
    "# split strife\n",
    "y = strife.backsliding\n",
    "X = strife.drop(columns=\"backsliding\")\n",
    "train_X, test_X, train_y, test_y = train_test_split(X,y,test_size = .25,random_state=202011)"
   ]
  },
  {
   "cell_type": "code",
   "execution_count": 86,
   "metadata": {},
   "outputs": [
    {
     "output_type": "execute_result",
     "data": {
      "text/plain": [
       "                   backsliding  v2cacamps  v2caviol  v2cagenmob  v2cademmob  \\\n",
       "country_name year                                                             \n",
       "Afghanistan  1960            1        NaN       NaN         NaN         NaN   \n",
       "             1961            0        NaN       NaN         NaN         NaN   \n",
       "             1962            0        NaN       NaN         NaN         NaN   \n",
       "             1963            0        NaN       NaN         NaN         NaN   \n",
       "             1964            0        NaN       NaN         NaN         NaN   \n",
       "...                        ...        ...       ...         ...         ...   \n",
       "Zimbabwe     2014            0      2.124     1.780       2.116       1.438   \n",
       "             2015            0      2.598     1.695       2.116       1.106   \n",
       "             2016            0      2.598     1.695       2.371       1.106   \n",
       "             2017            0      3.005     1.984       2.876       2.597   \n",
       "             2018            0      2.951     1.982       3.422       2.597   \n",
       "\n",
       "                   v2caautmob  v2castate  v2catrauni  v2capolit  v2canonpol  \n",
       "country_name year                                                            \n",
       "Afghanistan  1960         NaN        NaN         NaN        NaN         NaN  \n",
       "             1961         NaN        NaN         NaN        NaN         NaN  \n",
       "             1962         NaN        NaN         NaN        NaN         NaN  \n",
       "             1963         NaN        NaN         NaN        NaN         NaN  \n",
       "             1964         NaN        NaN         NaN        NaN         NaN  \n",
       "...                       ...        ...         ...        ...         ...  \n",
       "Zimbabwe     2014       3.047      2.126       0.940      2.696       2.234  \n",
       "             2015       2.295      1.856       0.596      2.696       2.234  \n",
       "             2016       2.295      1.856       0.596      2.696       2.234  \n",
       "             2017       2.295      1.856       0.596      2.696       2.234  \n",
       "             2018       3.040      1.688       0.596      2.696       2.234  \n",
       "\n",
       "[8658 rows x 10 columns]"
      ],
      "text/html": "<div>\n<style scoped>\n    .dataframe tbody tr th:only-of-type {\n        vertical-align: middle;\n    }\n\n    .dataframe tbody tr th {\n        vertical-align: top;\n    }\n\n    .dataframe thead th {\n        text-align: right;\n    }\n</style>\n<table border=\"1\" class=\"dataframe\">\n  <thead>\n    <tr style=\"text-align: right;\">\n      <th></th>\n      <th></th>\n      <th>backsliding</th>\n      <th>v2cacamps</th>\n      <th>v2caviol</th>\n      <th>v2cagenmob</th>\n      <th>v2cademmob</th>\n      <th>v2caautmob</th>\n      <th>v2castate</th>\n      <th>v2catrauni</th>\n      <th>v2capolit</th>\n      <th>v2canonpol</th>\n    </tr>\n    <tr>\n      <th>country_name</th>\n      <th>year</th>\n      <th></th>\n      <th></th>\n      <th></th>\n      <th></th>\n      <th></th>\n      <th></th>\n      <th></th>\n      <th></th>\n      <th></th>\n      <th></th>\n    </tr>\n  </thead>\n  <tbody>\n    <tr>\n      <th rowspan=\"5\" valign=\"top\">Afghanistan</th>\n      <th>1960</th>\n      <td>1</td>\n      <td>NaN</td>\n      <td>NaN</td>\n      <td>NaN</td>\n      <td>NaN</td>\n      <td>NaN</td>\n      <td>NaN</td>\n      <td>NaN</td>\n      <td>NaN</td>\n      <td>NaN</td>\n    </tr>\n    <tr>\n      <th>1961</th>\n      <td>0</td>\n      <td>NaN</td>\n      <td>NaN</td>\n      <td>NaN</td>\n      <td>NaN</td>\n      <td>NaN</td>\n      <td>NaN</td>\n      <td>NaN</td>\n      <td>NaN</td>\n      <td>NaN</td>\n    </tr>\n    <tr>\n      <th>1962</th>\n      <td>0</td>\n      <td>NaN</td>\n      <td>NaN</td>\n      <td>NaN</td>\n      <td>NaN</td>\n      <td>NaN</td>\n      <td>NaN</td>\n      <td>NaN</td>\n      <td>NaN</td>\n      <td>NaN</td>\n    </tr>\n    <tr>\n      <th>1963</th>\n      <td>0</td>\n      <td>NaN</td>\n      <td>NaN</td>\n      <td>NaN</td>\n      <td>NaN</td>\n      <td>NaN</td>\n      <td>NaN</td>\n      <td>NaN</td>\n      <td>NaN</td>\n      <td>NaN</td>\n    </tr>\n    <tr>\n      <th>1964</th>\n      <td>0</td>\n      <td>NaN</td>\n      <td>NaN</td>\n      <td>NaN</td>\n      <td>NaN</td>\n      <td>NaN</td>\n      <td>NaN</td>\n      <td>NaN</td>\n      <td>NaN</td>\n      <td>NaN</td>\n    </tr>\n    <tr>\n      <th>...</th>\n      <th>...</th>\n      <td>...</td>\n      <td>...</td>\n      <td>...</td>\n      <td>...</td>\n      <td>...</td>\n      <td>...</td>\n      <td>...</td>\n      <td>...</td>\n      <td>...</td>\n      <td>...</td>\n    </tr>\n    <tr>\n      <th rowspan=\"5\" valign=\"top\">Zimbabwe</th>\n      <th>2014</th>\n      <td>0</td>\n      <td>2.124</td>\n      <td>1.780</td>\n      <td>2.116</td>\n      <td>1.438</td>\n      <td>3.047</td>\n      <td>2.126</td>\n      <td>0.940</td>\n      <td>2.696</td>\n      <td>2.234</td>\n    </tr>\n    <tr>\n      <th>2015</th>\n      <td>0</td>\n      <td>2.598</td>\n      <td>1.695</td>\n      <td>2.116</td>\n      <td>1.106</td>\n      <td>2.295</td>\n      <td>1.856</td>\n      <td>0.596</td>\n      <td>2.696</td>\n      <td>2.234</td>\n    </tr>\n    <tr>\n      <th>2016</th>\n      <td>0</td>\n      <td>2.598</td>\n      <td>1.695</td>\n      <td>2.371</td>\n      <td>1.106</td>\n      <td>2.295</td>\n      <td>1.856</td>\n      <td>0.596</td>\n      <td>2.696</td>\n      <td>2.234</td>\n    </tr>\n    <tr>\n      <th>2017</th>\n      <td>0</td>\n      <td>3.005</td>\n      <td>1.984</td>\n      <td>2.876</td>\n      <td>2.597</td>\n      <td>2.295</td>\n      <td>1.856</td>\n      <td>0.596</td>\n      <td>2.696</td>\n      <td>2.234</td>\n    </tr>\n    <tr>\n      <th>2018</th>\n      <td>0</td>\n      <td>2.951</td>\n      <td>1.982</td>\n      <td>3.422</td>\n      <td>2.597</td>\n      <td>3.040</td>\n      <td>1.688</td>\n      <td>0.596</td>\n      <td>2.696</td>\n      <td>2.234</td>\n    </tr>\n  </tbody>\n</table>\n<p>8658 rows × 10 columns</p>\n</div>"
     },
     "metadata": {},
     "execution_count": 86
    }
   ],
   "source": [
    "strife"
   ]
  },
  {
   "source": [
    "## Explore the training data"
   ],
   "cell_type": "markdown",
   "metadata": {}
  },
  {
   "cell_type": "code",
   "execution_count": 87,
   "metadata": {},
   "outputs": [
    {
     "output_type": "execute_result",
     "data": {
      "text/plain": [
       "<matplotlib.axes._subplots.AxesSubplot at 0x12dbce850>"
      ]
     },
     "metadata": {},
     "execution_count": 87
    },
    {
     "output_type": "display_data",
     "data": {
      "text/plain": "<Figure size 1800x720 with 2 Axes>",
      "image/svg+xml": "<?xml version=\"1.0\" encoding=\"utf-8\" standalone=\"no\"?>\n<!DOCTYPE svg PUBLIC \"-//W3C//DTD SVG 1.1//EN\"\n  \"http://www.w3.org/Graphics/SVG/1.1/DTD/svg11.dtd\">\n<!-- Created with matplotlib (https://matplotlib.org/) -->\n<svg height=\"665.003537pt\" version=\"1.1\" viewBox=\"0 0 1476.2075 665.003537\" width=\"1476.2075pt\" xmlns=\"http://www.w3.org/2000/svg\" xmlns:xlink=\"http://www.w3.org/1999/xlink\">\n <defs>\n  <style type=\"text/css\">\n*{stroke-linecap:butt;stroke-linejoin:round;}\n  </style>\n </defs>\n <g id=\"figure_1\">\n  <g id=\"patch_1\">\n   <path d=\"M 0 665.003537 \nL 1476.2075 665.003537 \nL 1476.2075 0 \nL 0 0 \nz\n\" style=\"fill:none;\"/>\n  </g>\n  <g id=\"axes_1\">\n   <g id=\"patch_2\">\n    <path d=\"M 1376.265865 646.087585 \nL 1460.1 646.087585 \nL 1460.1 102.487585 \nL 1376.265865 102.487585 \nz\n\" style=\"fill:#ffffff;\"/>\n   </g>\n   <g id=\"matplotlib.axis_1\"/>\n   <g id=\"matplotlib.axis_2\"/>\n   <g id=\"line2d_1\">\n    <path clip-path=\"url(#p39d0a125a9)\" d=\"M 1447.202441 646.087585 \nL 1447.202441 645.836383 \nL 1434.304882 645.75265 \nL 1447.202441 645.668916 \nL 1389.163425 645.585182 \nL 1447.202441 645.417714 \nL 1447.202441 645.33398 \nL 1408.509763 645.250247 \nL 1447.202441 645.082779 \nL 1389.163425 644.915311 \nL 1447.202441 644.747844 \nL 1447.202441 644.580376 \nL 1395.612204 644.496642 \nL 1408.509763 644.412908 \nL 1447.202441 644.329175 \nL 1389.163425 644.161707 \nL 1389.163425 644.077973 \nL 1447.202441 643.994239 \nL 1389.163425 643.910505 \nL 1395.612204 643.826772 \nL 1389.163425 643.743038 \nL 1447.202441 643.57557 \nL 1447.202441 643.324369 \nL 1402.060984 643.240635 \nL 1447.202441 643.073167 \nL 1389.163425 642.9057 \nL 1447.202441 642.738232 \nL 1421.407322 642.654498 \nL 1447.202441 642.48703 \nL 1447.202441 642.235829 \nL 1389.163425 642.068361 \nL 1389.163425 641.984627 \nL 1402.060984 641.900894 \nL 1447.202441 641.733426 \nL 1434.304882 641.649692 \nL 1447.202441 641.565958 \nL 1389.163425 641.398491 \nL 1421.407322 641.314757 \nL 1389.163425 641.231023 \nL 1447.202441 641.063555 \nL 1447.202441 640.979822 \nL 1402.060984 640.896088 \nL 1447.202441 640.72862 \nL 1447.202441 640.226217 \nL 1389.163425 640.142483 \nL 1447.202441 639.807548 \nL 1447.202441 639.556346 \nL 1389.163425 639.388879 \nL 1389.163425 639.221411 \nL 1447.202441 639.053944 \nL 1389.163425 638.97021 \nL 1447.202441 638.802742 \nL 1447.202441 638.467807 \nL 1408.509763 638.384073 \nL 1447.202441 638.216605 \nL 1389.163425 638.132871 \nL 1447.202441 637.965404 \nL 1447.202441 637.88167 \nL 1389.163425 637.797936 \nL 1447.202441 637.714202 \nL 1389.163425 637.546735 \nL 1389.163425 637.463001 \nL 1447.202441 637.379267 \nL 1389.163425 637.211799 \nL 1447.202441 637.044332 \nL 1421.407322 636.960598 \nL 1447.202441 636.79313 \nL 1447.202441 636.625663 \nL 1440.753661 636.541929 \nL 1389.163425 636.374461 \nL 1447.202441 636.290727 \nL 1440.753661 636.206993 \nL 1447.202441 636.12326 \nL 1389.163425 636.039526 \nL 1447.202441 635.872058 \nL 1421.407322 635.788324 \nL 1447.202441 635.620857 \nL 1447.202441 635.285921 \nL 1389.163425 635.202188 \nL 1447.202441 635.118454 \nL 1414.958543 634.950986 \nL 1402.060984 634.867252 \nL 1447.202441 634.699785 \nL 1447.202441 634.448583 \nL 1408.509763 634.364849 \nL 1447.202441 634.197382 \nL 1389.163425 634.113648 \nL 1414.958543 634.029914 \nL 1389.163425 633.862446 \nL 1389.163425 633.778712 \nL 1447.202441 633.611245 \nL 1389.163425 633.527511 \nL 1447.202441 633.360043 \nL 1395.612204 633.27631 \nL 1447.202441 633.108842 \nL 1389.163425 633.025108 \nL 1447.202441 632.85764 \nL 1402.060984 632.773907 \nL 1447.202441 632.606439 \nL 1447.202441 631.852834 \nL 1402.060984 631.769101 \nL 1447.202441 631.601633 \nL 1447.202441 631.182964 \nL 1408.509763 631.09923 \nL 1447.202441 630.931762 \nL 1421.407322 630.848029 \nL 1447.202441 630.764295 \nL 1389.163425 630.680561 \nL 1447.202441 630.513093 \nL 1402.060984 630.429359 \nL 1447.202441 630.345626 \nL 1395.612204 630.261892 \nL 1447.202441 630.094424 \nL 1389.163425 630.01069 \nL 1447.202441 629.926956 \nL 1389.163425 629.843223 \nL 1447.202441 629.675755 \nL 1447.202441 629.34082 \nL 1389.163425 629.173352 \nL 1447.202441 629.005884 \nL 1389.163425 628.922151 \nL 1447.202441 628.754683 \nL 1447.202441 628.587215 \nL 1389.163425 628.503481 \nL 1447.202441 628.336014 \nL 1447.202441 628.25228 \nL 1402.060984 628.084812 \nL 1389.163425 628.001078 \nL 1447.202441 627.833611 \nL 1447.202441 627.582409 \nL 1389.163425 627.498676 \nL 1447.202441 627.331208 \nL 1389.163425 627.16374 \nL 1402.060984 627.080006 \nL 1447.202441 626.912539 \nL 1447.202441 626.326402 \nL 1389.163425 626.242668 \nL 1447.202441 626.0752 \nL 1447.202441 625.991467 \nL 1389.163425 625.907733 \nL 1447.202441 625.823999 \nL 1395.612204 625.740265 \nL 1447.202441 625.572798 \nL 1447.202441 625.489064 \nL 1389.163425 625.321596 \nL 1447.202441 625.154128 \nL 1447.202441 624.986661 \nL 1389.163425 624.902927 \nL 1447.202441 624.819193 \nL 1389.163425 624.651725 \nL 1447.202441 624.567992 \nL 1389.163425 624.400524 \nL 1389.163425 624.31679 \nL 1447.202441 624.149322 \nL 1447.202441 623.981855 \nL 1389.163425 623.898121 \nL 1447.202441 623.730653 \nL 1389.163425 623.646919 \nL 1447.202441 623.479452 \nL 1389.163425 623.395718 \nL 1447.202441 623.22825 \nL 1447.202441 622.642114 \nL 1389.163425 622.55838 \nL 1447.202441 622.390912 \nL 1389.163425 622.307178 \nL 1447.202441 622.223444 \nL 1389.163425 622.055977 \nL 1402.060984 621.972243 \nL 1389.163425 621.888509 \nL 1447.202441 621.721041 \nL 1440.753661 621.637308 \nL 1447.202441 621.46984 \nL 1447.202441 621.386106 \nL 1389.163425 621.218639 \nL 1447.202441 621.134905 \nL 1395.612204 621.051171 \nL 1447.202441 620.883703 \nL 1447.202441 620.548768 \nL 1389.163425 620.465034 \nL 1447.202441 620.3813 \nL 1389.163425 620.297566 \nL 1447.202441 620.130099 \nL 1389.163425 619.962631 \nL 1447.202441 619.878897 \nL 1389.163425 619.71143 \nL 1447.202441 619.627696 \nL 1389.163425 619.543962 \nL 1447.202441 619.460228 \nL 1389.163425 619.376494 \nL 1447.202441 619.292761 \nL 1389.163425 619.209027 \nL 1440.753661 619.041559 \nL 1447.202441 618.874091 \nL 1447.202441 618.790358 \nL 1389.163425 618.706624 \nL 1447.202441 618.539156 \nL 1389.163425 618.455422 \nL 1447.202441 618.287955 \nL 1447.202441 617.953019 \nL 1421.407322 617.869285 \nL 1447.202441 617.785552 \nL 1389.163425 617.618084 \nL 1447.202441 617.53435 \nL 1389.163425 617.366883 \nL 1447.202441 617.199415 \nL 1389.163425 617.031947 \nL 1447.202441 616.86448 \nL 1389.163425 616.780746 \nL 1447.202441 616.613278 \nL 1440.753661 616.529544 \nL 1447.202441 616.362077 \nL 1389.163425 616.278343 \nL 1447.202441 616.110875 \nL 1447.202441 615.692206 \nL 1402.060984 615.608472 \nL 1447.202441 615.524738 \nL 1389.163425 615.441005 \nL 1447.202441 615.273537 \nL 1389.163425 615.189803 \nL 1447.202441 615.022335 \nL 1447.202441 614.771134 \nL 1402.060984 614.603666 \nL 1395.612204 614.519932 \nL 1447.202441 614.352465 \nL 1402.060984 614.268731 \nL 1447.202441 614.101263 \nL 1389.163425 614.017529 \nL 1447.202441 613.850062 \nL 1447.202441 613.682594 \nL 1389.163425 613.59886 \nL 1402.060984 613.515127 \nL 1389.163425 613.347659 \nL 1447.202441 613.180191 \nL 1389.163425 613.096457 \nL 1447.202441 613.012724 \nL 1389.163425 612.92899 \nL 1434.304882 612.845256 \nL 1389.163425 612.677788 \nL 1447.202441 612.510321 \nL 1389.163425 612.426587 \nL 1447.202441 612.259119 \nL 1447.202441 611.254313 \nL 1402.060984 611.170579 \nL 1447.202441 611.086846 \nL 1414.958543 611.003112 \nL 1447.202441 610.919378 \nL 1389.163425 610.75191 \nL 1447.202441 610.584443 \nL 1447.202441 610.165773 \nL 1440.753661 610.08204 \nL 1447.202441 609.914572 \nL 1389.163425 609.830838 \nL 1447.202441 609.747104 \nL 1389.163425 609.663371 \nL 1447.202441 609.579637 \nL 1389.163425 609.495903 \nL 1447.202441 609.328435 \nL 1389.163425 609.244701 \nL 1447.202441 609.077234 \nL 1389.163425 608.9935 \nL 1447.202441 608.909766 \nL 1434.304882 608.826032 \nL 1447.202441 608.658565 \nL 1447.202441 608.491097 \nL 1389.163425 608.407363 \nL 1447.202441 608.239895 \nL 1389.163425 608.156162 \nL 1447.202441 607.988694 \nL 1408.509763 607.90496 \nL 1447.202441 607.737493 \nL 1447.202441 607.318823 \nL 1389.163425 607.151356 \nL 1389.163425 607.067622 \nL 1447.202441 606.900154 \nL 1389.163425 606.81642 \nL 1447.202441 606.732687 \nL 1389.163425 606.565219 \nL 1389.163425 606.481485 \nL 1447.202441 606.397751 \nL 1389.163425 606.230284 \nL 1389.163425 606.14655 \nL 1447.202441 605.979082 \nL 1447.202441 605.727881 \nL 1389.163425 605.644147 \nL 1447.202441 605.476679 \nL 1447.202441 605.392945 \nL 1389.163425 605.309212 \nL 1408.509763 605.225478 \nL 1389.163425 605.05801 \nL 1389.163425 604.974276 \nL 1447.202441 604.806809 \nL 1402.060984 604.639341 \nL 1447.202441 604.471873 \nL 1447.202441 604.388139 \nL 1389.163425 604.220672 \nL 1447.202441 604.053204 \nL 1447.202441 603.383334 \nL 1389.163425 603.2996 \nL 1447.202441 603.132132 \nL 1389.163425 603.048398 \nL 1402.060984 602.964664 \nL 1447.202441 602.880931 \nL 1389.163425 602.797197 \nL 1447.202441 602.629729 \nL 1447.202441 602.545995 \nL 1389.163425 602.462261 \nL 1447.202441 602.378528 \nL 1389.163425 602.294794 \nL 1447.202441 602.21106 \nL 1389.163425 602.127326 \nL 1402.060984 602.043592 \nL 1447.202441 601.959858 \nL 1389.163425 601.876125 \nL 1447.202441 601.792391 \nL 1389.163425 601.708657 \nL 1447.202441 601.541189 \nL 1447.202441 601.038786 \nL 1434.304882 600.955053 \nL 1447.202441 600.871319 \nL 1427.856102 600.787585 \nL 1447.202441 600.620117 \nL 1447.202441 600.201448 \nL 1389.163425 600.117714 \nL 1447.202441 600.03398 \nL 1389.163425 599.950247 \nL 1447.202441 599.866513 \nL 1402.060984 599.782779 \nL 1447.202441 599.615311 \nL 1389.163425 599.531578 \nL 1447.202441 599.447844 \nL 1389.163425 599.36411 \nL 1447.202441 599.196642 \nL 1389.163425 599.112908 \nL 1447.202441 599.029175 \nL 1389.163425 598.945441 \nL 1447.202441 598.777973 \nL 1447.202441 598.694239 \nL 1389.163425 598.610505 \nL 1447.202441 598.443038 \nL 1389.163425 598.359304 \nL 1447.202441 598.27557 \nL 1440.753661 598.191836 \nL 1447.202441 598.024369 \nL 1447.202441 597.940635 \nL 1389.163425 597.856901 \nL 1447.202441 597.689433 \nL 1447.202441 597.521966 \nL 1389.163425 597.354498 \nL 1447.202441 597.18703 \nL 1447.202441 597.103297 \nL 1389.163425 597.019563 \nL 1447.202441 596.852095 \nL 1408.509763 596.768361 \nL 1447.202441 596.600894 \nL 1447.202441 596.182224 \nL 1389.163425 596.098491 \nL 1447.202441 595.931023 \nL 1447.202441 595.679822 \nL 1389.163425 595.596088 \nL 1447.202441 595.42862 \nL 1447.202441 595.261152 \nL 1389.163425 595.093685 \nL 1447.202441 595.009951 \nL 1389.163425 594.926217 \nL 1447.202441 594.842483 \nL 1389.163425 594.758749 \nL 1447.202441 594.591282 \nL 1447.202441 594.507548 \nL 1389.163425 594.34008 \nL 1389.163425 594.172613 \nL 1447.202441 594.088879 \nL 1389.163425 594.005145 \nL 1402.060984 593.921411 \nL 1447.202441 593.837677 \nL 1389.163425 593.753944 \nL 1447.202441 593.586476 \nL 1447.202441 593.084073 \nL 1389.163425 592.916605 \nL 1447.202441 592.749138 \nL 1447.202441 592.58167 \nL 1389.163425 592.497936 \nL 1447.202441 592.246735 \nL 1389.163425 592.079267 \nL 1447.202441 591.911799 \nL 1447.202441 591.828066 \nL 1389.163425 591.744332 \nL 1447.202441 591.660598 \nL 1389.163425 591.576864 \nL 1447.202441 591.49313 \nL 1389.163425 591.325663 \nL 1389.163425 591.158195 \nL 1447.202441 590.990727 \nL 1447.202441 590.655792 \nL 1389.163425 590.572058 \nL 1402.060984 590.488324 \nL 1447.202441 590.320857 \nL 1447.202441 590.153389 \nL 1395.612204 590.069655 \nL 1447.202441 589.985921 \nL 1389.163425 589.818454 \nL 1447.202441 589.73472 \nL 1440.753661 589.650986 \nL 1447.202441 589.483518 \nL 1447.202441 589.232317 \nL 1389.163425 589.148583 \nL 1447.202441 588.981115 \nL 1447.202441 588.897382 \nL 1389.163425 588.813648 \nL 1427.856102 588.729914 \nL 1389.163425 588.64618 \nL 1447.202441 588.478712 \nL 1389.163425 588.394979 \nL 1447.202441 588.311245 \nL 1389.163425 588.227511 \nL 1447.202441 588.060043 \nL 1389.163425 587.97631 \nL 1447.202441 587.892576 \nL 1389.163425 587.808842 \nL 1447.202441 587.725108 \nL 1440.753661 587.641374 \nL 1434.304882 587.55764 \nL 1389.163425 587.473907 \nL 1447.202441 587.306439 \nL 1447.202441 587.222705 \nL 1389.163425 587.138971 \nL 1447.202441 587.055237 \nL 1389.163425 586.88777 \nL 1389.163425 586.804036 \nL 1447.202441 586.720302 \nL 1389.163425 586.636568 \nL 1447.202441 586.469101 \nL 1389.163425 586.301633 \nL 1447.202441 586.134165 \nL 1447.202441 585.79923 \nL 1389.163425 585.715496 \nL 1427.856102 585.631762 \nL 1389.163425 585.464295 \nL 1447.202441 585.296827 \nL 1447.202441 585.213093 \nL 1389.163425 585.129359 \nL 1447.202441 584.961892 \nL 1447.202441 584.208287 \nL 1434.304882 584.124554 \nL 1389.163425 583.957086 \nL 1447.202441 583.789618 \nL 1447.202441 583.538417 \nL 1427.856102 583.454683 \nL 1447.202441 583.287215 \nL 1447.202441 582.95228 \nL 1389.163425 582.868546 \nL 1447.202441 582.701078 \nL 1440.753661 582.617345 \nL 1389.163425 582.533611 \nL 1447.202441 582.449877 \nL 1389.163425 582.366143 \nL 1447.202441 582.198676 \nL 1389.163425 582.114942 \nL 1402.060984 582.031208 \nL 1447.202441 581.947474 \nL 1389.163425 581.86374 \nL 1447.202441 581.696273 \nL 1389.163425 581.612539 \nL 1447.202441 581.445071 \nL 1447.202441 581.361337 \nL 1389.163425 581.277603 \nL 1447.202441 581.19387 \nL 1402.060984 581.110136 \nL 1447.202441 580.942668 \nL 1421.407322 580.858934 \nL 1447.202441 580.7752 \nL 1389.163425 580.691467 \nL 1434.304882 580.523999 \nL 1447.202441 580.440265 \nL 1389.163425 580.356531 \nL 1447.202441 580.189064 \nL 1389.163425 580.10533 \nL 1447.202441 579.937862 \nL 1447.202441 579.686661 \nL 1408.509763 579.602927 \nL 1414.958543 579.519193 \nL 1447.202441 579.351725 \nL 1447.202441 579.267992 \nL 1389.163425 579.184258 \nL 1447.202441 579.01679 \nL 1447.202441 578.346919 \nL 1389.163425 578.263186 \nL 1395.612204 578.179452 \nL 1447.202441 578.011984 \nL 1447.202441 577.92825 \nL 1389.163425 577.760783 \nL 1447.202441 577.593315 \nL 1389.163425 577.425847 \nL 1447.202441 577.25838 \nL 1389.163425 577.174646 \nL 1447.202441 577.007178 \nL 1447.202441 576.421041 \nL 1389.163425 576.253574 \nL 1389.163425 576.16984 \nL 1447.202441 576.086106 \nL 1389.163425 576.002372 \nL 1447.202441 575.834905 \nL 1389.163425 575.751171 \nL 1447.202441 575.583703 \nL 1402.060984 575.499969 \nL 1447.202441 575.332502 \nL 1440.753661 575.248768 \nL 1389.163425 575.0813 \nL 1447.202441 574.913833 \nL 1447.202441 574.830099 \nL 1389.163425 574.662631 \nL 1389.163425 574.578897 \nL 1447.202441 574.41143 \nL 1447.202441 574.076494 \nL 1389.163425 573.992761 \nL 1447.202441 573.909027 \nL 1389.163425 573.741559 \nL 1447.202441 573.574091 \nL 1447.202441 573.32289 \nL 1402.060984 573.239156 \nL 1447.202441 573.071688 \nL 1447.202441 572.904221 \nL 1389.163425 572.820487 \nL 1447.202441 572.653019 \nL 1447.202441 572.569285 \nL 1434.304882 572.485552 \nL 1389.163425 572.401818 \nL 1447.202441 572.318084 \nL 1389.163425 572.23435 \nL 1447.202441 572.066883 \nL 1389.163425 571.983149 \nL 1447.202441 571.815681 \nL 1447.202441 571.56448 \nL 1395.612204 571.480746 \nL 1447.202441 571.397012 \nL 1389.163425 571.313278 \nL 1447.202441 571.14581 \nL 1389.163425 570.978343 \nL 1389.163425 570.894609 \nL 1447.202441 570.727141 \nL 1447.202441 570.308472 \nL 1389.163425 570.057271 \nL 1447.202441 569.889803 \nL 1447.202441 569.471134 \nL 1389.163425 569.3874 \nL 1440.753661 569.303666 \nL 1389.163425 569.219932 \nL 1440.753661 569.052465 \nL 1389.163425 568.884997 \nL 1447.202441 568.717529 \nL 1447.202441 568.550062 \nL 1389.163425 568.382594 \nL 1447.202441 568.215127 \nL 1389.163425 568.131393 \nL 1447.202441 568.047659 \nL 1395.612204 567.880191 \nL 1389.163425 567.796457 \nL 1447.202441 567.712724 \nL 1389.163425 567.62899 \nL 1447.202441 567.545256 \nL 1389.163425 567.461522 \nL 1447.202441 567.294054 \nL 1389.163425 567.210321 \nL 1447.202441 567.042853 \nL 1447.202441 566.624184 \nL 1395.612204 566.54045 \nL 1447.202441 566.372982 \nL 1447.202441 566.121781 \nL 1389.163425 566.038047 \nL 1447.202441 565.870579 \nL 1447.202441 565.786846 \nL 1389.163425 565.703112 \nL 1447.202441 565.535644 \nL 1447.202441 565.368176 \nL 1389.163425 565.284443 \nL 1447.202441 565.200709 \nL 1389.163425 565.033241 \nL 1447.202441 564.949507 \nL 1389.163425 564.865773 \nL 1447.202441 564.78204 \nL 1389.163425 564.698306 \nL 1402.060984 564.614572 \nL 1447.202441 564.530838 \nL 1402.060984 564.447104 \nL 1447.202441 564.279637 \nL 1440.753661 564.195903 \nL 1389.163425 564.112169 \nL 1447.202441 563.944701 \nL 1447.202441 563.6935 \nL 1402.060984 563.609766 \nL 1447.202441 563.442298 \nL 1434.304882 563.358565 \nL 1447.202441 563.191097 \nL 1447.202441 563.107363 \nL 1389.163425 563.023629 \nL 1447.202441 562.856162 \nL 1447.202441 562.521226 \nL 1389.163425 562.437493 \nL 1447.202441 562.270025 \nL 1389.163425 562.102557 \nL 1447.202441 562.018823 \nL 1389.163425 561.93509 \nL 1447.202441 561.851356 \nL 1389.163425 561.767622 \nL 1447.202441 561.432687 \nL 1389.163425 561.348953 \nL 1447.202441 561.181485 \nL 1389.163425 561.014017 \nL 1447.202441 560.84655 \nL 1447.202441 560.679082 \nL 1389.163425 560.511615 \nL 1447.202441 560.344147 \nL 1447.202441 560.176679 \nL 1389.163425 560.092945 \nL 1447.202441 559.925478 \nL 1447.202441 559.841744 \nL 1389.163425 559.75801 \nL 1447.202441 559.590542 \nL 1447.202441 559.423075 \nL 1389.163425 559.339341 \nL 1447.202441 559.255607 \nL 1389.163425 559.088139 \nL 1447.202441 558.920672 \nL 1434.304882 558.836938 \nL 1440.753661 558.753204 \nL 1389.163425 558.66947 \nL 1447.202441 558.502003 \nL 1447.202441 558.418269 \nL 1389.163425 558.334535 \nL 1447.202441 558.167067 \nL 1447.202441 557.832132 \nL 1389.163425 557.748398 \nL 1447.202441 557.580931 \nL 1389.163425 557.413463 \nL 1389.163425 557.329729 \nL 1447.202441 557.245995 \nL 1389.163425 557.162261 \nL 1447.202441 557.078528 \nL 1434.304882 556.994794 \nL 1447.202441 556.827326 \nL 1447.202441 556.157456 \nL 1395.612204 556.073722 \nL 1447.202441 555.989988 \nL 1389.163425 555.906254 \nL 1447.202441 555.82252 \nL 1421.407322 555.738786 \nL 1447.202441 555.655053 \nL 1402.060984 555.571319 \nL 1447.202441 555.487585 \nL 1389.163425 555.403851 \nL 1447.202441 555.236383 \nL 1447.202441 555.15265 \nL 1389.163425 555.068916 \nL 1447.202441 554.985182 \nL 1389.163425 554.817714 \nL 1389.163425 554.650247 \nL 1447.202441 554.482779 \nL 1447.202441 554.399045 \nL 1440.753661 554.315311 \nL 1447.202441 554.147844 \nL 1447.202441 553.729175 \nL 1389.163425 553.645441 \nL 1395.612204 553.561707 \nL 1389.163425 553.394239 \nL 1389.163425 553.310505 \nL 1447.202441 553.226772 \nL 1389.163425 553.143038 \nL 1447.202441 553.059304 \nL 1389.163425 552.97557 \nL 1447.202441 552.808102 \nL 1447.202441 551.970764 \nL 1389.163425 551.88703 \nL 1447.202441 551.719563 \nL 1447.202441 551.552095 \nL 1389.163425 551.468361 \nL 1447.202441 551.300894 \nL 1408.509763 551.21716 \nL 1447.202441 551.133426 \nL 1389.163425 550.965958 \nL 1447.202441 550.798491 \nL 1447.202441 550.714757 \nL 1427.856102 550.631023 \nL 1447.202441 550.463555 \nL 1389.163425 550.296088 \nL 1447.202441 550.12862 \nL 1447.202441 549.709951 \nL 1389.163425 549.626217 \nL 1447.202441 549.458749 \nL 1389.163425 549.291282 \nL 1447.202441 549.207548 \nL 1389.163425 549.123814 \nL 1447.202441 549.04008 \nL 1389.163425 548.956346 \nL 1447.202441 548.872613 \nL 1389.163425 548.788879 \nL 1408.509763 548.621411 \nL 1389.163425 548.537677 \nL 1447.202441 548.453944 \nL 1408.509763 548.37021 \nL 1447.202441 548.286476 \nL 1389.163425 548.119008 \nL 1447.202441 547.867807 \nL 1389.163425 547.700339 \nL 1447.202441 547.532871 \nL 1389.163425 547.449138 \nL 1447.202441 547.28167 \nL 1447.202441 547.197936 \nL 1389.163425 547.114202 \nL 1447.202441 547.030468 \nL 1389.163425 546.946735 \nL 1447.202441 546.779267 \nL 1447.202441 546.360598 \nL 1389.163425 546.19313 \nL 1447.202441 546.025663 \nL 1447.202441 545.941929 \nL 1389.163425 545.774461 \nL 1447.202441 545.606993 \nL 1395.612204 545.52326 \nL 1447.202441 545.355792 \nL 1389.163425 545.272058 \nL 1447.202441 545.10459 \nL 1440.753661 545.020857 \nL 1447.202441 544.853389 \nL 1389.163425 544.685921 \nL 1447.202441 544.518454 \nL 1447.202441 544.43472 \nL 1389.163425 544.350986 \nL 1447.202441 544.183518 \nL 1389.163425 544.099785 \nL 1447.202441 543.932317 \nL 1421.407322 543.848583 \nL 1447.202441 543.764849 \nL 1389.163425 543.681115 \nL 1447.202441 543.34618 \nL 1402.060984 543.262446 \nL 1447.202441 543.178712 \nL 1414.958543 543.094979 \nL 1447.202441 542.927511 \nL 1447.202441 542.843777 \nL 1389.163425 542.760043 \nL 1447.202441 542.592576 \nL 1447.202441 542.341374 \nL 1389.163425 542.173907 \nL 1447.202441 542.090173 \nL 1402.060984 542.006439 \nL 1447.202441 541.922705 \nL 1440.753661 541.838971 \nL 1447.202441 541.755237 \nL 1389.163425 541.671504 \nL 1395.612204 541.58777 \nL 1447.202441 541.420302 \nL 1389.163425 541.336568 \nL 1447.202441 541.169101 \nL 1447.202441 541.085367 \nL 1389.163425 540.917899 \nL 1447.202441 540.834165 \nL 1389.163425 540.750432 \nL 1447.202441 540.582964 \nL 1447.202441 540.080561 \nL 1421.407322 539.996827 \nL 1447.202441 539.829359 \nL 1389.163425 539.745626 \nL 1447.202441 539.661892 \nL 1389.163425 539.494424 \nL 1389.163425 539.41069 \nL 1447.202441 539.243223 \nL 1389.163425 539.159489 \nL 1447.202441 539.075755 \nL 1395.612204 538.992021 \nL 1447.202441 538.908287 \nL 1389.163425 538.824554 \nL 1447.202441 538.657086 \nL 1447.202441 538.322151 \nL 1402.060984 538.238417 \nL 1447.202441 538.154683 \nL 1389.163425 537.987215 \nL 1447.202441 537.903481 \nL 1389.163425 537.819748 \nL 1447.202441 537.65228 \nL 1447.202441 537.484812 \nL 1389.163425 537.401078 \nL 1447.202441 537.233611 \nL 1389.163425 537.149877 \nL 1447.202441 536.982409 \nL 1447.202441 536.898676 \nL 1389.163425 536.814942 \nL 1447.202441 536.647474 \nL 1447.202441 536.56374 \nL 1402.060984 536.396273 \nL 1447.202441 536.228805 \nL 1447.202441 536.145071 \nL 1389.163425 536.061337 \nL 1447.202441 535.89387 \nL 1389.163425 535.810136 \nL 1447.202441 535.642668 \nL 1447.202441 535.558934 \nL 1389.163425 535.4752 \nL 1447.202441 535.307733 \nL 1447.202441 535.223999 \nL 1408.509763 535.140265 \nL 1447.202441 535.056531 \nL 1389.163425 534.972798 \nL 1395.612204 534.889064 \nL 1447.202441 534.721596 \nL 1447.202441 534.637862 \nL 1389.163425 534.554128 \nL 1447.202441 534.386661 \nL 1447.202441 534.135459 \nL 1389.163425 534.051725 \nL 1447.202441 533.884258 \nL 1389.163425 533.800524 \nL 1447.202441 533.71679 \nL 1389.163425 533.549322 \nL 1447.202441 533.381855 \nL 1447.202441 533.214387 \nL 1389.163425 533.130653 \nL 1447.202441 533.046919 \nL 1402.060984 532.963186 \nL 1447.202441 532.795718 \nL 1447.202441 532.711984 \nL 1395.612204 532.62825 \nL 1447.202441 532.460783 \nL 1408.509763 532.377049 \nL 1447.202441 532.293315 \nL 1389.163425 532.209581 \nL 1447.202441 532.042114 \nL 1447.202441 531.95838 \nL 1440.753661 531.874646 \nL 1447.202441 531.707178 \nL 1447.202441 531.455977 \nL 1389.163425 531.288509 \nL 1447.202441 531.121041 \nL 1447.202441 530.953574 \nL 1408.509763 530.86984 \nL 1447.202441 530.702372 \nL 1447.202441 530.618639 \nL 1389.163425 530.451171 \nL 1447.202441 530.283703 \nL 1440.753661 530.199969 \nL 1389.163425 530.032502 \nL 1447.202441 529.865034 \nL 1447.202441 529.7813 \nL 1389.163425 529.697566 \nL 1447.202441 529.530099 \nL 1447.202441 529.278897 \nL 1402.060984 529.195163 \nL 1447.202441 529.027696 \nL 1389.163425 528.860228 \nL 1447.202441 528.776494 \nL 1389.163425 528.692761 \nL 1402.060984 528.609027 \nL 1389.163425 528.525293 \nL 1447.202441 528.441559 \nL 1421.407322 528.357825 \nL 1447.202441 528.274091 \nL 1440.753661 528.190358 \nL 1447.202441 528.02289 \nL 1447.202441 527.939156 \nL 1389.163425 527.771688 \nL 1447.202441 527.604221 \nL 1389.163425 527.520487 \nL 1447.202441 527.353019 \nL 1389.163425 527.269285 \nL 1447.202441 527.101818 \nL 1408.509763 527.018084 \nL 1447.202441 526.93435 \nL 1389.163425 526.850616 \nL 1447.202441 526.683149 \nL 1447.202441 526.515681 \nL 1402.060984 526.431947 \nL 1447.202441 526.26448 \nL 1447.202441 526.180746 \nL 1389.163425 526.013278 \nL 1447.202441 525.929544 \nL 1440.753661 525.84581 \nL 1447.202441 525.762077 \nL 1389.163425 525.678343 \nL 1447.202441 525.510875 \nL 1447.202441 525.427141 \nL 1389.163425 525.343407 \nL 1447.202441 525.17594 \nL 1389.163425 525.092206 \nL 1447.202441 525.008472 \nL 1389.163425 524.924738 \nL 1447.202441 524.757271 \nL 1447.202441 524.338602 \nL 1389.163425 524.254868 \nL 1447.202441 524.0874 \nL 1447.202441 523.836199 \nL 1389.163425 523.752465 \nL 1447.202441 523.584997 \nL 1447.202441 523.166328 \nL 1389.163425 522.99886 \nL 1447.202441 522.831393 \nL 1389.163425 522.747659 \nL 1447.202441 522.580191 \nL 1389.163425 522.412724 \nL 1447.202441 522.32899 \nL 1395.612204 522.161522 \nL 1389.163425 521.994054 \nL 1447.202441 521.910321 \nL 1408.509763 521.826587 \nL 1447.202441 521.742853 \nL 1389.163425 521.659119 \nL 1447.202441 521.575385 \nL 1389.163425 521.407918 \nL 1447.202441 521.24045 \nL 1447.202441 520.403112 \nL 1389.163425 520.319378 \nL 1447.202441 520.235644 \nL 1408.509763 520.15191 \nL 1447.202441 519.984443 \nL 1389.163425 519.900709 \nL 1447.202441 519.733241 \nL 1447.202441 519.48204 \nL 1389.163425 519.314572 \nL 1447.202441 519.147104 \nL 1447.202441 518.895903 \nL 1389.163425 518.812169 \nL 1447.202441 518.644701 \nL 1447.202441 518.226032 \nL 1395.612204 518.142298 \nL 1447.202441 518.058565 \nL 1389.163425 517.974831 \nL 1447.202441 517.807363 \nL 1447.202441 517.472428 \nL 1402.060984 517.388694 \nL 1447.202441 517.221226 \nL 1447.202441 516.718823 \nL 1389.163425 516.63509 \nL 1447.202441 516.467622 \nL 1447.202441 516.132687 \nL 1389.163425 516.048953 \nL 1440.753661 515.965219 \nL 1389.163425 515.881485 \nL 1447.202441 515.714017 \nL 1389.163425 515.54655 \nL 1447.202441 515.379082 \nL 1447.202441 514.876679 \nL 1389.163425 514.709212 \nL 1395.612204 514.625478 \nL 1389.163425 514.45801 \nL 1447.202441 514.290542 \nL 1447.202441 514.123075 \nL 1389.163425 514.039341 \nL 1447.202441 513.871873 \nL 1389.163425 513.788139 \nL 1447.202441 513.620672 \nL 1389.163425 513.453204 \nL 1447.202441 513.285737 \nL 1447.202441 513.202003 \nL 1402.060984 513.118269 \nL 1447.202441 513.034535 \nL 1421.407322 512.950801 \nL 1447.202441 512.783334 \nL 1440.753661 512.6996 \nL 1447.202441 512.532132 \nL 1447.202441 511.527326 \nL 1395.612204 511.443592 \nL 1447.202441 511.276125 \nL 1447.202441 510.941189 \nL 1389.163425 510.857456 \nL 1447.202441 510.689988 \nL 1447.202441 510.52252 \nL 1389.163425 510.438786 \nL 1447.202441 510.271319 \nL 1447.202441 509.768916 \nL 1408.509763 509.685182 \nL 1447.202441 509.517714 \nL 1447.202441 509.266513 \nL 1402.060984 509.099045 \nL 1402.060984 509.015311 \nL 1389.163425 508.847844 \nL 1447.202441 508.680376 \nL 1447.202441 508.429175 \nL 1408.509763 508.345441 \nL 1447.202441 508.177973 \nL 1447.202441 508.010505 \nL 1389.163425 507.926772 \nL 1447.202441 507.759304 \nL 1447.202441 507.591836 \nL 1389.163425 507.424369 \nL 1389.163425 507.256901 \nL 1447.202441 507.089433 \nL 1389.163425 507.0057 \nL 1447.202441 506.921966 \nL 1389.163425 506.838232 \nL 1447.202441 506.754498 \nL 1440.753661 506.670764 \nL 1447.202441 506.503297 \nL 1447.202441 506.419563 \nL 1389.163425 506.335829 \nL 1447.202441 506.168361 \nL 1447.202441 506.000894 \nL 1434.304882 505.91716 \nL 1447.202441 505.749692 \nL 1447.202441 505.414757 \nL 1389.163425 505.247289 \nL 1447.202441 505.079822 \nL 1447.202441 504.744886 \nL 1389.163425 504.661152 \nL 1447.202441 504.493685 \nL 1447.202441 504.326217 \nL 1389.163425 504.242483 \nL 1447.202441 504.075016 \nL 1447.202441 503.991282 \nL 1389.163425 503.907548 \nL 1447.202441 503.823814 \nL 1389.163425 503.74008 \nL 1447.202441 503.572613 \nL 1447.202441 503.405145 \nL 1389.163425 503.321411 \nL 1447.202441 503.153944 \nL 1447.202441 502.986476 \nL 1414.958543 502.902742 \nL 1447.202441 502.819008 \nL 1408.509763 502.735274 \nL 1447.202441 502.567807 \nL 1447.202441 502.484073 \nL 1395.612204 502.400339 \nL 1440.753661 502.316605 \nL 1402.060984 502.232871 \nL 1447.202441 502.149138 \nL 1389.163425 502.065404 \nL 1447.202441 501.98167 \nL 1389.163425 501.897936 \nL 1447.202441 501.730468 \nL 1408.509763 501.646735 \nL 1447.202441 501.563001 \nL 1389.163425 501.479267 \nL 1447.202441 501.395533 \nL 1389.163425 501.311799 \nL 1447.202441 501.144332 \nL 1447.202441 501.060598 \nL 1402.060984 500.976864 \nL 1447.202441 500.809396 \nL 1447.202441 500.474461 \nL 1414.958543 500.390727 \nL 1447.202441 500.306993 \nL 1389.163425 500.139526 \nL 1447.202441 499.972058 \nL 1421.407322 499.888324 \nL 1447.202441 499.720857 \nL 1389.163425 499.553389 \nL 1402.060984 499.469655 \nL 1389.163425 499.385921 \nL 1447.202441 499.218454 \nL 1447.202441 499.13472 \nL 1389.163425 498.967252 \nL 1389.163425 498.883518 \nL 1447.202441 498.716051 \nL 1389.163425 498.632317 \nL 1447.202441 498.464849 \nL 1447.202441 498.297382 \nL 1440.753661 498.213648 \nL 1402.060984 498.129914 \nL 1447.202441 498.04618 \nL 1414.958543 497.962446 \nL 1447.202441 497.878712 \nL 1389.163425 497.711245 \nL 1447.202441 497.543777 \nL 1447.202441 497.37631 \nL 1389.163425 497.292576 \nL 1447.202441 497.125108 \nL 1434.304882 497.041374 \nL 1447.202441 496.873907 \nL 1447.202441 495.952834 \nL 1389.163425 495.869101 \nL 1447.202441 495.701633 \nL 1389.163425 495.617899 \nL 1447.202441 495.534165 \nL 1389.163425 495.450432 \nL 1447.202441 495.282964 \nL 1447.202441 495.19923 \nL 1440.753661 495.115496 \nL 1389.163425 495.031762 \nL 1447.202441 494.864295 \nL 1447.202441 494.780561 \nL 1402.060984 494.696827 \nL 1447.202441 494.529359 \nL 1447.202441 494.278158 \nL 1408.509763 494.194424 \nL 1447.202441 494.026956 \nL 1389.163425 493.943223 \nL 1447.202441 493.775755 \nL 1389.163425 493.692021 \nL 1447.202441 493.524554 \nL 1447.202441 493.273352 \nL 1402.060984 493.105884 \nL 1447.202441 492.938417 \nL 1389.163425 492.854683 \nL 1447.202441 492.687215 \nL 1421.407322 492.603481 \nL 1447.202441 492.519748 \nL 1421.407322 492.35228 \nL 1389.163425 492.268546 \nL 1395.612204 492.184812 \nL 1447.202441 492.017345 \nL 1447.202441 491.933611 \nL 1389.163425 491.849877 \nL 1447.202441 491.682409 \nL 1447.202441 491.514942 \nL 1389.163425 491.431208 \nL 1447.202441 491.347474 \nL 1389.163425 491.26374 \nL 1447.202441 491.096273 \nL 1447.202441 490.928805 \nL 1389.163425 490.761337 \nL 1447.202441 490.59387 \nL 1447.202441 490.426402 \nL 1389.163425 490.342668 \nL 1447.202441 490.1752 \nL 1389.163425 490.007733 \nL 1389.163425 489.923999 \nL 1447.202441 489.756531 \nL 1447.202441 489.421596 \nL 1389.163425 489.337862 \nL 1447.202441 489.254128 \nL 1389.163425 489.170395 \nL 1447.202441 489.002927 \nL 1402.060984 488.919193 \nL 1447.202441 488.751725 \nL 1447.202441 488.500524 \nL 1440.753661 488.41679 \nL 1447.202441 488.249322 \nL 1389.163425 488.165589 \nL 1447.202441 488.081855 \nL 1389.163425 487.914387 \nL 1389.163425 487.830653 \nL 1447.202441 487.663186 \nL 1447.202441 487.32825 \nL 1389.163425 487.160783 \nL 1447.202441 486.993315 \nL 1447.202441 486.825847 \nL 1389.163425 486.742114 \nL 1447.202441 486.574646 \nL 1447.202441 485.988509 \nL 1389.163425 485.904775 \nL 1447.202441 485.653574 \nL 1389.163425 485.486106 \nL 1389.163425 485.402372 \nL 1447.202441 485.234905 \nL 1440.753661 485.151171 \nL 1447.202441 484.983703 \nL 1447.202441 484.899969 \nL 1389.163425 484.732502 \nL 1389.163425 484.565034 \nL 1447.202441 484.4813 \nL 1389.163425 484.397566 \nL 1447.202441 484.062631 \nL 1389.163425 483.895163 \nL 1447.202441 483.727696 \nL 1447.202441 483.560228 \nL 1440.753661 483.476494 \nL 1447.202441 483.392761 \nL 1389.163425 483.309027 \nL 1447.202441 483.141559 \nL 1447.202441 483.057825 \nL 1421.407322 482.974091 \nL 1447.202441 482.806624 \nL 1447.202441 482.555422 \nL 1402.060984 482.471688 \nL 1447.202441 482.387955 \nL 1402.060984 482.220487 \nL 1447.202441 482.053019 \nL 1447.202441 481.885552 \nL 1389.163425 481.801818 \nL 1447.202441 481.63435 \nL 1389.163425 481.550616 \nL 1395.612204 481.466883 \nL 1447.202441 481.299415 \nL 1389.163425 481.215681 \nL 1447.202441 481.131947 \nL 1389.163425 481.048213 \nL 1447.202441 480.880746 \nL 1447.202441 480.797012 \nL 1389.163425 480.629544 \nL 1447.202441 480.54581 \nL 1389.163425 480.378343 \nL 1447.202441 480.210875 \nL 1447.202441 480.043407 \nL 1434.304882 479.959674 \nL 1389.163425 479.87594 \nL 1447.202441 479.792206 \nL 1389.163425 479.708472 \nL 1447.202441 479.541005 \nL 1447.202441 479.289803 \nL 1389.163425 479.206069 \nL 1447.202441 479.038602 \nL 1447.202441 478.703666 \nL 1389.163425 478.619932 \nL 1447.202441 478.536199 \nL 1434.304882 478.452465 \nL 1447.202441 478.368731 \nL 1389.163425 478.284997 \nL 1447.202441 478.117529 \nL 1447.202441 477.531393 \nL 1440.753661 477.447659 \nL 1389.163425 477.280191 \nL 1447.202441 477.112724 \nL 1389.163425 477.02899 \nL 1447.202441 476.861522 \nL 1389.163425 476.694054 \nL 1447.202441 476.526587 \nL 1414.958543 476.442853 \nL 1447.202441 476.275385 \nL 1447.202441 475.94045 \nL 1389.163425 475.772982 \nL 1447.202441 475.521781 \nL 1408.509763 475.438047 \nL 1440.753661 475.354313 \nL 1389.163425 475.270579 \nL 1402.060984 475.186846 \nL 1447.202441 475.019378 \nL 1389.163425 474.85191 \nL 1447.202441 474.768176 \nL 1389.163425 474.684443 \nL 1447.202441 474.516975 \nL 1447.202441 474.433241 \nL 1389.163425 474.265773 \nL 1447.202441 474.098306 \nL 1447.202441 474.014572 \nL 1389.163425 473.763371 \nL 1447.202441 473.595903 \nL 1447.202441 473.512169 \nL 1389.163425 473.428435 \nL 1447.202441 473.260968 \nL 1389.163425 473.0935 \nL 1447.202441 473.009766 \nL 1395.612204 472.926032 \nL 1447.202441 472.842298 \nL 1389.163425 472.758565 \nL 1447.202441 472.674831 \nL 1389.163425 472.591097 \nL 1447.202441 472.423629 \nL 1447.202441 472.256162 \nL 1389.163425 472.172428 \nL 1434.304882 472.088694 \nL 1389.163425 472.00496 \nL 1447.202441 471.837493 \nL 1447.202441 471.753759 \nL 1389.163425 471.586291 \nL 1447.202441 471.418823 \nL 1447.202441 470.581485 \nL 1389.163425 470.414017 \nL 1447.202441 470.330284 \nL 1389.163425 470.162816 \nL 1447.202441 469.995348 \nL 1440.753661 469.911615 \nL 1389.163425 469.827881 \nL 1447.202441 469.744147 \nL 1389.163425 469.576679 \nL 1447.202441 469.492945 \nL 1402.060984 469.409212 \nL 1447.202441 469.241744 \nL 1447.202441 469.15801 \nL 1389.163425 468.990542 \nL 1447.202441 468.823075 \nL 1447.202441 468.06947 \nL 1389.163425 467.985737 \nL 1447.202441 467.818269 \nL 1389.163425 467.734535 \nL 1447.202441 467.567067 \nL 1447.202441 466.980931 \nL 1440.753661 466.897197 \nL 1447.202441 466.729729 \nL 1447.202441 466.478528 \nL 1402.060984 466.394794 \nL 1447.202441 466.227326 \nL 1389.163425 466.143592 \nL 1447.202441 465.976125 \nL 1447.202441 465.306254 \nL 1389.163425 465.22252 \nL 1440.753661 465.138786 \nL 1389.163425 464.971319 \nL 1447.202441 464.803851 \nL 1389.163425 464.720117 \nL 1447.202441 464.636383 \nL 1395.612204 464.55265 \nL 1447.202441 464.385182 \nL 1408.509763 464.301448 \nL 1447.202441 464.217714 \nL 1389.163425 464.13398 \nL 1447.202441 463.966513 \nL 1447.202441 463.882779 \nL 1395.612204 463.799045 \nL 1447.202441 463.631578 \nL 1447.202441 463.212908 \nL 1389.163425 463.129175 \nL 1447.202441 463.045441 \nL 1414.958543 462.877973 \nL 1447.202441 462.794239 \nL 1389.163425 462.710505 \nL 1395.612204 462.626772 \nL 1447.202441 462.459304 \nL 1447.202441 462.291836 \nL 1389.163425 462.208102 \nL 1402.060984 462.124369 \nL 1408.509763 462.040635 \nL 1447.202441 461.873167 \nL 1389.163425 461.789433 \nL 1447.202441 461.7057 \nL 1389.163425 461.538232 \nL 1389.163425 461.454498 \nL 1447.202441 461.370764 \nL 1389.163425 461.28703 \nL 1447.202441 461.203297 \nL 1389.163425 461.119563 \nL 1447.202441 460.952095 \nL 1389.163425 460.868361 \nL 1447.202441 460.700894 \nL 1447.202441 460.61716 \nL 1421.407322 460.533426 \nL 1447.202441 460.449692 \nL 1389.163425 460.282224 \nL 1447.202441 460.114757 \nL 1402.060984 460.031023 \nL 1447.202441 459.863555 \nL 1389.163425 459.779822 \nL 1447.202441 459.612354 \nL 1402.060984 459.52862 \nL 1447.202441 459.361152 \nL 1402.060984 459.277419 \nL 1447.202441 459.109951 \nL 1389.163425 459.026217 \nL 1447.202441 458.942483 \nL 1389.163425 458.775016 \nL 1389.163425 458.691282 \nL 1447.202441 458.607548 \nL 1421.407322 458.523814 \nL 1447.202441 458.356346 \nL 1447.202441 458.188879 \nL 1389.163425 458.021411 \nL 1389.163425 457.937677 \nL 1447.202441 457.77021 \nL 1447.202441 457.602742 \nL 1389.163425 457.519008 \nL 1447.202441 457.435274 \nL 1389.163425 457.351541 \nL 1447.202441 457.184073 \nL 1447.202441 456.849138 \nL 1389.163425 456.765404 \nL 1447.202441 456.597936 \nL 1447.202441 455.844332 \nL 1395.612204 455.676864 \nL 1447.202441 455.509396 \nL 1447.202441 455.425663 \nL 1389.163425 455.341929 \nL 1395.612204 455.258195 \nL 1447.202441 455.090727 \nL 1389.163425 454.92326 \nL 1447.202441 454.755792 \nL 1389.163425 454.672058 \nL 1447.202441 454.50459 \nL 1447.202441 454.420857 \nL 1408.509763 454.337123 \nL 1447.202441 454.169655 \nL 1389.163425 454.085921 \nL 1402.060984 454.002188 \nL 1447.202441 453.918454 \nL 1414.958543 453.83472 \nL 1447.202441 453.750986 \nL 1389.163425 453.583518 \nL 1447.202441 453.499785 \nL 1389.163425 453.416051 \nL 1447.202441 453.248583 \nL 1447.202441 452.662446 \nL 1389.163425 452.494979 \nL 1447.202441 452.327511 \nL 1447.202441 451.908842 \nL 1389.163425 451.741374 \nL 1447.202441 451.65764 \nL 1402.060984 451.573907 \nL 1447.202441 451.406439 \nL 1447.202441 451.155237 \nL 1389.163425 451.071504 \nL 1447.202441 450.904036 \nL 1447.202441 450.820302 \nL 1389.163425 450.652834 \nL 1395.612204 450.569101 \nL 1447.202441 450.401633 \nL 1447.202441 449.982964 \nL 1389.163425 449.89923 \nL 1414.958543 449.815496 \nL 1389.163425 449.731762 \nL 1447.202441 449.564295 \nL 1389.163425 449.396827 \nL 1389.163425 449.313093 \nL 1447.202441 449.145626 \nL 1389.163425 449.061892 \nL 1447.202441 448.894424 \nL 1447.202441 448.81069 \nL 1389.163425 448.726956 \nL 1402.060984 448.643223 \nL 1447.202441 448.475755 \nL 1389.163425 448.392021 \nL 1447.202441 448.224554 \nL 1447.202441 447.889618 \nL 1402.060984 447.805884 \nL 1447.202441 447.638417 \nL 1389.163425 447.554683 \nL 1447.202441 447.470949 \nL 1389.163425 447.387215 \nL 1447.202441 447.303481 \nL 1389.163425 447.219748 \nL 1447.202441 447.05228 \nL 1389.163425 446.884812 \nL 1447.202441 446.717345 \nL 1447.202441 446.549877 \nL 1440.753661 446.466143 \nL 1447.202441 446.298676 \nL 1447.202441 446.214942 \nL 1389.163425 446.131208 \nL 1447.202441 446.047474 \nL 1414.958543 445.96374 \nL 1447.202441 445.880006 \nL 1402.060984 445.796273 \nL 1447.202441 445.628805 \nL 1447.202441 445.461337 \nL 1389.163425 445.377603 \nL 1447.202441 445.210136 \nL 1447.202441 444.8752 \nL 1389.163425 444.707733 \nL 1447.202441 444.623999 \nL 1408.509763 444.540265 \nL 1447.202441 444.456531 \nL 1389.163425 444.372798 \nL 1447.202441 444.20533 \nL 1389.163425 444.037862 \nL 1421.407322 443.954128 \nL 1402.060984 443.870395 \nL 1447.202441 443.702927 \nL 1447.202441 443.619193 \nL 1389.163425 443.451725 \nL 1447.202441 443.284258 \nL 1389.163425 443.11679 \nL 1389.163425 443.033056 \nL 1447.202441 442.865589 \nL 1447.202441 442.279452 \nL 1389.163425 442.111984 \nL 1447.202441 442.02825 \nL 1389.163425 441.944517 \nL 1447.202441 441.860783 \nL 1408.509763 441.777049 \nL 1447.202441 441.609581 \nL 1389.163425 441.525847 \nL 1447.202441 441.35838 \nL 1414.958543 441.274646 \nL 1447.202441 441.107178 \nL 1434.304882 441.023444 \nL 1447.202441 440.939711 \nL 1389.163425 440.855977 \nL 1447.202441 440.688509 \nL 1389.163425 440.604775 \nL 1447.202441 440.521041 \nL 1389.163425 440.353574 \nL 1389.163425 440.26984 \nL 1447.202441 440.102372 \nL 1447.202441 440.018639 \nL 1389.163425 439.934905 \nL 1447.202441 439.767437 \nL 1447.202441 439.516236 \nL 1402.060984 439.432502 \nL 1447.202441 439.265034 \nL 1447.202441 439.097566 \nL 1402.060984 439.013833 \nL 1447.202441 438.930099 \nL 1389.163425 438.846365 \nL 1402.060984 438.762631 \nL 1447.202441 438.595163 \nL 1447.202441 438.51143 \nL 1389.163425 438.427696 \nL 1447.202441 438.260228 \nL 1389.163425 438.176494 \nL 1447.202441 438.092761 \nL 1389.163425 437.925293 \nL 1389.163425 437.757825 \nL 1402.060984 437.674091 \nL 1447.202441 437.506624 \nL 1447.202441 437.42289 \nL 1389.163425 437.339156 \nL 1447.202441 437.255422 \nL 1440.753661 437.171688 \nL 1389.163425 437.004221 \nL 1447.202441 436.920487 \nL 1389.163425 436.836753 \nL 1447.202441 436.669285 \nL 1447.202441 436.418084 \nL 1389.163425 436.250616 \nL 1447.202441 436.166883 \nL 1389.163425 435.999415 \nL 1447.202441 435.915681 \nL 1402.060984 435.831947 \nL 1447.202441 435.66448 \nL 1389.163425 435.497012 \nL 1447.202441 435.329544 \nL 1447.202441 435.078343 \nL 1389.163425 434.994609 \nL 1447.202441 434.827141 \nL 1447.202441 434.743407 \nL 1389.163425 434.57594 \nL 1447.202441 434.408472 \nL 1389.163425 434.324738 \nL 1395.612204 434.241005 \nL 1389.163425 434.157271 \nL 1447.202441 433.989803 \nL 1447.202441 433.906069 \nL 1408.509763 433.822335 \nL 1447.202441 433.738602 \nL 1389.163425 433.654868 \nL 1434.304882 433.571134 \nL 1389.163425 433.403666 \nL 1389.163425 433.319932 \nL 1402.060984 433.236199 \nL 1389.163425 433.152465 \nL 1447.202441 433.068731 \nL 1389.163425 432.984997 \nL 1447.202441 432.817529 \nL 1447.202441 432.650062 \nL 1389.163425 432.566328 \nL 1447.202441 432.39886 \nL 1447.202441 432.147659 \nL 1440.753661 432.063925 \nL 1447.202441 431.896457 \nL 1447.202441 431.394054 \nL 1389.163425 431.310321 \nL 1447.202441 431.142853 \nL 1389.163425 430.975385 \nL 1447.202441 430.891651 \nL 1389.163425 430.724184 \nL 1447.202441 430.64045 \nL 1389.163425 430.472982 \nL 1447.202441 430.389249 \nL 1440.753661 430.305515 \nL 1440.753661 430.221781 \nL 1447.202441 430.054313 \nL 1389.163425 429.886846 \nL 1389.163425 429.55191 \nL 1447.202441 429.468176 \nL 1389.163425 429.384443 \nL 1447.202441 429.216975 \nL 1389.163425 429.133241 \nL 1434.304882 428.965773 \nL 1447.202441 428.88204 \nL 1402.060984 428.798306 \nL 1447.202441 428.630838 \nL 1389.163425 428.547104 \nL 1447.202441 428.463371 \nL 1389.163425 428.295903 \nL 1447.202441 428.128435 \nL 1447.202441 427.542298 \nL 1389.163425 427.458565 \nL 1447.202441 427.374831 \nL 1389.163425 427.291097 \nL 1447.202441 427.207363 \nL 1389.163425 427.123629 \nL 1447.202441 426.872428 \nL 1389.163425 426.788694 \nL 1447.202441 426.621226 \nL 1389.163425 426.537493 \nL 1447.202441 426.370025 \nL 1447.202441 426.202557 \nL 1389.163425 425.951356 \nL 1389.163425 425.867622 \nL 1447.202441 425.700154 \nL 1389.163425 425.532687 \nL 1440.753661 425.448953 \nL 1389.163425 425.281485 \nL 1447.202441 425.114017 \nL 1447.202441 424.779082 \nL 1408.509763 424.695348 \nL 1447.202441 424.527881 \nL 1447.202441 424.444147 \nL 1389.163425 424.360413 \nL 1447.202441 424.192945 \nL 1389.163425 424.109212 \nL 1447.202441 424.025478 \nL 1389.163425 423.941744 \nL 1447.202441 423.774276 \nL 1447.202441 423.439341 \nL 1389.163425 423.271873 \nL 1447.202441 423.104406 \nL 1447.202441 422.936938 \nL 1389.163425 422.853204 \nL 1402.060984 422.76947 \nL 1447.202441 422.602003 \nL 1389.163425 422.434535 \nL 1447.202441 422.267067 \nL 1447.202441 421.932132 \nL 1389.163425 421.764664 \nL 1447.202441 421.597197 \nL 1389.163425 421.429729 \nL 1447.202441 421.262261 \nL 1447.202441 421.094794 \nL 1389.163425 421.01106 \nL 1447.202441 420.676125 \nL 1447.202441 420.508657 \nL 1389.163425 420.424923 \nL 1447.202441 420.257456 \nL 1447.202441 420.089988 \nL 1389.163425 419.92252 \nL 1447.202441 419.755053 \nL 1447.202441 419.671319 \nL 1389.163425 419.503851 \nL 1395.612204 419.420117 \nL 1447.202441 419.336383 \nL 1389.163425 419.25265 \nL 1447.202441 419.085182 \nL 1447.202441 418.750247 \nL 1389.163425 418.666513 \nL 1402.060984 418.582779 \nL 1447.202441 418.499045 \nL 1402.060984 418.415311 \nL 1447.202441 418.247844 \nL 1447.202441 418.080376 \nL 1389.163425 417.996642 \nL 1447.202441 417.829175 \nL 1447.202441 417.661707 \nL 1421.407322 417.577973 \nL 1447.202441 417.410505 \nL 1447.202441 417.326772 \nL 1389.163425 417.159304 \nL 1447.202441 416.991836 \nL 1447.202441 416.908102 \nL 1389.163425 416.740635 \nL 1389.163425 416.656901 \nL 1447.202441 416.489433 \nL 1447.202441 416.4057 \nL 1389.163425 416.321966 \nL 1447.202441 416.154498 \nL 1447.202441 415.98703 \nL 1389.163425 415.903297 \nL 1447.202441 415.735829 \nL 1447.202441 415.568361 \nL 1389.163425 415.484627 \nL 1447.202441 415.31716 \nL 1447.202441 415.065958 \nL 1389.163425 414.898491 \nL 1447.202441 414.731023 \nL 1389.163425 414.563555 \nL 1447.202441 414.396088 \nL 1447.202441 413.809951 \nL 1408.509763 413.726217 \nL 1447.202441 413.558749 \nL 1447.202441 413.391282 \nL 1389.163425 413.307548 \nL 1447.202441 413.14008 \nL 1447.202441 412.888879 \nL 1389.163425 412.805145 \nL 1447.202441 412.721411 \nL 1408.509763 412.553944 \nL 1447.202441 412.386476 \nL 1447.202441 412.302742 \nL 1389.163425 412.219008 \nL 1447.202441 412.135274 \nL 1389.163425 411.967807 \nL 1447.202441 411.884073 \nL 1389.163425 411.716605 \nL 1447.202441 411.549138 \nL 1447.202441 411.465404 \nL 1421.407322 411.38167 \nL 1447.202441 411.297936 \nL 1421.407322 411.214202 \nL 1447.202441 411.130468 \nL 1389.163425 411.046735 \nL 1447.202441 410.963001 \nL 1389.163425 410.879267 \nL 1447.202441 410.711799 \nL 1427.856102 410.628066 \nL 1447.202441 410.460598 \nL 1447.202441 410.376864 \nL 1389.163425 410.209396 \nL 1447.202441 410.041929 \nL 1447.202441 409.958195 \nL 1434.304882 409.874461 \nL 1447.202441 409.706993 \nL 1447.202441 409.20459 \nL 1395.612204 409.037123 \nL 1447.202441 408.953389 \nL 1389.163425 408.869655 \nL 1447.202441 408.702188 \nL 1447.202441 408.199785 \nL 1389.163425 408.116051 \nL 1447.202441 407.948583 \nL 1447.202441 407.697382 \nL 1440.753661 407.613648 \nL 1414.958543 407.529914 \nL 1447.202441 407.362446 \nL 1447.202441 407.111245 \nL 1389.163425 407.027511 \nL 1447.202441 406.860043 \nL 1421.407322 406.77631 \nL 1447.202441 406.608842 \nL 1447.202441 406.106439 \nL 1395.612204 406.022705 \nL 1447.202441 405.855237 \nL 1447.202441 405.68777 \nL 1421.407322 405.604036 \nL 1447.202441 405.520302 \nL 1389.163425 405.352834 \nL 1389.163425 405.185367 \nL 1421.407322 405.101633 \nL 1389.163425 404.934165 \nL 1447.202441 404.766698 \nL 1389.163425 404.682964 \nL 1447.202441 404.59923 \nL 1389.163425 404.515496 \nL 1447.202441 404.348029 \nL 1447.202441 404.180561 \nL 1434.304882 404.096827 \nL 1447.202441 403.929359 \nL 1447.202441 403.594424 \nL 1389.163425 403.51069 \nL 1395.612204 403.426956 \nL 1447.202441 403.343223 \nL 1389.163425 403.175755 \nL 1447.202441 403.092021 \nL 1389.163425 403.008287 \nL 1447.202441 402.924554 \nL 1389.163425 402.84082 \nL 1447.202441 402.673352 \nL 1447.202441 402.170949 \nL 1389.163425 402.087215 \nL 1447.202441 401.919748 \nL 1389.163425 401.75228 \nL 1447.202441 401.584812 \nL 1447.202441 401.166143 \nL 1389.163425 401.082409 \nL 1447.202441 400.914942 \nL 1389.163425 400.831208 \nL 1447.202441 400.66374 \nL 1447.202441 400.077603 \nL 1389.163425 399.99387 \nL 1447.202441 399.910136 \nL 1434.304882 399.826402 \nL 1447.202441 399.658934 \nL 1447.202441 398.402927 \nL 1389.163425 398.319193 \nL 1447.202441 398.235459 \nL 1389.163425 398.067992 \nL 1389.163425 397.984258 \nL 1447.202441 397.81679 \nL 1447.202441 397.565589 \nL 1389.163425 397.398121 \nL 1447.202441 397.314387 \nL 1389.163425 397.230653 \nL 1447.202441 397.063186 \nL 1447.202441 396.979452 \nL 1389.163425 396.811984 \nL 1447.202441 396.72825 \nL 1389.163425 396.644517 \nL 1447.202441 396.477049 \nL 1447.202441 396.393315 \nL 1389.163425 396.225847 \nL 1447.202441 396.142114 \nL 1389.163425 396.05838 \nL 1447.202441 395.890912 \nL 1447.202441 395.723444 \nL 1389.163425 395.639711 \nL 1447.202441 395.555977 \nL 1389.163425 395.472243 \nL 1447.202441 395.304775 \nL 1389.163425 395.221041 \nL 1447.202441 395.137308 \nL 1389.163425 395.053574 \nL 1395.612204 394.96984 \nL 1447.202441 394.802372 \nL 1447.202441 394.467437 \nL 1389.163425 394.383703 \nL 1447.202441 394.216236 \nL 1440.753661 394.132502 \nL 1389.163425 393.965034 \nL 1447.202441 393.797566 \nL 1447.202441 393.295163 \nL 1389.163425 393.21143 \nL 1447.202441 393.043962 \nL 1447.202441 392.12289 \nL 1389.163425 392.039156 \nL 1447.202441 391.955422 \nL 1440.753661 391.871688 \nL 1402.060984 391.704221 \nL 1389.163425 391.620487 \nL 1447.202441 391.453019 \nL 1447.202441 391.285552 \nL 1389.163425 391.201818 \nL 1447.202441 391.118084 \nL 1389.163425 391.03435 \nL 1447.202441 390.866883 \nL 1447.202441 390.783149 \nL 1434.304882 390.699415 \nL 1447.202441 390.531947 \nL 1447.202441 390.280746 \nL 1440.753661 390.197012 \nL 1447.202441 390.029544 \nL 1447.202441 389.778343 \nL 1389.163425 389.694609 \nL 1447.202441 389.527141 \nL 1447.202441 388.857271 \nL 1389.163425 388.773537 \nL 1447.202441 388.606069 \nL 1389.163425 388.522335 \nL 1447.202441 388.354868 \nL 1447.202441 387.768731 \nL 1440.753661 387.684997 \nL 1447.202441 387.601263 \nL 1389.163425 387.433796 \nL 1389.163425 387.266328 \nL 1402.060984 387.182594 \nL 1447.202441 387.015127 \nL 1447.202441 386.847659 \nL 1389.163425 386.680191 \nL 1447.202441 386.596457 \nL 1389.163425 386.512724 \nL 1447.202441 386.345256 \nL 1389.163425 386.261522 \nL 1447.202441 386.177788 \nL 1402.060984 386.094054 \nL 1447.202441 385.926587 \nL 1447.202441 385.675385 \nL 1389.163425 385.507918 \nL 1447.202441 385.34045 \nL 1447.202441 384.838047 \nL 1389.163425 384.670579 \nL 1447.202441 384.503112 \nL 1447.202441 384.419378 \nL 1389.163425 384.335644 \nL 1447.202441 384.168176 \nL 1389.163425 384.000709 \nL 1389.163425 383.833241 \nL 1447.202441 383.665773 \nL 1447.202441 383.498306 \nL 1389.163425 383.330838 \nL 1447.202441 383.163371 \nL 1447.202441 382.828435 \nL 1440.753661 382.744701 \nL 1447.202441 382.577234 \nL 1447.202441 382.074831 \nL 1389.163425 381.991097 \nL 1447.202441 381.823629 \nL 1447.202441 381.40496 \nL 1389.163425 381.321226 \nL 1447.202441 381.237493 \nL 1389.163425 381.153759 \nL 1447.202441 380.986291 \nL 1402.060984 380.902557 \nL 1408.509763 380.818823 \nL 1447.202441 380.651356 \nL 1408.509763 380.567622 \nL 1447.202441 380.483888 \nL 1434.304882 380.400154 \nL 1447.202441 380.232687 \nL 1447.202441 379.814017 \nL 1389.163425 379.730284 \nL 1447.202441 379.562816 \nL 1447.202441 379.227881 \nL 1402.060984 379.144147 \nL 1447.202441 378.976679 \nL 1447.202441 378.809212 \nL 1402.060984 378.641744 \nL 1447.202441 378.55801 \nL 1421.407322 378.474276 \nL 1447.202441 378.390542 \nL 1408.509763 378.223075 \nL 1447.202441 378.055607 \nL 1447.202441 377.971873 \nL 1389.163425 377.804406 \nL 1447.202441 377.636938 \nL 1389.163425 377.553204 \nL 1447.202441 377.385737 \nL 1389.163425 377.134535 \nL 1447.202441 376.967067 \nL 1447.202441 376.464664 \nL 1389.163425 376.380931 \nL 1447.202441 376.297197 \nL 1389.163425 376.213463 \nL 1447.202441 376.045995 \nL 1447.202441 375.962261 \nL 1395.612204 375.878528 \nL 1447.202441 375.71106 \nL 1389.163425 375.627326 \nL 1447.202441 375.459858 \nL 1389.163425 375.376125 \nL 1447.202441 375.292391 \nL 1389.163425 375.208657 \nL 1447.202441 375.041189 \nL 1389.163425 374.873722 \nL 1447.202441 374.706254 \nL 1447.202441 374.538786 \nL 1421.407322 374.455053 \nL 1447.202441 374.287585 \nL 1447.202441 374.203851 \nL 1389.163425 374.036383 \nL 1447.202441 373.95265 \nL 1389.163425 373.868916 \nL 1395.612204 373.785182 \nL 1389.163425 373.701448 \nL 1447.202441 373.617714 \nL 1434.304882 373.53398 \nL 1447.202441 373.366513 \nL 1447.202441 373.199045 \nL 1389.163425 373.115311 \nL 1447.202441 372.947844 \nL 1389.163425 372.86411 \nL 1447.202441 372.780376 \nL 1389.163425 372.696642 \nL 1402.060984 372.612908 \nL 1447.202441 372.445441 \nL 1447.202441 372.361707 \nL 1389.163425 372.194239 \nL 1389.163425 372.110505 \nL 1447.202441 372.026772 \nL 1389.163425 371.943038 \nL 1447.202441 371.77557 \nL 1447.202441 371.691836 \nL 1440.753661 371.608102 \nL 1389.163425 371.440635 \nL 1447.202441 371.273167 \nL 1447.202441 370.854498 \nL 1434.304882 370.770764 \nL 1389.163425 370.68703 \nL 1447.202441 370.519563 \nL 1389.163425 370.435829 \nL 1447.202441 370.352095 \nL 1402.060984 370.184627 \nL 1389.163425 370.100894 \nL 1447.202441 370.01716 \nL 1389.163425 369.933426 \nL 1447.202441 369.849692 \nL 1389.163425 369.682224 \nL 1447.202441 369.514757 \nL 1447.202441 369.431023 \nL 1434.304882 369.347289 \nL 1447.202441 369.179822 \nL 1447.202441 368.677419 \nL 1389.163425 368.593685 \nL 1447.202441 368.426217 \nL 1447.202441 367.672613 \nL 1389.163425 367.588879 \nL 1447.202441 367.421411 \nL 1447.202441 367.17021 \nL 1389.163425 367.086476 \nL 1402.060984 367.002742 \nL 1447.202441 366.835274 \nL 1447.202441 366.751541 \nL 1389.163425 366.667807 \nL 1447.202441 366.500339 \nL 1447.202441 366.332871 \nL 1414.958543 366.249138 \nL 1447.202441 366.165404 \nL 1389.163425 366.08167 \nL 1447.202441 365.914202 \nL 1447.202441 365.495533 \nL 1389.163425 365.328066 \nL 1389.163425 365.244332 \nL 1447.202441 365.076864 \nL 1447.202441 364.99313 \nL 1440.753661 364.909396 \nL 1447.202441 364.825663 \nL 1389.163425 364.741929 \nL 1447.202441 364.658195 \nL 1389.163425 364.490727 \nL 1447.202441 364.32326 \nL 1447.202441 364.155792 \nL 1389.163425 364.072058 \nL 1402.060984 363.988324 \nL 1447.202441 363.820857 \nL 1447.202441 362.983518 \nL 1389.163425 362.816051 \nL 1447.202441 362.648583 \nL 1447.202441 362.313648 \nL 1389.163425 362.14618 \nL 1447.202441 362.062446 \nL 1389.163425 361.978712 \nL 1447.202441 361.894979 \nL 1389.163425 361.811245 \nL 1447.202441 361.643777 \nL 1389.163425 361.47631 \nL 1389.163425 361.392576 \nL 1447.202441 361.225108 \nL 1389.163425 361.141374 \nL 1447.202441 360.973907 \nL 1447.202441 360.806439 \nL 1389.163425 360.722705 \nL 1447.202441 360.638971 \nL 1389.163425 360.555237 \nL 1447.202441 360.471504 \nL 1389.163425 360.38777 \nL 1447.202441 360.304036 \nL 1389.163425 360.220302 \nL 1447.202441 360.052834 \nL 1447.202441 359.717899 \nL 1434.304882 359.634165 \nL 1447.202441 359.550432 \nL 1389.163425 359.466698 \nL 1440.753661 359.382964 \nL 1389.163425 359.29923 \nL 1440.753661 359.215496 \nL 1414.958543 359.131762 \nL 1447.202441 359.048029 \nL 1389.163425 358.880561 \nL 1447.202441 358.713093 \nL 1447.202441 358.545626 \nL 1408.509763 358.461892 \nL 1447.202441 358.294424 \nL 1447.202441 358.043223 \nL 1395.612204 357.959489 \nL 1447.202441 357.875755 \nL 1421.407322 357.792021 \nL 1447.202441 357.708287 \nL 1395.612204 357.624554 \nL 1447.202441 357.457086 \nL 1440.753661 357.373352 \nL 1447.202441 357.289618 \nL 1440.753661 357.205884 \nL 1447.202441 357.122151 \nL 1389.163425 357.038417 \nL 1402.060984 356.954683 \nL 1395.612204 356.870949 \nL 1447.202441 356.703481 \nL 1389.163425 356.536014 \nL 1447.202441 356.45228 \nL 1389.163425 356.284812 \nL 1447.202441 356.117345 \nL 1395.612204 356.033611 \nL 1447.202441 355.866143 \nL 1447.202441 355.280006 \nL 1389.163425 355.196273 \nL 1447.202441 355.112539 \nL 1402.060984 354.945071 \nL 1447.202441 354.861337 \nL 1434.304882 354.777603 \nL 1389.163425 354.69387 \nL 1447.202441 354.610136 \nL 1389.163425 354.442668 \nL 1447.202441 354.2752 \nL 1447.202441 354.191467 \nL 1389.163425 354.107733 \nL 1447.202441 354.023999 \nL 1389.163425 353.940265 \nL 1447.202441 353.772798 \nL 1447.202441 353.437862 \nL 1389.163425 353.354128 \nL 1447.202441 353.270395 \nL 1402.060984 353.186661 \nL 1447.202441 353.102927 \nL 1434.304882 353.019193 \nL 1389.163425 352.935459 \nL 1447.202441 352.767992 \nL 1447.202441 352.349322 \nL 1389.163425 352.265589 \nL 1447.202441 352.098121 \nL 1447.202441 352.014387 \nL 1389.163425 351.930653 \nL 1447.202441 351.846919 \nL 1389.163425 351.763186 \nL 1447.202441 351.679452 \nL 1408.509763 351.595718 \nL 1447.202441 351.42825 \nL 1447.202441 351.177049 \nL 1408.509763 351.093315 \nL 1447.202441 350.925847 \nL 1447.202441 350.255977 \nL 1402.060984 350.088509 \nL 1447.202441 349.921041 \nL 1447.202441 349.837308 \nL 1440.753661 349.753574 \nL 1447.202441 349.586106 \nL 1447.202441 349.418639 \nL 1389.163425 349.334905 \nL 1447.202441 349.167437 \nL 1447.202441 348.916236 \nL 1434.304882 348.832502 \nL 1389.163425 348.748768 \nL 1447.202441 348.5813 \nL 1447.202441 348.497566 \nL 1395.612204 348.413833 \nL 1447.202441 348.330099 \nL 1389.163425 348.246365 \nL 1447.202441 348.078897 \nL 1447.202441 347.827696 \nL 1389.163425 347.743962 \nL 1447.202441 347.576494 \nL 1447.202441 347.241559 \nL 1402.060984 347.157825 \nL 1447.202441 346.990358 \nL 1447.202441 346.906624 \nL 1389.163425 346.82289 \nL 1447.202441 346.655422 \nL 1447.202441 346.487955 \nL 1389.163425 346.320487 \nL 1447.202441 346.153019 \nL 1389.163425 345.985552 \nL 1447.202441 345.901818 \nL 1389.163425 345.73435 \nL 1447.202441 345.650616 \nL 1389.163425 345.566883 \nL 1447.202441 345.483149 \nL 1414.958543 345.399415 \nL 1447.202441 345.315681 \nL 1389.163425 345.148213 \nL 1389.163425 345.06448 \nL 1447.202441 344.897012 \nL 1447.202441 344.813278 \nL 1389.163425 344.729544 \nL 1447.202441 344.562077 \nL 1447.202441 344.478343 \nL 1434.304882 344.394609 \nL 1447.202441 344.227141 \nL 1389.163425 344.059674 \nL 1447.202441 343.892206 \nL 1402.060984 343.808472 \nL 1447.202441 343.724738 \nL 1389.163425 343.641005 \nL 1447.202441 343.473537 \nL 1447.202441 343.389803 \nL 1389.163425 343.306069 \nL 1447.202441 343.138602 \nL 1447.202441 343.054868 \nL 1389.163425 342.971134 \nL 1447.202441 342.803666 \nL 1421.407322 342.719932 \nL 1447.202441 342.636199 \nL 1389.163425 342.468731 \nL 1447.202441 342.133796 \nL 1447.202441 341.966328 \nL 1389.163425 341.79886 \nL 1389.163425 341.715127 \nL 1447.202441 341.631393 \nL 1389.163425 341.547659 \nL 1402.060984 341.463925 \nL 1447.202441 341.296457 \nL 1447.202441 340.626587 \nL 1440.753661 340.542853 \nL 1447.202441 340.375385 \nL 1447.202441 340.291651 \nL 1389.163425 340.207918 \nL 1447.202441 340.04045 \nL 1389.163425 339.956716 \nL 1447.202441 339.789249 \nL 1447.202441 339.621781 \nL 1389.163425 339.538047 \nL 1447.202441 339.454313 \nL 1389.163425 339.370579 \nL 1447.202441 339.203112 \nL 1447.202441 338.868176 \nL 1440.753661 338.784443 \nL 1447.202441 338.616975 \nL 1389.163425 338.533241 \nL 1447.202441 338.449507 \nL 1389.163425 338.28204 \nL 1389.163425 338.198306 \nL 1447.202441 338.030838 \nL 1447.202441 337.695903 \nL 1389.163425 337.612169 \nL 1447.202441 337.528435 \nL 1389.163425 337.360968 \nL 1447.202441 337.1935 \nL 1389.163425 337.109766 \nL 1447.202441 336.942298 \nL 1389.163425 336.774831 \nL 1447.202441 336.607363 \nL 1389.163425 336.523629 \nL 1447.202441 336.439895 \nL 1389.163425 336.356162 \nL 1447.202441 336.272428 \nL 1395.612204 336.188694 \nL 1447.202441 336.021226 \nL 1447.202441 335.770025 \nL 1389.163425 335.686291 \nL 1447.202441 335.518823 \nL 1447.202441 335.43509 \nL 1389.163425 335.351356 \nL 1447.202441 335.183888 \nL 1389.163425 335.100154 \nL 1447.202441 334.848953 \nL 1447.202441 334.765219 \nL 1389.163425 334.681485 \nL 1447.202441 334.514017 \nL 1389.163425 334.34655 \nL 1447.202441 334.262816 \nL 1389.163425 334.011615 \nL 1389.163425 333.927881 \nL 1447.202441 333.760413 \nL 1447.202441 333.341744 \nL 1389.163425 333.25801 \nL 1447.202441 333.090542 \nL 1447.202441 333.006809 \nL 1434.304882 332.923075 \nL 1447.202441 332.755607 \nL 1389.163425 332.671873 \nL 1447.202441 332.588139 \nL 1402.060984 332.504406 \nL 1447.202441 332.420672 \nL 1402.060984 332.253204 \nL 1447.202441 332.085737 \nL 1447.202441 331.918269 \nL 1389.163425 331.834535 \nL 1395.612204 331.750801 \nL 1447.202441 331.583334 \nL 1447.202441 331.4996 \nL 1408.509763 331.415866 \nL 1447.202441 331.248398 \nL 1447.202441 331.080931 \nL 1389.163425 330.997197 \nL 1447.202441 330.913463 \nL 1402.060984 330.829729 \nL 1447.202441 330.745995 \nL 1389.163425 330.662261 \nL 1447.202441 330.494794 \nL 1389.163425 330.41106 \nL 1447.202441 330.243592 \nL 1447.202441 330.076125 \nL 1389.163425 329.908657 \nL 1447.202441 329.741189 \nL 1402.060984 329.657456 \nL 1447.202441 329.489988 \nL 1447.202441 329.406254 \nL 1389.163425 329.238786 \nL 1447.202441 329.155053 \nL 1402.060984 329.071319 \nL 1414.958543 328.987585 \nL 1389.163425 328.903851 \nL 1447.202441 328.736383 \nL 1447.202441 328.485182 \nL 1389.163425 328.401448 \nL 1395.612204 328.317714 \nL 1447.202441 328.150247 \nL 1389.163425 328.066513 \nL 1447.202441 327.899045 \nL 1395.612204 327.815311 \nL 1447.202441 327.647844 \nL 1389.163425 327.480376 \nL 1447.202441 327.312908 \nL 1434.304882 327.229175 \nL 1389.163425 327.061707 \nL 1447.202441 326.894239 \nL 1447.202441 326.391836 \nL 1389.163425 326.224369 \nL 1447.202441 326.056901 \nL 1447.202441 325.721966 \nL 1389.163425 325.638232 \nL 1447.202441 325.470764 \nL 1447.202441 324.633426 \nL 1389.163425 324.549692 \nL 1447.202441 324.465958 \nL 1389.163425 324.382224 \nL 1447.202441 324.214757 \nL 1447.202441 324.131023 \nL 1395.612204 324.047289 \nL 1447.202441 323.963555 \nL 1389.163425 323.879822 \nL 1447.202441 323.712354 \nL 1447.202441 323.544886 \nL 1389.163425 323.461152 \nL 1447.202441 323.293685 \nL 1389.163425 323.209951 \nL 1447.202441 323.042483 \nL 1389.163425 322.958749 \nL 1447.202441 322.791282 \nL 1447.202441 322.707548 \nL 1389.163425 322.54008 \nL 1447.202441 322.372613 \nL 1440.753661 322.288879 \nL 1389.163425 322.205145 \nL 1447.202441 322.121411 \nL 1395.612204 322.037677 \nL 1447.202441 321.953944 \nL 1389.163425 321.87021 \nL 1447.202441 321.786476 \nL 1389.163425 321.702742 \nL 1447.202441 321.619008 \nL 1402.060984 321.535274 \nL 1447.202441 321.451541 \nL 1389.163425 321.284073 \nL 1447.202441 321.116605 \nL 1389.163425 321.032871 \nL 1447.202441 320.78167 \nL 1447.202441 320.363001 \nL 1421.407322 320.279267 \nL 1447.202441 320.195533 \nL 1408.509763 320.111799 \nL 1447.202441 319.944332 \nL 1447.202441 319.860598 \nL 1389.163425 319.776864 \nL 1447.202441 319.69313 \nL 1389.163425 319.609396 \nL 1447.202441 319.441929 \nL 1447.202441 318.688324 \nL 1440.753661 318.60459 \nL 1447.202441 318.437123 \nL 1447.202441 318.018454 \nL 1389.163425 317.850986 \nL 1447.202441 317.767252 \nL 1402.060984 317.683518 \nL 1447.202441 317.516051 \nL 1447.202441 317.348583 \nL 1389.163425 317.264849 \nL 1447.202441 317.097382 \nL 1447.202441 317.013648 \nL 1389.163425 316.84618 \nL 1389.163425 316.678712 \nL 1395.612204 316.594979 \nL 1389.163425 316.427511 \nL 1447.202441 316.343777 \nL 1408.509763 316.260043 \nL 1447.202441 316.092576 \nL 1395.612204 316.008842 \nL 1402.060984 315.925108 \nL 1389.163425 315.841374 \nL 1447.202441 315.590173 \nL 1447.202441 315.171504 \nL 1389.163425 315.08777 \nL 1447.202441 315.004036 \nL 1389.163425 314.920302 \nL 1447.202441 314.752834 \nL 1447.202441 314.585367 \nL 1389.163425 314.501633 \nL 1447.202441 314.334165 \nL 1447.202441 313.413093 \nL 1389.163425 313.329359 \nL 1447.202441 313.245626 \nL 1389.163425 313.161892 \nL 1447.202441 312.994424 \nL 1447.202441 312.826956 \nL 1389.163425 312.743223 \nL 1447.202441 312.575755 \nL 1447.202441 312.408287 \nL 1389.163425 312.24082 \nL 1447.202441 312.073352 \nL 1447.202441 311.989618 \nL 1389.163425 311.905884 \nL 1440.753661 311.822151 \nL 1434.304882 311.738417 \nL 1447.202441 311.654683 \nL 1389.163425 311.570949 \nL 1421.407322 311.487215 \nL 1402.060984 311.319748 \nL 1447.202441 311.236014 \nL 1389.163425 311.15228 \nL 1447.202441 310.901078 \nL 1389.163425 310.817345 \nL 1447.202441 310.733611 \nL 1389.163425 310.649877 \nL 1447.202441 310.566143 \nL 1389.163425 310.482409 \nL 1447.202441 310.398676 \nL 1389.163425 310.231208 \nL 1447.202441 310.06374 \nL 1447.202441 309.645071 \nL 1434.304882 309.561337 \nL 1389.163425 309.477603 \nL 1447.202441 309.310136 \nL 1447.202441 309.142668 \nL 1408.509763 309.058934 \nL 1447.202441 308.891467 \nL 1447.202441 308.723999 \nL 1389.163425 308.640265 \nL 1447.202441 308.472798 \nL 1389.163425 308.389064 \nL 1447.202441 308.30533 \nL 1389.163425 308.221596 \nL 1447.202441 308.137862 \nL 1440.753661 308.054128 \nL 1447.202441 307.970395 \nL 1389.163425 307.886661 \nL 1434.304882 307.802927 \nL 1389.163425 307.719193 \nL 1447.202441 307.635459 \nL 1440.753661 307.551725 \nL 1447.202441 307.384258 \nL 1389.163425 307.300524 \nL 1447.202441 307.21679 \nL 1389.163425 307.133056 \nL 1447.202441 306.965589 \nL 1447.202441 306.798121 \nL 1389.163425 306.630653 \nL 1447.202441 306.463186 \nL 1389.163425 306.295718 \nL 1447.202441 306.12825 \nL 1447.202441 306.044517 \nL 1421.407322 305.960783 \nL 1447.202441 305.877049 \nL 1434.304882 305.793315 \nL 1447.202441 305.709581 \nL 1440.753661 305.625847 \nL 1447.202441 305.45838 \nL 1447.202441 304.872243 \nL 1389.163425 304.704775 \nL 1389.163425 304.621041 \nL 1447.202441 304.537308 \nL 1389.163425 304.453574 \nL 1447.202441 304.36984 \nL 1389.163425 304.286106 \nL 1447.202441 304.118639 \nL 1447.202441 303.867437 \nL 1389.163425 303.783703 \nL 1395.612204 303.699969 \nL 1447.202441 303.532502 \nL 1395.612204 303.448768 \nL 1447.202441 303.197566 \nL 1447.202441 303.030099 \nL 1389.163425 302.862631 \nL 1447.202441 302.778897 \nL 1389.163425 302.695163 \nL 1447.202441 302.61143 \nL 1389.163425 302.443962 \nL 1389.163425 302.360228 \nL 1447.202441 302.192761 \nL 1389.163425 302.109027 \nL 1402.060984 302.025293 \nL 1447.202441 301.941559 \nL 1389.163425 301.857825 \nL 1447.202441 301.774091 \nL 1389.163425 301.606624 \nL 1389.163425 301.52289 \nL 1447.202441 301.355422 \nL 1447.202441 300.936753 \nL 1414.958543 300.769285 \nL 1389.163425 300.685552 \nL 1447.202441 300.518084 \nL 1447.202441 300.43435 \nL 1389.163425 300.266883 \nL 1434.304882 300.183149 \nL 1402.060984 300.099415 \nL 1447.202441 300.015681 \nL 1434.304882 299.931947 \nL 1447.202441 299.76448 \nL 1447.202441 299.597012 \nL 1389.163425 299.429544 \nL 1447.202441 299.262077 \nL 1447.202441 299.094609 \nL 1389.163425 298.927141 \nL 1447.202441 298.759674 \nL 1447.202441 298.67594 \nL 1389.163425 298.508472 \nL 1447.202441 298.341005 \nL 1447.202441 297.922335 \nL 1389.163425 297.754868 \nL 1447.202441 297.5874 \nL 1447.202441 297.336199 \nL 1389.163425 297.168731 \nL 1447.202441 297.084997 \nL 1389.163425 296.917529 \nL 1447.202441 296.750062 \nL 1447.202441 296.666328 \nL 1389.163425 296.49886 \nL 1447.202441 296.331393 \nL 1447.202441 296.247659 \nL 1389.163425 296.163925 \nL 1447.202441 295.996457 \nL 1447.202441 295.326587 \nL 1389.163425 295.242853 \nL 1447.202441 295.075385 \nL 1447.202441 294.991651 \nL 1389.163425 294.907918 \nL 1447.202441 294.74045 \nL 1447.202441 294.656716 \nL 1421.407322 294.572982 \nL 1447.202441 294.405515 \nL 1447.202441 294.321781 \nL 1389.163425 294.154313 \nL 1389.163425 294.070579 \nL 1447.202441 293.986846 \nL 1389.163425 293.903112 \nL 1447.202441 293.819378 \nL 1389.163425 293.735644 \nL 1447.202441 293.65191 \nL 1395.612204 293.568176 \nL 1447.202441 293.484443 \nL 1402.060984 293.400709 \nL 1447.202441 293.233241 \nL 1447.202441 292.730838 \nL 1389.163425 292.647104 \nL 1447.202441 292.563371 \nL 1440.753661 292.479637 \nL 1447.202441 292.312169 \nL 1421.407322 292.228435 \nL 1447.202441 292.144701 \nL 1389.163425 292.060968 \nL 1447.202441 291.8935 \nL 1447.202441 291.558565 \nL 1389.163425 291.474831 \nL 1447.202441 291.391097 \nL 1389.163425 291.307363 \nL 1447.202441 291.139895 \nL 1447.202441 291.056162 \nL 1389.163425 290.888694 \nL 1447.202441 290.80496 \nL 1389.163425 290.637493 \nL 1447.202441 290.470025 \nL 1447.202441 290.386291 \nL 1389.163425 290.302557 \nL 1421.407322 290.218823 \nL 1389.163425 290.13509 \nL 1447.202441 289.967622 \nL 1440.753661 289.883888 \nL 1447.202441 289.71642 \nL 1447.202441 289.548953 \nL 1389.163425 289.465219 \nL 1408.509763 289.381485 \nL 1389.163425 289.297751 \nL 1447.202441 289.130284 \nL 1389.163425 288.962816 \nL 1389.163425 288.795348 \nL 1447.202441 288.627881 \nL 1389.163425 288.460413 \nL 1447.202441 288.292945 \nL 1447.202441 287.706809 \nL 1389.163425 287.623075 \nL 1447.202441 287.455607 \nL 1447.202441 287.120672 \nL 1402.060984 287.036938 \nL 1447.202441 286.86947 \nL 1447.202441 286.785737 \nL 1389.163425 286.618269 \nL 1447.202441 286.450801 \nL 1447.202441 286.283334 \nL 1402.060984 286.1996 \nL 1447.202441 286.032132 \nL 1447.202441 285.948398 \nL 1389.163425 285.780931 \nL 1447.202441 285.613463 \nL 1447.202441 285.362261 \nL 1389.163425 285.278528 \nL 1402.060984 285.194794 \nL 1389.163425 285.11106 \nL 1447.202441 284.943592 \nL 1389.163425 284.859858 \nL 1447.202441 284.692391 \nL 1447.202441 284.273722 \nL 1389.163425 284.189988 \nL 1447.202441 284.106254 \nL 1389.163425 283.938786 \nL 1447.202441 283.771319 \nL 1447.202441 283.687585 \nL 1440.753661 283.603851 \nL 1447.202441 283.520117 \nL 1389.163425 283.436383 \nL 1447.202441 283.268916 \nL 1389.163425 283.185182 \nL 1447.202441 283.101448 \nL 1389.163425 283.017714 \nL 1447.202441 282.850247 \nL 1389.163425 282.766513 \nL 1395.612204 282.682779 \nL 1447.202441 282.515311 \nL 1447.202441 282.431578 \nL 1389.163425 282.347844 \nL 1447.202441 282.180376 \nL 1447.202441 282.096642 \nL 1389.163425 281.929175 \nL 1389.163425 281.845441 \nL 1447.202441 281.677973 \nL 1447.202441 281.091836 \nL 1389.163425 281.008102 \nL 1447.202441 280.840635 \nL 1389.163425 280.756901 \nL 1447.202441 280.589433 \nL 1447.202441 280.338232 \nL 1389.163425 280.254498 \nL 1447.202441 280.170764 \nL 1389.163425 280.08703 \nL 1447.202441 279.919563 \nL 1402.060984 279.835829 \nL 1447.202441 279.668361 \nL 1447.202441 279.584627 \nL 1389.163425 279.41716 \nL 1389.163425 279.333426 \nL 1447.202441 279.165958 \nL 1447.202441 278.998491 \nL 1389.163425 278.831023 \nL 1447.202441 278.663555 \nL 1440.753661 278.579822 \nL 1421.407322 278.496088 \nL 1447.202441 278.32862 \nL 1447.202441 277.993685 \nL 1389.163425 277.909951 \nL 1447.202441 277.742483 \nL 1447.202441 276.988879 \nL 1395.612204 276.905145 \nL 1447.202441 276.737677 \nL 1447.202441 276.57021 \nL 1389.163425 276.402742 \nL 1389.163425 276.235274 \nL 1440.753661 276.151541 \nL 1389.163425 276.067807 \nL 1447.202441 275.900339 \nL 1389.163425 275.816605 \nL 1447.202441 275.649138 \nL 1447.202441 274.895533 \nL 1389.163425 274.811799 \nL 1447.202441 274.644332 \nL 1447.202441 274.476864 \nL 1440.753661 274.39313 \nL 1389.163425 274.309396 \nL 1447.202441 274.141929 \nL 1447.202441 273.555792 \nL 1389.163425 273.388324 \nL 1395.612204 273.30459 \nL 1447.202441 273.137123 \nL 1389.163425 273.053389 \nL 1447.202441 272.885921 \nL 1447.202441 272.63472 \nL 1389.163425 272.550986 \nL 1447.202441 272.383518 \nL 1447.202441 271.797382 \nL 1389.163425 271.629914 \nL 1389.163425 271.462446 \nL 1447.202441 271.294979 \nL 1447.202441 271.127511 \nL 1421.407322 271.043777 \nL 1447.202441 270.87631 \nL 1447.202441 270.290173 \nL 1421.407322 270.206439 \nL 1447.202441 270.038971 \nL 1447.202441 269.871504 \nL 1389.163425 269.78777 \nL 1447.202441 269.620302 \nL 1447.202441 269.452834 \nL 1434.304882 269.369101 \nL 1389.163425 269.285367 \nL 1447.202441 269.117899 \nL 1447.202441 269.034165 \nL 1440.753661 268.950432 \nL 1447.202441 268.866698 \nL 1402.060984 268.69923 \nL 1389.163425 268.615496 \nL 1447.202441 268.448029 \nL 1389.163425 268.364295 \nL 1447.202441 268.196827 \nL 1434.304882 268.113093 \nL 1447.202441 268.029359 \nL 1389.163425 267.861892 \nL 1447.202441 267.778158 \nL 1389.163425 267.694424 \nL 1447.202441 267.61069 \nL 1389.163425 267.526956 \nL 1447.202441 267.359489 \nL 1389.163425 267.275755 \nL 1402.060984 267.192021 \nL 1389.163425 267.108287 \nL 1447.202441 267.024554 \nL 1440.753661 266.94082 \nL 1389.163425 266.857086 \nL 1447.202441 266.689618 \nL 1402.060984 266.605884 \nL 1447.202441 266.438417 \nL 1447.202441 266.187215 \nL 1389.163425 266.103481 \nL 1447.202441 265.936014 \nL 1447.202441 265.768546 \nL 1389.163425 265.684812 \nL 1447.202441 265.517345 \nL 1447.202441 264.76374 \nL 1389.163425 264.680006 \nL 1447.202441 264.512539 \nL 1447.202441 263.926402 \nL 1389.163425 263.758934 \nL 1389.163425 263.507733 \nL 1447.202441 263.423999 \nL 1421.407322 263.340265 \nL 1447.202441 263.172798 \nL 1447.202441 262.586661 \nL 1389.163425 262.502927 \nL 1447.202441 262.419193 \nL 1389.163425 262.251725 \nL 1447.202441 262.084258 \nL 1447.202441 261.414387 \nL 1389.163425 261.330653 \nL 1447.202441 261.163186 \nL 1447.202441 261.079452 \nL 1389.163425 260.911984 \nL 1447.202441 260.82825 \nL 1389.163425 260.660783 \nL 1447.202441 260.577049 \nL 1389.163425 260.493315 \nL 1447.202441 260.325847 \nL 1434.304882 260.242114 \nL 1447.202441 260.074646 \nL 1447.202441 259.990912 \nL 1389.163425 259.823444 \nL 1402.060984 259.739711 \nL 1447.202441 259.572243 \nL 1389.163425 259.488509 \nL 1447.202441 259.404775 \nL 1389.163425 259.237308 \nL 1447.202441 259.06984 \nL 1447.202441 258.986106 \nL 1389.163425 258.902372 \nL 1447.202441 258.734905 \nL 1389.163425 258.651171 \nL 1447.202441 258.483703 \nL 1389.163425 258.399969 \nL 1447.202441 258.232502 \nL 1447.202441 258.148768 \nL 1389.163425 258.065034 \nL 1447.202441 257.897566 \nL 1447.202441 257.813833 \nL 1389.163425 257.730099 \nL 1447.202441 257.562631 \nL 1402.060984 257.478897 \nL 1447.202441 257.31143 \nL 1389.163425 257.143962 \nL 1389.163425 257.060228 \nL 1447.202441 256.976494 \nL 1440.753661 256.892761 \nL 1389.163425 256.809027 \nL 1447.202441 256.725293 \nL 1408.509763 256.641559 \nL 1447.202441 256.474091 \nL 1389.163425 256.306624 \nL 1389.163425 256.22289 \nL 1447.202441 256.055422 \nL 1447.202441 255.887955 \nL 1421.407322 255.804221 \nL 1447.202441 255.636753 \nL 1447.202441 255.553019 \nL 1389.163425 255.469285 \nL 1447.202441 255.301818 \nL 1447.202441 255.218084 \nL 1421.407322 255.13435 \nL 1434.304882 255.050616 \nL 1389.163425 254.883149 \nL 1447.202441 254.715681 \nL 1447.202441 254.380746 \nL 1440.753661 254.297012 \nL 1447.202441 254.129544 \nL 1447.202441 253.794609 \nL 1389.163425 253.710875 \nL 1440.753661 253.543407 \nL 1447.202441 253.37594 \nL 1389.163425 253.292206 \nL 1447.202441 253.124738 \nL 1447.202441 253.041005 \nL 1389.163425 252.873537 \nL 1447.202441 252.706069 \nL 1389.163425 252.622335 \nL 1447.202441 252.454868 \nL 1402.060984 252.371134 \nL 1447.202441 252.203666 \nL 1447.202441 252.036199 \nL 1389.163425 251.952465 \nL 1447.202441 251.784997 \nL 1447.202441 251.617529 \nL 1395.612204 251.533796 \nL 1447.202441 251.450062 \nL 1408.509763 251.366328 \nL 1447.202441 251.19886 \nL 1447.202441 251.115127 \nL 1402.060984 251.031393 \nL 1447.202441 250.947659 \nL 1421.407322 250.863925 \nL 1447.202441 250.696457 \nL 1447.202441 250.194054 \nL 1395.612204 250.110321 \nL 1447.202441 249.942853 \nL 1447.202441 249.691651 \nL 1389.163425 249.607918 \nL 1447.202441 249.524184 \nL 1389.163425 249.356716 \nL 1389.163425 249.272982 \nL 1447.202441 249.189249 \nL 1440.753661 249.105515 \nL 1389.163425 249.021781 \nL 1447.202441 248.854313 \nL 1389.163425 248.770579 \nL 1447.202441 248.603112 \nL 1447.202441 248.268176 \nL 1434.304882 248.184443 \nL 1447.202441 248.100709 \nL 1389.163425 247.933241 \nL 1389.163425 247.849507 \nL 1447.202441 247.68204 \nL 1447.202441 247.347104 \nL 1402.060984 247.263371 \nL 1447.202441 247.095903 \nL 1447.202441 246.844701 \nL 1389.163425 246.760968 \nL 1447.202441 246.5935 \nL 1447.202441 246.509766 \nL 1408.509763 246.426032 \nL 1447.202441 246.342298 \nL 1389.163425 246.258565 \nL 1447.202441 246.091097 \nL 1447.202441 246.007363 \nL 1395.612204 245.839895 \nL 1447.202441 245.672428 \nL 1389.163425 245.588694 \nL 1447.202441 245.421226 \nL 1402.060984 245.337493 \nL 1447.202441 245.170025 \nL 1447.202441 244.667622 \nL 1389.163425 244.583888 \nL 1447.202441 244.500154 \nL 1389.163425 244.41642 \nL 1447.202441 244.248953 \nL 1447.202441 244.165219 \nL 1389.163425 244.081485 \nL 1447.202441 243.914017 \nL 1389.163425 243.830284 \nL 1447.202441 243.74655 \nL 1389.163425 243.662816 \nL 1447.202441 243.495348 \nL 1447.202441 243.244147 \nL 1389.163425 243.076679 \nL 1447.202441 242.909212 \nL 1447.202441 242.825478 \nL 1389.163425 242.741744 \nL 1447.202441 242.574276 \nL 1389.163425 242.490542 \nL 1447.202441 242.406809 \nL 1389.163425 242.323075 \nL 1447.202441 242.155607 \nL 1447.202441 241.904406 \nL 1389.163425 241.820672 \nL 1402.060984 241.736938 \nL 1389.163425 241.56947 \nL 1389.163425 241.485737 \nL 1447.202441 241.402003 \nL 1402.060984 241.318269 \nL 1447.202441 241.150801 \nL 1447.202441 240.732132 \nL 1389.163425 240.648398 \nL 1447.202441 240.564664 \nL 1402.060984 240.480931 \nL 1447.202441 240.397197 \nL 1389.163425 240.313463 \nL 1447.202441 240.229729 \nL 1389.163425 240.145995 \nL 1447.202441 240.062261 \nL 1389.163425 239.894794 \nL 1447.202441 239.81106 \nL 1389.163425 239.727326 \nL 1402.060984 239.643592 \nL 1389.163425 239.476125 \nL 1447.202441 239.308657 \nL 1447.202441 239.057456 \nL 1389.163425 238.973722 \nL 1447.202441 238.806254 \nL 1447.202441 238.72252 \nL 1389.163425 238.638786 \nL 1447.202441 238.471319 \nL 1447.202441 238.387585 \nL 1389.163425 238.303851 \nL 1447.202441 238.136383 \nL 1447.202441 237.550247 \nL 1440.753661 237.466513 \nL 1447.202441 237.299045 \nL 1447.202441 237.215311 \nL 1408.509763 237.131578 \nL 1447.202441 237.047844 \nL 1402.060984 236.96411 \nL 1447.202441 236.796642 \nL 1440.753661 236.712908 \nL 1447.202441 236.545441 \nL 1447.202441 235.708102 \nL 1389.163425 235.624369 \nL 1447.202441 235.456901 \nL 1447.202441 235.2057 \nL 1389.163425 235.121966 \nL 1447.202441 234.954498 \nL 1447.202441 234.78703 \nL 1402.060984 234.703297 \nL 1447.202441 234.535829 \nL 1395.612204 234.452095 \nL 1447.202441 234.284627 \nL 1389.163425 234.200894 \nL 1447.202441 234.033426 \nL 1447.202441 233.949692 \nL 1389.163425 233.782224 \nL 1447.202441 233.614757 \nL 1447.202441 232.777419 \nL 1389.163425 232.609951 \nL 1447.202441 232.442483 \nL 1389.163425 232.275016 \nL 1447.202441 232.191282 \nL 1389.163425 232.107548 \nL 1447.202441 231.94008 \nL 1440.753661 231.856346 \nL 1447.202441 231.688879 \nL 1447.202441 231.521411 \nL 1389.163425 231.437677 \nL 1447.202441 231.353944 \nL 1389.163425 231.27021 \nL 1447.202441 231.186476 \nL 1402.060984 231.102742 \nL 1447.202441 230.935274 \nL 1447.202441 230.684073 \nL 1389.163425 230.600339 \nL 1447.202441 230.432871 \nL 1447.202441 229.763001 \nL 1389.163425 229.679267 \nL 1447.202441 229.511799 \nL 1447.202441 229.344332 \nL 1389.163425 229.176864 \nL 1447.202441 229.009396 \nL 1447.202441 228.841929 \nL 1408.509763 228.758195 \nL 1447.202441 228.590727 \nL 1447.202441 228.42326 \nL 1389.163425 228.255792 \nL 1447.202441 228.088324 \nL 1447.202441 227.669655 \nL 1389.163425 227.585921 \nL 1447.202441 227.418454 \nL 1447.202441 227.250986 \nL 1389.163425 227.167252 \nL 1447.202441 227.083518 \nL 1389.163425 226.999785 \nL 1447.202441 226.916051 \nL 1389.163425 226.832317 \nL 1447.202441 226.664849 \nL 1447.202441 226.329914 \nL 1389.163425 226.162446 \nL 1447.202441 225.994979 \nL 1434.304882 225.911245 \nL 1389.163425 225.827511 \nL 1447.202441 225.743777 \nL 1427.856102 225.660043 \nL 1447.202441 225.57631 \nL 1389.163425 225.408842 \nL 1447.202441 225.325108 \nL 1440.753661 225.241374 \nL 1395.612204 225.15764 \nL 1402.060984 225.073907 \nL 1447.202441 224.822705 \nL 1447.202441 224.738971 \nL 1389.163425 224.571504 \nL 1389.163425 224.48777 \nL 1447.202441 224.404036 \nL 1408.509763 224.320302 \nL 1447.202441 224.236568 \nL 1389.163425 224.152834 \nL 1447.202441 223.985367 \nL 1447.202441 223.817899 \nL 1389.163425 223.650432 \nL 1447.202441 223.482964 \nL 1402.060984 223.39923 \nL 1447.202441 223.231762 \nL 1389.163425 223.064295 \nL 1447.202441 222.980561 \nL 1389.163425 222.896827 \nL 1447.202441 222.729359 \nL 1447.202441 222.561892 \nL 1389.163425 222.394424 \nL 1447.202441 222.226956 \nL 1447.202441 221.64082 \nL 1414.958543 221.557086 \nL 1447.202441 221.389618 \nL 1447.202441 221.305884 \nL 1389.163425 221.222151 \nL 1447.202441 221.054683 \nL 1447.202441 220.970949 \nL 1440.753661 220.887215 \nL 1447.202441 220.719748 \nL 1389.163425 220.636014 \nL 1447.202441 220.468546 \nL 1421.407322 220.384812 \nL 1447.202441 220.217345 \nL 1447.202441 220.049877 \nL 1389.163425 219.966143 \nL 1447.202441 219.882409 \nL 1402.060984 219.631208 \nL 1447.202441 219.46374 \nL 1447.202441 219.380006 \nL 1395.612204 219.296273 \nL 1447.202441 219.212539 \nL 1389.163425 219.128805 \nL 1447.202441 218.961337 \nL 1447.202441 218.710136 \nL 1389.163425 218.626402 \nL 1402.060984 218.542668 \nL 1447.202441 218.3752 \nL 1447.202441 218.207733 \nL 1389.163425 218.123999 \nL 1402.060984 218.040265 \nL 1447.202441 217.872798 \nL 1447.202441 217.70533 \nL 1389.163425 217.621596 \nL 1447.202441 217.537862 \nL 1440.753661 217.454128 \nL 1447.202441 217.370395 \nL 1389.163425 217.202927 \nL 1447.202441 217.035459 \nL 1389.163425 216.951725 \nL 1447.202441 216.867992 \nL 1389.163425 216.784258 \nL 1447.202441 216.61679 \nL 1447.202441 216.533056 \nL 1389.163425 216.449322 \nL 1447.202441 216.281855 \nL 1389.163425 216.114387 \nL 1389.163425 216.030653 \nL 1447.202441 215.946919 \nL 1389.163425 215.863186 \nL 1447.202441 215.779452 \nL 1389.163425 215.695718 \nL 1447.202441 215.611984 \nL 1389.163425 215.52825 \nL 1447.202441 215.360783 \nL 1447.202441 215.277049 \nL 1389.163425 215.193315 \nL 1447.202441 215.025847 \nL 1389.163425 214.85838 \nL 1389.163425 214.774646 \nL 1447.202441 214.607178 \nL 1447.202441 214.355977 \nL 1427.856102 214.272243 \nL 1447.202441 214.188509 \nL 1389.163425 214.104775 \nL 1447.202441 214.021041 \nL 1389.163425 213.937308 \nL 1402.060984 213.853574 \nL 1389.163425 213.76984 \nL 1447.202441 213.602372 \nL 1389.163425 213.518639 \nL 1447.202441 213.351171 \nL 1389.163425 213.267437 \nL 1447.202441 213.099969 \nL 1447.202441 212.932502 \nL 1389.163425 212.848768 \nL 1447.202441 212.6813 \nL 1447.202441 212.430099 \nL 1389.163425 212.262631 \nL 1447.202441 212.095163 \nL 1447.202441 211.927696 \nL 1389.163425 211.760228 \nL 1421.407322 211.676494 \nL 1389.163425 211.592761 \nL 1447.202441 211.425293 \nL 1402.060984 211.257825 \nL 1389.163425 211.090358 \nL 1447.202441 210.92289 \nL 1447.202441 210.755422 \nL 1389.163425 210.587955 \nL 1389.163425 210.504221 \nL 1447.202441 210.420487 \nL 1389.163425 210.336753 \nL 1447.202441 210.253019 \nL 1389.163425 210.169285 \nL 1447.202441 210.001818 \nL 1389.163425 209.83435 \nL 1447.202441 209.666883 \nL 1447.202441 209.499415 \nL 1389.163425 209.415681 \nL 1447.202441 209.248213 \nL 1408.509763 209.16448 \nL 1447.202441 208.997012 \nL 1389.163425 208.913278 \nL 1447.202441 208.74581 \nL 1447.202441 208.662077 \nL 1389.163425 208.578343 \nL 1447.202441 208.494609 \nL 1389.163425 208.410875 \nL 1447.202441 208.327141 \nL 1440.753661 208.243407 \nL 1447.202441 208.159674 \nL 1389.163425 208.07594 \nL 1447.202441 207.908472 \nL 1447.202441 207.824738 \nL 1389.163425 207.657271 \nL 1447.202441 207.573537 \nL 1389.163425 207.406069 \nL 1447.202441 207.238602 \nL 1447.202441 206.819932 \nL 1434.304882 206.736199 \nL 1389.163425 206.652465 \nL 1447.202441 206.484997 \nL 1408.509763 206.401263 \nL 1447.202441 206.233796 \nL 1389.163425 206.150062 \nL 1402.060984 206.066328 \nL 1447.202441 205.89886 \nL 1447.202441 205.815127 \nL 1389.163425 205.647659 \nL 1447.202441 205.480191 \nL 1389.163425 205.396457 \nL 1447.202441 205.312724 \nL 1421.407322 205.22899 \nL 1447.202441 205.061522 \nL 1447.202441 204.894054 \nL 1389.163425 204.810321 \nL 1447.202441 204.726587 \nL 1389.163425 204.559119 \nL 1447.202441 204.475385 \nL 1389.163425 204.307918 \nL 1447.202441 204.224184 \nL 1389.163425 204.14045 \nL 1447.202441 203.972982 \nL 1447.202441 203.889249 \nL 1389.163425 203.805515 \nL 1447.202441 203.721781 \nL 1389.163425 203.554313 \nL 1389.163425 203.470579 \nL 1447.202441 203.303112 \nL 1389.163425 203.05191 \nL 1389.163425 202.968176 \nL 1447.202441 202.800709 \nL 1447.202441 202.465773 \nL 1389.163425 202.38204 \nL 1447.202441 202.298306 \nL 1434.304882 202.214572 \nL 1389.163425 202.130838 \nL 1447.202441 201.963371 \nL 1447.202441 201.628435 \nL 1414.958543 201.544701 \nL 1447.202441 201.377234 \nL 1389.163425 201.2935 \nL 1447.202441 201.126032 \nL 1447.202441 201.042298 \nL 1389.163425 200.874831 \nL 1447.202441 200.791097 \nL 1402.060984 200.707363 \nL 1447.202441 200.623629 \nL 1389.163425 200.539895 \nL 1447.202441 200.372428 \nL 1447.202441 200.288694 \nL 1389.163425 200.121226 \nL 1447.202441 199.953759 \nL 1447.202441 199.870025 \nL 1440.753661 199.786291 \nL 1447.202441 199.618823 \nL 1447.202441 199.367622 \nL 1434.304882 199.283888 \nL 1447.202441 199.11642 \nL 1389.163425 199.032687 \nL 1447.202441 198.865219 \nL 1447.202441 198.781485 \nL 1389.163425 198.697751 \nL 1447.202441 198.530284 \nL 1447.202441 198.44655 \nL 1389.163425 198.279082 \nL 1389.163425 198.195348 \nL 1440.753661 198.111615 \nL 1389.163425 198.027881 \nL 1447.202441 197.860413 \nL 1447.202441 197.692945 \nL 1389.163425 197.609212 \nL 1447.202441 197.441744 \nL 1447.202441 197.35801 \nL 1389.163425 197.274276 \nL 1447.202441 197.106809 \nL 1447.202441 196.939341 \nL 1440.753661 196.855607 \nL 1447.202441 196.688139 \nL 1447.202441 196.604406 \nL 1389.163425 196.520672 \nL 1447.202441 196.353204 \nL 1389.163425 196.26947 \nL 1447.202441 196.102003 \nL 1447.202441 195.850801 \nL 1389.163425 195.767067 \nL 1447.202441 195.683334 \nL 1389.163425 195.5996 \nL 1402.060984 195.515866 \nL 1447.202441 195.432132 \nL 1389.163425 195.348398 \nL 1447.202441 195.264664 \nL 1389.163425 195.180931 \nL 1447.202441 195.013463 \nL 1447.202441 194.929729 \nL 1389.163425 194.845995 \nL 1447.202441 194.678528 \nL 1389.163425 194.51106 \nL 1447.202441 194.343592 \nL 1447.202441 194.259858 \nL 1389.163425 194.176125 \nL 1447.202441 193.924923 \nL 1402.060984 193.841189 \nL 1447.202441 193.673722 \nL 1389.163425 193.589988 \nL 1447.202441 193.42252 \nL 1389.163425 193.338786 \nL 1447.202441 193.171319 \nL 1389.163425 193.087585 \nL 1447.202441 193.003851 \nL 1389.163425 192.836383 \nL 1447.202441 192.668916 \nL 1434.304882 192.585182 \nL 1389.163425 192.501448 \nL 1447.202441 192.33398 \nL 1447.202441 192.166513 \nL 1389.163425 192.082779 \nL 1447.202441 191.915311 \nL 1389.163425 191.747844 \nL 1389.163425 191.580376 \nL 1440.753661 191.412908 \nL 1447.202441 191.245441 \nL 1447.202441 190.826772 \nL 1389.163425 190.743038 \nL 1447.202441 190.57557 \nL 1447.202441 190.408102 \nL 1389.163425 190.240635 \nL 1447.202441 190.073167 \nL 1447.202441 189.989433 \nL 1421.407322 189.9057 \nL 1447.202441 189.738232 \nL 1447.202441 189.48703 \nL 1389.163425 189.403297 \nL 1447.202441 189.235829 \nL 1447.202441 189.152095 \nL 1440.753661 189.068361 \nL 1408.509763 188.984627 \nL 1447.202441 188.900894 \nL 1408.509763 188.81716 \nL 1447.202441 188.649692 \nL 1402.060984 188.565958 \nL 1447.202441 188.482224 \nL 1389.163425 188.398491 \nL 1447.202441 188.231023 \nL 1389.163425 188.147289 \nL 1402.060984 188.063555 \nL 1447.202441 187.896088 \nL 1395.612204 187.812354 \nL 1447.202441 187.644886 \nL 1447.202441 187.477419 \nL 1389.163425 187.393685 \nL 1395.612204 187.309951 \nL 1447.202441 187.142483 \nL 1389.163425 186.975016 \nL 1389.163425 186.891282 \nL 1395.612204 186.807548 \nL 1389.163425 186.64008 \nL 1447.202441 186.472613 \nL 1447.202441 186.221411 \nL 1389.163425 186.137677 \nL 1447.202441 185.97021 \nL 1389.163425 185.802742 \nL 1447.202441 185.719008 \nL 1389.163425 185.635274 \nL 1447.202441 185.551541 \nL 1408.509763 185.467807 \nL 1447.202441 185.384073 \nL 1389.163425 185.300339 \nL 1447.202441 185.216605 \nL 1389.163425 185.132871 \nL 1447.202441 184.965404 \nL 1389.163425 184.797936 \nL 1447.202441 184.630468 \nL 1447.202441 184.546735 \nL 1389.163425 184.463001 \nL 1447.202441 184.295533 \nL 1389.163425 184.211799 \nL 1447.202441 184.044332 \nL 1447.202441 183.709396 \nL 1389.163425 183.625663 \nL 1447.202441 183.458195 \nL 1447.202441 183.290727 \nL 1389.163425 183.12326 \nL 1447.202441 183.039526 \nL 1389.163425 182.872058 \nL 1447.202441 182.620857 \nL 1389.163425 182.453389 \nL 1447.202441 182.285921 \nL 1421.407322 182.202188 \nL 1447.202441 182.118454 \nL 1389.163425 182.03472 \nL 1447.202441 181.867252 \nL 1389.163425 181.783518 \nL 1447.202441 181.616051 \nL 1447.202441 181.448583 \nL 1440.753661 181.364849 \nL 1447.202441 181.197382 \nL 1447.202441 180.694979 \nL 1389.163425 180.611245 \nL 1447.202441 180.443777 \nL 1447.202441 180.27631 \nL 1389.163425 180.192576 \nL 1447.202441 180.025108 \nL 1421.407322 179.941374 \nL 1447.202441 179.773907 \nL 1447.202441 179.690173 \nL 1389.163425 179.606439 \nL 1447.202441 179.438971 \nL 1447.202441 179.355237 \nL 1389.163425 179.18777 \nL 1389.163425 179.104036 \nL 1447.202441 179.020302 \nL 1389.163425 178.936568 \nL 1447.202441 178.685367 \nL 1447.202441 178.601633 \nL 1389.163425 178.517899 \nL 1447.202441 178.350432 \nL 1447.202441 178.266698 \nL 1395.612204 178.182964 \nL 1447.202441 178.015496 \nL 1395.612204 177.931762 \nL 1447.202441 177.764295 \nL 1389.163425 177.680561 \nL 1447.202441 177.513093 \nL 1447.202441 177.261892 \nL 1389.163425 177.178158 \nL 1447.202441 177.01069 \nL 1408.509763 176.926956 \nL 1447.202441 176.759489 \nL 1408.509763 176.675755 \nL 1447.202441 176.508287 \nL 1447.202441 176.257086 \nL 1402.060984 176.173352 \nL 1447.202441 176.005884 \nL 1447.202441 175.754683 \nL 1402.060984 175.670949 \nL 1447.202441 175.587215 \nL 1389.163425 175.419748 \nL 1447.202441 175.25228 \nL 1447.202441 175.168546 \nL 1389.163425 175.084812 \nL 1414.958543 175.001078 \nL 1389.163425 174.917345 \nL 1447.202441 174.749877 \nL 1447.202441 174.247474 \nL 1389.163425 174.16374 \nL 1402.060984 174.080006 \nL 1447.202441 173.912539 \nL 1447.202441 173.242668 \nL 1389.163425 173.158934 \nL 1395.612204 173.0752 \nL 1447.202441 172.991467 \nL 1389.163425 172.907733 \nL 1447.202441 172.823999 \nL 1389.163425 172.740265 \nL 1447.202441 172.572798 \nL 1389.163425 172.489064 \nL 1447.202441 172.321596 \nL 1447.202441 172.237862 \nL 1389.163425 172.154128 \nL 1447.202441 172.070395 \nL 1402.060984 171.986661 \nL 1447.202441 171.819193 \nL 1447.202441 171.233056 \nL 1389.163425 171.149322 \nL 1447.202441 170.981855 \nL 1447.202441 170.646919 \nL 1389.163425 170.563186 \nL 1447.202441 170.479452 \nL 1389.163425 170.395718 \nL 1447.202441 170.311984 \nL 1389.163425 170.144517 \nL 1447.202441 169.977049 \nL 1447.202441 169.893315 \nL 1440.753661 169.809581 \nL 1389.163425 169.642114 \nL 1402.060984 169.55838 \nL 1447.202441 169.474646 \nL 1389.163425 169.307178 \nL 1447.202441 169.139711 \nL 1447.202441 168.888509 \nL 1389.163425 168.804775 \nL 1447.202441 168.637308 \nL 1447.202441 168.46984 \nL 1389.163425 168.386106 \nL 1447.202441 168.302372 \nL 1389.163425 168.218639 \nL 1447.202441 168.051171 \nL 1389.163425 167.967437 \nL 1447.202441 167.799969 \nL 1414.958543 167.716236 \nL 1447.202441 167.548768 \nL 1447.202441 167.465034 \nL 1389.163425 167.297566 \nL 1447.202441 167.213833 \nL 1389.163425 167.046365 \nL 1447.202441 166.878897 \nL 1447.202441 166.543962 \nL 1389.163425 166.376494 \nL 1447.202441 166.209027 \nL 1447.202441 166.125293 \nL 1389.163425 166.041559 \nL 1447.202441 165.874091 \nL 1447.202441 165.371688 \nL 1395.612204 165.287955 \nL 1447.202441 165.120487 \nL 1447.202441 165.036753 \nL 1389.163425 164.953019 \nL 1414.958543 164.869285 \nL 1389.163425 164.785552 \nL 1447.202441 164.618084 \nL 1447.202441 164.450616 \nL 1402.060984 164.366883 \nL 1447.202441 164.199415 \nL 1447.202441 164.031947 \nL 1434.304882 163.948213 \nL 1447.202441 163.780746 \nL 1447.202441 163.613278 \nL 1389.163425 163.529544 \nL 1447.202441 163.362077 \nL 1447.202441 163.278343 \nL 1389.163425 163.194609 \nL 1447.202441 163.027141 \nL 1447.202441 162.859674 \nL 1421.407322 162.77594 \nL 1447.202441 162.692206 \nL 1389.163425 162.608472 \nL 1447.202441 162.524738 \nL 1389.163425 162.441005 \nL 1447.202441 162.273537 \nL 1447.202441 162.189803 \nL 1389.163425 162.106069 \nL 1447.202441 161.938602 \nL 1389.163425 161.854868 \nL 1402.060984 161.771134 \nL 1447.202441 161.603666 \nL 1447.202441 161.519932 \nL 1402.060984 161.436199 \nL 1447.202441 161.352465 \nL 1389.163425 161.268731 \nL 1447.202441 161.101263 \nL 1447.202441 160.59886 \nL 1389.163425 160.515127 \nL 1447.202441 160.431393 \nL 1389.163425 160.263925 \nL 1402.060984 160.180191 \nL 1447.202441 160.012724 \nL 1447.202441 159.92899 \nL 1389.163425 159.845256 \nL 1447.202441 159.677788 \nL 1447.202441 159.594054 \nL 1389.163425 159.510321 \nL 1447.202441 159.342853 \nL 1447.202441 159.007918 \nL 1389.163425 158.924184 \nL 1447.202441 158.756716 \nL 1447.202441 158.338047 \nL 1389.163425 158.254313 \nL 1447.202441 158.086846 \nL 1408.509763 158.003112 \nL 1447.202441 157.835644 \nL 1447.202441 157.75191 \nL 1389.163425 157.584443 \nL 1447.202441 157.416975 \nL 1402.060984 157.333241 \nL 1447.202441 157.165773 \nL 1389.163425 156.998306 \nL 1389.163425 156.914572 \nL 1447.202441 156.830838 \nL 1389.163425 156.747104 \nL 1447.202441 156.579637 \nL 1389.163425 156.412169 \nL 1447.202441 156.328435 \nL 1389.163425 156.244701 \nL 1447.202441 156.077234 \nL 1447.202441 155.909766 \nL 1434.304882 155.826032 \nL 1440.753661 155.742298 \nL 1389.163425 155.658565 \nL 1447.202441 155.574831 \nL 1389.163425 155.407363 \nL 1389.163425 155.323629 \nL 1447.202441 155.156162 \nL 1447.202441 155.072428 \nL 1389.163425 154.988694 \nL 1447.202441 154.821226 \nL 1440.753661 154.737493 \nL 1447.202441 154.570025 \nL 1447.202441 153.900154 \nL 1389.163425 153.81642 \nL 1447.202441 153.648953 \nL 1447.202441 153.565219 \nL 1389.163425 153.397751 \nL 1447.202441 153.230284 \nL 1447.202441 153.14655 \nL 1389.163425 153.062816 \nL 1447.202441 152.979082 \nL 1389.163425 152.895348 \nL 1447.202441 152.811615 \nL 1389.163425 152.727881 \nL 1447.202441 152.560413 \nL 1447.202441 152.476679 \nL 1395.612204 152.392945 \nL 1447.202441 152.225478 \nL 1447.202441 151.974276 \nL 1389.163425 151.806809 \nL 1447.202441 151.723075 \nL 1434.304882 151.639341 \nL 1447.202441 151.471873 \nL 1402.060984 151.388139 \nL 1447.202441 151.220672 \nL 1447.202441 151.136938 \nL 1389.163425 151.053204 \nL 1402.060984 150.96947 \nL 1447.202441 150.802003 \nL 1447.202441 150.718269 \nL 1389.163425 150.634535 \nL 1447.202441 150.550801 \nL 1389.163425 150.467067 \nL 1447.202441 150.2996 \nL 1447.202441 150.048398 \nL 1389.163425 149.964664 \nL 1447.202441 149.880931 \nL 1402.060984 149.797197 \nL 1447.202441 149.629729 \nL 1389.163425 149.545995 \nL 1447.202441 149.378528 \nL 1447.202441 149.043592 \nL 1389.163425 148.876125 \nL 1447.202441 148.792391 \nL 1389.163425 148.708657 \nL 1447.202441 148.541189 \nL 1447.202441 148.206254 \nL 1389.163425 148.038786 \nL 1447.202441 147.871319 \nL 1389.163425 147.787585 \nL 1447.202441 147.620117 \nL 1447.202441 147.368916 \nL 1389.163425 147.285182 \nL 1447.202441 147.201448 \nL 1414.958543 147.117714 \nL 1447.202441 146.950247 \nL 1447.202441 146.280376 \nL 1389.163425 146.196642 \nL 1447.202441 146.029175 \nL 1447.202441 145.777973 \nL 1389.163425 145.610505 \nL 1447.202441 145.443038 \nL 1389.163425 145.359304 \nL 1447.202441 145.191836 \nL 1389.163425 145.108102 \nL 1447.202441 144.940635 \nL 1440.753661 144.856901 \nL 1389.163425 144.773167 \nL 1447.202441 144.6057 \nL 1447.202441 144.438232 \nL 1389.163425 144.354498 \nL 1447.202441 144.103297 \nL 1447.202441 143.852095 \nL 1389.163425 143.768361 \nL 1447.202441 143.600894 \nL 1389.163425 143.51716 \nL 1447.202441 143.349692 \nL 1447.202441 143.265958 \nL 1389.163425 143.182224 \nL 1402.060984 143.098491 \nL 1447.202441 142.931023 \nL 1402.060984 142.847289 \nL 1447.202441 142.679822 \nL 1447.202441 142.596088 \nL 1389.163425 142.512354 \nL 1447.202441 142.42862 \nL 1389.163425 142.344886 \nL 1447.202441 142.261152 \nL 1408.509763 142.177419 \nL 1447.202441 142.093685 \nL 1389.163425 141.926217 \nL 1389.163425 141.842483 \nL 1447.202441 141.675016 \nL 1447.202441 141.507548 \nL 1389.163425 141.34008 \nL 1447.202441 141.256346 \nL 1389.163425 141.172613 \nL 1447.202441 141.005145 \nL 1447.202441 140.921411 \nL 1389.163425 140.837677 \nL 1402.060984 140.753944 \nL 1447.202441 140.586476 \nL 1389.163425 140.502742 \nL 1395.612204 140.419008 \nL 1447.202441 140.335274 \nL 1389.163425 140.167807 \nL 1389.163425 140.084073 \nL 1447.202441 139.916605 \nL 1389.163425 139.749138 \nL 1389.163425 139.665404 \nL 1447.202441 139.58167 \nL 1389.163425 139.497936 \nL 1447.202441 139.330468 \nL 1447.202441 139.163001 \nL 1389.163425 139.079267 \nL 1447.202441 138.911799 \nL 1402.060984 138.828066 \nL 1447.202441 138.744332 \nL 1440.753661 138.660598 \nL 1389.163425 138.576864 \nL 1447.202441 138.409396 \nL 1447.202441 138.325663 \nL 1389.163425 138.241929 \nL 1447.202441 138.074461 \nL 1447.202441 137.82326 \nL 1414.958543 137.739526 \nL 1447.202441 137.572058 \nL 1447.202441 137.40459 \nL 1402.060984 137.320857 \nL 1447.202441 137.153389 \nL 1447.202441 137.069655 \nL 1434.304882 136.985921 \nL 1447.202441 136.902188 \nL 1434.304882 136.818454 \nL 1447.202441 136.73472 \nL 1389.163425 136.567252 \nL 1447.202441 136.399785 \nL 1447.202441 136.232317 \nL 1389.163425 136.148583 \nL 1447.202441 136.064849 \nL 1389.163425 135.981115 \nL 1447.202441 135.897382 \nL 1389.163425 135.813648 \nL 1447.202441 135.64618 \nL 1447.202441 135.394979 \nL 1389.163425 135.311245 \nL 1447.202441 135.143777 \nL 1447.202441 134.725108 \nL 1389.163425 134.641374 \nL 1447.202441 134.473907 \nL 1447.202441 134.306439 \nL 1421.407322 134.222705 \nL 1447.202441 134.138971 \nL 1389.163425 133.971504 \nL 1389.163425 133.88777 \nL 1447.202441 133.720302 \nL 1447.202441 133.636568 \nL 1389.163425 133.552834 \nL 1414.958543 133.469101 \nL 1402.060984 133.385367 \nL 1447.202441 133.217899 \nL 1447.202441 133.134165 \nL 1402.060984 133.050432 \nL 1447.202441 132.882964 \nL 1447.202441 132.79923 \nL 1389.163425 132.631762 \nL 1447.202441 132.548029 \nL 1389.163425 132.464295 \nL 1447.202441 132.296827 \nL 1447.202441 132.129359 \nL 1389.163425 132.045626 \nL 1447.202441 131.961892 \nL 1389.163425 131.794424 \nL 1447.202441 131.626956 \nL 1389.163425 131.459489 \nL 1402.060984 131.375755 \nL 1447.202441 131.208287 \nL 1389.163425 131.124554 \nL 1447.202441 130.957086 \nL 1447.202441 130.538417 \nL 1389.163425 130.454683 \nL 1447.202441 130.370949 \nL 1389.163425 130.287215 \nL 1447.202441 130.203481 \nL 1389.163425 130.119748 \nL 1447.202441 129.95228 \nL 1447.202441 129.868546 \nL 1389.163425 129.784812 \nL 1447.202441 129.701078 \nL 1389.163425 129.617345 \nL 1447.202441 129.449877 \nL 1447.202441 129.282409 \nL 1408.509763 129.198676 \nL 1447.202441 129.031208 \nL 1389.163425 128.947474 \nL 1447.202441 128.780006 \nL 1447.202441 128.612539 \nL 1389.163425 128.528805 \nL 1447.202441 128.361337 \nL 1447.202441 128.277603 \nL 1389.163425 128.19387 \nL 1447.202441 128.026402 \nL 1447.202441 127.607733 \nL 1389.163425 127.440265 \nL 1389.163425 127.356531 \nL 1447.202441 127.189064 \nL 1447.202441 127.10533 \nL 1389.163425 127.021596 \nL 1447.202441 126.854128 \nL 1421.407322 126.770395 \nL 1447.202441 126.602927 \nL 1447.202441 126.267992 \nL 1389.163425 126.100524 \nL 1389.163425 126.01679 \nL 1447.202441 125.849322 \nL 1389.163425 125.681855 \nL 1447.202441 125.598121 \nL 1389.163425 125.514387 \nL 1447.202441 125.346919 \nL 1389.163425 125.263186 \nL 1447.202441 125.095718 \nL 1389.163425 125.011984 \nL 1447.202441 124.92825 \nL 1389.163425 124.844517 \nL 1447.202441 124.760783 \nL 1389.163425 124.677049 \nL 1447.202441 124.509581 \nL 1389.163425 124.425847 \nL 1447.202441 124.25838 \nL 1447.202441 124.007178 \nL 1389.163425 123.839711 \nL 1389.163425 123.755977 \nL 1447.202441 123.588509 \nL 1447.202441 123.253574 \nL 1389.163425 123.16984 \nL 1447.202441 123.002372 \nL 1389.163425 122.834905 \nL 1447.202441 122.667437 \nL 1447.202441 122.499969 \nL 1389.163425 122.416236 \nL 1447.202441 122.332502 \nL 1389.163425 122.165034 \nL 1447.202441 121.997566 \nL 1447.202441 121.913833 \nL 1389.163425 121.830099 \nL 1408.509763 121.746365 \nL 1389.163425 121.662631 \nL 1402.060984 121.578897 \nL 1389.163425 121.495163 \nL 1447.202441 121.327696 \nL 1447.202441 121.076494 \nL 1389.163425 120.992761 \nL 1447.202441 120.909027 \nL 1389.163425 120.741559 \nL 1447.202441 120.574091 \nL 1447.202441 120.490358 \nL 1389.163425 120.406624 \nL 1447.202441 120.239156 \nL 1447.202441 120.071688 \nL 1389.163425 119.904221 \nL 1447.202441 119.820487 \nL 1389.163425 119.736753 \nL 1447.202441 119.653019 \nL 1389.163425 119.485552 \nL 1447.202441 119.318084 \nL 1389.163425 119.23435 \nL 1447.202441 119.066883 \nL 1389.163425 118.899415 \nL 1447.202441 118.731947 \nL 1447.202441 118.313278 \nL 1421.407322 118.229544 \nL 1447.202441 118.14581 \nL 1440.753661 118.062077 \nL 1402.060984 117.978343 \nL 1447.202441 117.810875 \nL 1389.163425 117.643407 \nL 1447.202441 117.47594 \nL 1447.202441 117.057271 \nL 1389.163425 116.973537 \nL 1447.202441 116.889803 \nL 1389.163425 116.806069 \nL 1447.202441 116.638602 \nL 1389.163425 116.554868 \nL 1447.202441 116.3874 \nL 1447.202441 116.303666 \nL 1389.163425 116.136199 \nL 1447.202441 116.052465 \nL 1389.163425 115.968731 \nL 1447.202441 115.801263 \nL 1447.202441 115.633796 \nL 1389.163425 115.466328 \nL 1447.202441 115.29886 \nL 1447.202441 114.62899 \nL 1389.163425 114.461522 \nL 1447.202441 114.294054 \nL 1447.202441 114.126587 \nL 1389.163425 114.042853 \nL 1447.202441 113.875385 \nL 1447.202441 113.707918 \nL 1389.163425 113.624184 \nL 1447.202441 113.456716 \nL 1389.163425 113.289249 \nL 1447.202441 113.121781 \nL 1389.163425 112.954313 \nL 1447.202441 112.870579 \nL 1440.753661 112.786846 \nL 1447.202441 112.619378 \nL 1447.202441 112.535644 \nL 1395.612204 112.45191 \nL 1447.202441 112.368176 \nL 1389.163425 112.284443 \nL 1447.202441 112.116975 \nL 1447.202441 111.614572 \nL 1389.163425 111.447104 \nL 1447.202441 111.279637 \nL 1447.202441 110.944701 \nL 1389.163425 110.860968 \nL 1447.202441 110.6935 \nL 1389.163425 110.609766 \nL 1447.202441 110.442298 \nL 1389.163425 110.358565 \nL 1447.202441 110.191097 \nL 1427.856102 110.107363 \nL 1447.202441 109.939895 \nL 1447.202441 109.856162 \nL 1389.163425 109.772428 \nL 1447.202441 109.688694 \nL 1389.163425 109.60496 \nL 1447.202441 109.437493 \nL 1447.202441 109.353759 \nL 1389.163425 109.270025 \nL 1447.202441 109.102557 \nL 1447.202441 108.767622 \nL 1389.163425 108.683888 \nL 1447.202441 108.51642 \nL 1447.202441 108.432687 \nL 1389.163425 108.348953 \nL 1447.202441 108.181485 \nL 1447.202441 108.097751 \nL 1440.753661 108.014017 \nL 1389.163425 107.930284 \nL 1447.202441 107.762816 \nL 1447.202441 107.595348 \nL 1389.163425 107.511615 \nL 1447.202441 107.344147 \nL 1447.202441 107.176679 \nL 1389.163425 107.092945 \nL 1447.202441 106.925478 \nL 1389.163425 106.75801 \nL 1447.202441 106.674276 \nL 1402.060984 106.590542 \nL 1447.202441 106.423075 \nL 1389.163425 106.339341 \nL 1395.612204 106.255607 \nL 1440.753661 106.171873 \nL 1434.304882 106.088139 \nL 1447.202441 105.920672 \nL 1447.202441 105.585737 \nL 1389.163425 105.502003 \nL 1402.060984 105.418269 \nL 1447.202441 105.334535 \nL 1389.163425 105.250801 \nL 1447.202441 105.083334 \nL 1421.407322 104.9996 \nL 1447.202441 104.832132 \nL 1389.163425 104.748398 \nL 1447.202441 104.580931 \nL 1447.202441 104.413463 \nL 1389.163425 104.329729 \nL 1447.202441 104.245995 \nL 1389.163425 104.078528 \nL 1402.060984 103.994794 \nL 1447.202441 103.91106 \nL 1389.163425 103.827326 \nL 1447.202441 103.659858 \nL 1395.612204 103.576125 \nL 1447.202441 103.492391 \nL 1389.163425 103.408657 \nL 1447.202441 103.241189 \nL 1447.202441 102.906254 \nL 1389.163425 102.82252 \nL 1447.202441 102.655053 \nL 1389.163425 102.571319 \nL 1447.202441 102.487585 \nL 1447.202441 102.487585 \n\" style=\"fill:none;stroke:#404040;stroke-linecap:square;stroke-width:1.5;\"/>\n   </g>\n   <g id=\"line2d_2\">\n    <defs>\n     <path d=\"M 0 2.5 \nC 0.663008 2.5 1.29895 2.236584 1.767767 1.767767 \nC 2.236584 1.29895 2.5 0.663008 2.5 0 \nC 2.5 -0.663008 2.236584 -1.29895 1.767767 -1.767767 \nC 1.29895 -2.236584 0.663008 -2.5 0 -2.5 \nC -0.663008 -2.5 -1.29895 -2.236584 -1.767767 -1.767767 \nC -2.236584 -1.29895 -2.5 -0.663008 -2.5 0 \nC -2.5 0.663008 -2.236584 1.29895 -1.767767 1.767767 \nC -1.29895 2.236584 -0.663008 2.5 0 2.5 \nz\n\" id=\"mf9fc296bad\" style=\"stroke:#404040;\"/>\n    </defs>\n    <g clip-path=\"url(#p39d0a125a9)\">\n     <use style=\"fill:#404040;stroke:#404040;\" x=\"1389.163425\" xlink:href=\"#mf9fc296bad\" y=\"645.585182\"/>\n    </g>\n   </g>\n   <g id=\"line2d_3\">\n    <g clip-path=\"url(#p39d0a125a9)\">\n     <use style=\"fill:#404040;stroke:#404040;\" x=\"1447.202441\" xlink:href=\"#mf9fc296bad\" y=\"646.087585\"/>\n    </g>\n   </g>\n   <g id=\"text_1\">\n    <!-- 9 -->\n    <defs>\n     <path d=\"M 10.984375 1.515625 \nL 10.984375 10.5 \nQ 14.703125 8.734375 18.5 7.8125 \nQ 22.3125 6.890625 25.984375 6.890625 \nQ 35.75 6.890625 40.890625 13.453125 \nQ 46.046875 20.015625 46.78125 33.40625 \nQ 43.953125 29.203125 39.59375 26.953125 \nQ 35.25 24.703125 29.984375 24.703125 \nQ 19.046875 24.703125 12.671875 31.3125 \nQ 6.296875 37.9375 6.296875 49.421875 \nQ 6.296875 60.640625 12.9375 67.421875 \nQ 19.578125 74.21875 30.609375 74.21875 \nQ 43.265625 74.21875 49.921875 64.515625 \nQ 56.59375 54.828125 56.59375 36.375 \nQ 56.59375 19.140625 48.40625 8.859375 \nQ 40.234375 -1.421875 26.421875 -1.421875 \nQ 22.703125 -1.421875 18.890625 -0.6875 \nQ 15.09375 0.046875 10.984375 1.515625 \nz\nM 30.609375 32.421875 \nQ 37.25 32.421875 41.125 36.953125 \nQ 45.015625 41.5 45.015625 49.421875 \nQ 45.015625 57.28125 41.125 61.84375 \nQ 37.25 66.40625 30.609375 66.40625 \nQ 23.96875 66.40625 20.09375 61.84375 \nQ 16.21875 57.28125 16.21875 49.421875 \nQ 16.21875 41.5 20.09375 36.953125 \nQ 23.96875 32.421875 30.609375 32.421875 \nz\n\" id=\"DejaVuSans-57\"/>\n    </defs>\n    <g transform=\"translate(1460.1 649.95071)scale(0.14 -0.14)\">\n     <use xlink:href=\"#DejaVuSans-57\"/>\n    </g>\n   </g>\n   <g id=\"text_2\">\n    <!-- 0 -->\n    <defs>\n     <path d=\"M 31.78125 66.40625 \nQ 24.171875 66.40625 20.328125 58.90625 \nQ 16.5 51.421875 16.5 36.375 \nQ 16.5 21.390625 20.328125 13.890625 \nQ 24.171875 6.390625 31.78125 6.390625 \nQ 39.453125 6.390625 43.28125 13.890625 \nQ 47.125 21.390625 47.125 36.375 \nQ 47.125 51.421875 43.28125 58.90625 \nQ 39.453125 66.40625 31.78125 66.40625 \nz\nM 31.78125 74.21875 \nQ 44.046875 74.21875 50.515625 64.515625 \nQ 56.984375 54.828125 56.984375 36.375 \nQ 56.984375 17.96875 50.515625 8.265625 \nQ 44.046875 -1.421875 31.78125 -1.421875 \nQ 19.53125 -1.421875 13.0625 8.265625 \nQ 6.59375 17.96875 6.59375 36.375 \nQ 6.59375 54.828125 13.0625 64.515625 \nQ 19.53125 74.21875 31.78125 74.21875 \nz\n\" id=\"DejaVuSans-48\"/>\n    </defs>\n    <g transform=\"translate(1367.358365 649.448307)scale(0.14 -0.14)\">\n     <use xlink:href=\"#DejaVuSans-48\"/>\n    </g>\n   </g>\n  </g>\n  <g id=\"axes_2\">\n   <g id=\"patch_3\">\n    <path d=\"M 65.1 646.087585 \nL 1322.612019 646.087585 \nL 1322.612019 102.487585 \nL 65.1 102.487585 \nz\n\" style=\"fill:#ffffff;\"/>\n   </g>\n   <g clip-path=\"url(#pc867fd644a)\">\n    <image height=\"6493\" id=\"imagee3022d7720\" transform=\"matrix(139.777778 0 0 0.083783 65.1 102.087585)\" width=\"9\" xlink:href=\"data:image/png;base64,\niVBORw0KGgoAAAANSUhEUgAAAAkAABldCAYAAACFyJXsAAAABHNCSVQICAgIfAhkiAAAFYNJREFUeJztnduSKysIQD1T+7+ST58/y3nKlOnWbi+IC4Ive2oX1RLkDuJ/j8fjlW7Wf6/X6x6o5Us/dwAbtiMCyZHgX0op/f7+LvrS8/lM+f8LI17a8uNLLdu1URwoCER+atruX+k/j+dIVBhyTEfkgkVAOa3yv/97vV6vt4Korsfj8bpbu9j3kgvEFIacfiLqArNKbDfiv7+/6Sg9yr+OSHEiTib4yQpOxF93sndvy/Bh76yqaN/bEYGIfoFvIGJEvYAE3+uxEnEiCqdvxENnqgPdqcKUvJ+dsu9LpJNZF9KsOiTyuDJnpmOe8J1LzHOKTVnIvuRwvtZltc0CEVllsZifuECXBGGAEFywDiciq5hVPX+/br6yXLIrz+fzI29PpHg/Tm9aPZ/Pj8qEb6YjqkOzxCQei1lTtpNVqgUQYFRmNjAlxsH/UkqnmvTmvp4Q8zagalPLh68C5MwwG3aBzHIB8ex22JZcOZTCJd90IrIK8dcR6UQEUqZTe35cZDui4+ebfSPvK9irrYxT9Utvk/t8PpGcudCLzn/633auS3PEAyYC+aYT0RMzS3HtTFYpE3rCaSjHWvpbmeJtLiSQCy7TXe8CFhFxs+pwHKfjTSfBq5rDXzrdvAJSnGhbiOlTIuJttwh0mc7s7Wcij5vVBX2/Tl77vg1095d8+77p6HWVLs6HLrBbgcf6mbdhklUSKHusRH5aqDNLvZGC/ZlAfiIecABNHMvQ+A3fB0zUT2b9ceKxBMWRgqA8k8rs2fkOAs1GZTvrCFOllFCHyIEnRDEnyt0c+64JcYnmNYAmgVwMQjNbTZLLZP2UrOXmMZREi0AsYfqu4ip3ehK5YNxdO81pB3ImxZStAQo6IUlAxGlBlB9ZIxKQ8DDSlFC1Mu0kVS2/s2i7O4BmIGLmoa2KCxTznQd8+QDGJpzkgPJpH/kiIk5Uh3Ls23ZpAch0p+z/sQqwMPvvDoh4wNHXg6ST/RzG1fwJszkMouOHFgQdnIglAsEgUB6no4AWgaa3E6T47WN0aX/ANfwloiCELkACffjjpXskj8ejzR8nnl1Y8/NlodIinl0A2e3xMwvUTszSkbiY9V39UncLmJxtIbKK2QTjHKusaQSU61Rom/YBFE6zXo9yU7DvHuQF+ilf60oEZpvJzB7wT16OWz8kCkmCFiCziCOB7jRvSkximk0FKA+0JBaK2m5k6yLuu84ZOtOuwjBbSjGbY5WLXon+OPHszCqMtu2aRMpqwEWcdygcduulJ9pmwVk1ZcqzAk4zzoabXfstQq2DgmjyiXInmBMjUzwCiS8BKh306X7LUaOkpO4XyDkPyglroiD8keDKATSb60FPmLxaRE2n7BqZFc6Ig43nVVLS6n8iHgvxgInbzQGtqZiaPTuzOC1G/DTrW9fV/tIDptyjXt9iQQCykA3xLS3K8319E/MkwU0pXStDDnZS/Jh/ev8drrZ6ubAFSPCZy5btFt0xvQWaxsmspiMm807bDT/rTDw75ZITOoAH1aXarh3pElPuaTuzxQazQEjFqtt0R8kXdIfdvpPDhIteMU74tAQnuAGJSfRYiTkMYphErHP+fSmPDY5/m81kET0Ms04W8dehozKd7dqifKABqs6LdlHeWXwfIVfTKRnmcd/+k7YnZvU2mG9WwbshNa+VSKcFyWGXA77aWlSt/jplXdA2x0+XTk3s206nUjX5eyrLxDkPgnQCzg0hssrpCmJK23uy/AGtuS9FPJbdMcJwwV/Qf5K7sBusMscqa9o+5PLjO4+lNs2tyYtOd57hyTucum/e11/wXuPX28XydMptjviw2xIQMa9CdCHN+r5EIN/CqTzlOY4lhNMwkO9jkRsoEOa1DGQhmUdQrHNjJajxXQDNARE4c2w7XSW24zmGuy2JcufLthyX718XQI21DaCYK98iIBIzgJD6KXBCcoFgecdqmESMqJXHlJjl8bFKYOlv5UkIgmKuK5zEAyZKsFkDFAmh4Kcgpnsg5dQSMU9X/NK6m1fKdLokgXyjDZELfIsUEYjYUviH0/eO4jHjhhwbJ9EB1zROZpmO+Ey4WSC5u0lEAyQ3nM0s05nVBT5ihLz3v3u76Hloq9+ZQnwnEPCqJlEd9stdbl+qQEfgS6AhnIpAc013a3A6rg83pNZCQORMovs/7kUrvGxdu50mu10bxXUn2vhwaAInynZVfnoHOc3jFYkUN5sNkZv8Q3T/24IboLQQma5ogNzUgIjuv1mguaz2LZDcdsdFJCYRSPk1ESIJgp8QCmMdTgHk/OzMIu4vgO+eaCPYemk1ojYbbZyistLfRIov2O6KMwUpDiylEEdghW05Iz4+LU0MJ+dAeWJqvTokZkYjKkMCmVVixF/X1pMVN4qIQMpFY/Sv08EpgJBnN+e0d38pnAe7rbzOgWqOer5CsU6Ek0P3W5TjFuLZme3xU85qt5UwgdlaE2JeBJIby+WamEQg31qFyE9tD63R3f/1X9I+YKullKK9Syn1O1lEaSECoXkcVBInHgvRShHvLAfFkRQ3q8QCCCktvrO17f5T7isNX5RHSwu1W7B6zRZIceTtHbHtiLaFyAVEsyGYGVUeAxBcsKPwmNKqlxaGvkRUGL4zowRdcFxEMSfiFEDIYzHb4xduLZt9QaxCBDLLT765wOyx9P266YnK7ZNaSnekijhdLSLFx/J0Kd14rJbulZkVTmW/QFikRLYLittVPe3Bci1R/QF0XOsiamIbEVGJmRUEs9LiD2juwu7UfDrta9u16w8fJNBtS4toA6nplEWqP0aYCpPmBp50f4l4wE1eD4WfuoFMPROer/EWi6ax8EM4mQUipr7NfqlP7o6ytganplTA+AGvu1dWtS23lvN0wRKooiP17RxxsyQIICQ/mUXcLAl2+OPHNWdeb02+3vgN5Xdu2o6l6eEZ3XwmMUNjVoLlOj19Z9cIQJtbLwMo/ALxh2qPK3j8tNrKO1Y7FQSbNazmxFKtNJ+X7hfjJDdxa8gfJ/oFRJEyux3xWIjjFYn6iWgUAygO2LBtwQNN9fW0ZY1027CJrCLn+BEVxoKh99M4EfVT06WFE6u8WWRNjEDUmcTxr0Q6EXXBwmB5rSAQz+6DfadaCoVxcqvsF3cInZYLHu9qSJrfrrbMMh3RIgiLVNdVzdoi9okRme7SbGwaqUakExEnbUNttZTycQf+vcY8+1IO4/l87rybZDYb4lukiOYVfSzWerWJtsWsSBE13W46DV/9JfK4WSDlkSBEi4A9ltu+aF2HRrl3jajEfOOk/PoDvtgQybw5nHZ49huya9NfUg5ulEWKiJNv4YxXfJDHQvx1PtpB3Q3y8MW+m++3NKlDufIzgeJugIhtH0p1qa52UB851t9sImB3A65ZLthtOYd7kIk31IjHElUSZBysLAg/JYCh4jrxgH0DKYdJRGlRztA0jfH+EZvUMoa4fAlzTZpZkH1rLlo34sTMw8KYc3hiBNENoeTsPwz1lJjLfekD6P2l6cdwiDxu1q0lfsnssZgtF34J++bK1E1+nGjKiCQIIOSbV2Z53FQs1Q200EodNe/z+UTyE5F951Jw78CLSnGi6vGtM80eSwDF2e0FstQRS/R6hOe052v4/TtiKuDPAH1v4my3IOQZ0SrQ8HbE5Asx/0R014gKA6kLatYyX4Lsq1sMNZtdu4wUN+G0QBBKDLdpwmRoFWS12+zZ+QbqU6xvkc4byd5//+QA1e2sipQfA1TqDUml3qfH49F/H0Hu2vapJ6uE4yl0AyT2m4DiBkjocfWcmPJr29UDLvq+oDEA4YaEmBsD2pgfJ/IT0RNT/nXEBCNRF/jmJyJQUNzu/PFI6WpXSUwp++9xQ4g6kyjmRGKaBfqiY3E3fuP06wCpysiGrGySuvxSvo7dL74pHkBICSb+OiIx293/tcXQGFn0sZSfRzPrj5tllcg8BAmCBKJAxEZls/opgL4JaKoPI3gcqekEG9zigM1WAuPskHJHvBYpOHoumE7OvAaPI7TvkFHUPruhYxm+/YzMiQERJwK1Pe7dTcxqJdC1RRgfoDNUKyOSwPcBmyXmmLtmxSLggSCOHzEwbQOqEXANMYm+r5xwKr9BS+RM4nY7btDe3ZrzTQKioSbEUuvuTgYQ0gYTcSIeC/HXBeJI4SRIy7pU5a5pH/na7LGa5fG5TFa++qKN752D3DbEbnOup7SIusAs4r4Vxnyx4b3MkoDImXNdAS4qEovlbp0b4ttyCs5jBf66PqCYOTy/3ZhIWXlS0pSVyovZZo3i4ijfAtP5VhjKLc/ELxH1ExHId7lQLtdz6nkofbGK08arv8T7d0QgBa2Sc0E1q604VmLIUBMVBtHJCis1AORuhpBZVkHe3pEzQN3Jlzyq7sZpvLaxuV+lneK3o1OAXg/FL/jYzqrCMHsscjFCuEZIftL2ol+v10tkkhRRF/w9PPP+t7SIkSKR4sgDzg+ydMiPx6PtgAV7aID6ySziZjmTUNsYwgmvMJSuHR2N4rpC0Y40s0jopp2t/Y4mBBAQUYkVTdlQooMYbTQ9S1jM9byX+YL/nCeWN5JEYOrcyVL2fU+dCsXJGkBPrA3orlU9JeYBK0/cMpPrWfel/tg8N2W5SSPyk1mdabZRmRiY9lH8uNZ07DchXnwcYF0/HVHuhJ2H777DZZYLzNbKiMQkJhWCmEhdoHzAfyq6dIeka3Ii0X/6SwhdlTJ9mw2iwsCPXa5edb8qhb/XT0pnF1IJ8QCaA/Lt0xFNGZGYxMrNLvc/X5RbBDohCbHvkLid8vstxF+3sMsEML2Y6LESs//KFmHnTeOa7P3cAaRk2C9QjlvGY/N1hpp4LMpA1dKci6SC8t0kuWdQiFaq362t5Q1COJFA0RWgAbSmUTmAkDozDhgJRKwj+C5kt0vLlePQvB2RC8wyXQCF6hnpOKtJslnLSUzmKcecypxJZJXFdNo8hpLIBUThPDVGyNc2ipGiXC760tEqpQHz3iPZ2LxtCLBVztyV2J/uglskd0ScFLfrCt1KQuqbfe37dNPRK9HrMXssvn9de1SWkgBnEumknaEpEfH5fO58moUYmAqWn8nWfHo75eSwnLT4niT185sNS18/aIjAmZszD0SLsCAqy9epFWVDDkMPiMJPC0eFiXxJWEXfMd1lo3LXDCHKAbsAMkvx8YTQO2ElnxAiAhEVhjbTWR00JOePE+MWs6rHt3CG2bDlZ+YrhBOJ+OJLMMUS5m17zLRn3/WlPzqBbjk1Wc5i3OKmVuY76en71d+dmdE8bfmx3dQBb4zKkJazKW4B2rsA2gpUFU6retys+387Nfz5fLZ9qe3hmZp3uLFoTOQns2H3AmLKdnreAl0tYsV0R2+I3kswRCBiwZ/oHSoHNyZIUN3u9iWfkkk9rl1Zo2MpNV++tYpvP9NsIpaIk2/EzUZARBIQI2rnPC5WgTerWLVb5YD943bZtwVI7oU4ojpUHkk75iCXvmqb4le/LCXDv47IvkRimkV8QRx8tXyTIIAmgWSSw0cmrL7G1r2d2aSncqRIdNp3qZ7pys14ILFuu9DjjUpsQyH7thGwWVpqTYn9X7oDopxdN1CQQBDoS4cA54s4C45IJyLFzf463ybfbDezb84MIOREG+WmFuF6y1ADyeMxMMqQqFiJYbdv22LWSsWvQwL5rpsTM6P9ONViKrNmY8ytBeBEiKjXPSDmW4KRlxamgMarSbWvNH9pTKu8Wfej10jXAP0ce51KuClfJafwUzeQLxvcLAhrriOb1U9mb9ObdY0WAgGaycz6T8QCiPKTbURBMJv0NGuDibpAWKRuxdyqEjN7LCF32iPYzZ4dESciCYgZZDn29R2bK59dOnZNlZZZ/0mQ4kASfKQFa56Gb0EgipTZ9MSOV3xuVc9anIbSXWafU6fIXXfj+w5BEJmvsshXmZqT9Sd3pabpBXKXD1uYQpyoxLDsK/MlWcT1cqw7PDHYr/spVW3f611NJXImsVZGBDLbAkaUYKLObHuSW1ekLmPOri/1KbF8ncbeHN21YjEUKC3+Yk66Z08E6ju73Kof/17c/7T5lYxdaeaUJjWdb2kxi3gA2fUztafvpVSOo7pxCkEQTMQSbUsbkNg0RyLTaQ8EB7bQx+AFJ0BTCWuz9s5sIpYIRCTB3G2L3Er9lCRkXaTouymYcMDfhVOULZC/jsgqbfelXAfLvg8YLXc6OJ1837X3ynzP8Zs74O7bqk0h7oKI+vJLoQ7xYl5bRMSJOAl7GJEQul3E3hCkEmuZ9W1W0xHdWmJFoimN03ZbVSxr5FuPE7ngX0rnvJyFaR9mKS6oeu58gpQkRUruTqDZAzbrPHyI+VHrdm1nluILM36lRUSc4GEMbWeWmHZti9x2a32V03Zrm13XbefbAJllX99AaKbTaTI3my9QHlxFZF+zQMRjORWKSrxFHF9m9lgWDpi/vOum8yaf8hwa36MxtY9FNmuUr2It36rc9Ts0Ndkj/jqiim4DqvVnrxkugrZSzeow587uLhMinXwDEcVckDNzX6WasAaSgMgFytGr79QSken6capdyfjwoqd8FWJ7DJF9lRGvVgI/TL4LHl+PkwLQmtuFH9vVbh37vq1KDEyJQDtmKtwt3wbIrOO3uFtwCCffFPcNpD0xwmrcQmQ6ovb1LcFmFWv8utVdAW4eGV6Mk4XGdyLF2zrRga42kZhEy+kbcWLrAJEzkUBrSr3uisZmrZTvINCsLlh4r6x0x8ysKSMKp1kgswH8uIexLiTZMdw2LzVZ6egg4kQUKeXKDREnonD2NwJObWcWyHfizIcSmxo955vixGhjN9OtnVJoFmjHDX+RETO+50IGkF2nfZFIre/PtE8nnWSeb/ZVHnXR1DP6k1I5R3ACKjnt3S/mhBJTz7RbPRazB1wE2pxgRNuWTTiVnugmNrhdpky6vkQUTrM8TqF4zhlV1bNm/KvZLxGT6G38pDuM1JQgrAE6ZUOOWZHmbAjRcsqpnl3adzow9V28orCKCyDfB2yWn+wXskEdscizO+aa3mtj/knuRjbx7Ig4+QaSa5slJl/MsoqcHicm0c2eHdE1+ml58IlIzH6g29mnV4toFOWsuXL3xKKJpe+1rmxRtXf5w74+pKUJqHYVKrpx7AL5fttCeSaVwhjvj3ymXFKhyS94vRra9zYccI5H8c11q6onlZTq8f+ajsVsBpkIpOyGLKb4EOJyqkf5LadFXFDrfdgR391erYubV2aj/AhJmHmVli/1CYK5hsmal5qv+WayPx4H6gKzQG2DF6wo1qGQRLAiUU2TdH+pBSflooxy5SY8+7ODvPYyo++OfcEqiZgBIgrnZXDzAaSXXSNWTH1nshbmM0t/E1nlf/4nXF/974MFAAAAAElFTkSuQmCC\"/>\n   </g>\n   <g id=\"matplotlib.axis_3\">\n    <g id=\"xtick_1\">\n     <g id=\"text_3\">\n      <!-- v2cacamps -->\n      <defs>\n       <path d=\"M 2.984375 54.6875 \nL 12.5 54.6875 \nL 29.59375 8.796875 \nL 46.6875 54.6875 \nL 56.203125 54.6875 \nL 35.6875 0 \nL 23.484375 0 \nz\n\" id=\"DejaVuSans-118\"/>\n       <path d=\"M 19.1875 8.296875 \nL 53.609375 8.296875 \nL 53.609375 0 \nL 7.328125 0 \nL 7.328125 8.296875 \nQ 12.9375 14.109375 22.625 23.890625 \nQ 32.328125 33.6875 34.8125 36.53125 \nQ 39.546875 41.84375 41.421875 45.53125 \nQ 43.3125 49.21875 43.3125 52.78125 \nQ 43.3125 58.59375 39.234375 62.25 \nQ 35.15625 65.921875 28.609375 65.921875 \nQ 23.96875 65.921875 18.8125 64.3125 \nQ 13.671875 62.703125 7.8125 59.421875 \nL 7.8125 69.390625 \nQ 13.765625 71.78125 18.9375 73 \nQ 24.125 74.21875 28.421875 74.21875 \nQ 39.75 74.21875 46.484375 68.546875 \nQ 53.21875 62.890625 53.21875 53.421875 \nQ 53.21875 48.921875 51.53125 44.890625 \nQ 49.859375 40.875 45.40625 35.40625 \nQ 44.1875 33.984375 37.640625 27.21875 \nQ 31.109375 20.453125 19.1875 8.296875 \nz\n\" id=\"DejaVuSans-50\"/>\n       <path d=\"M 48.78125 52.59375 \nL 48.78125 44.1875 \nQ 44.96875 46.296875 41.140625 47.34375 \nQ 37.3125 48.390625 33.40625 48.390625 \nQ 24.65625 48.390625 19.8125 42.84375 \nQ 14.984375 37.3125 14.984375 27.296875 \nQ 14.984375 17.28125 19.8125 11.734375 \nQ 24.65625 6.203125 33.40625 6.203125 \nQ 37.3125 6.203125 41.140625 7.25 \nQ 44.96875 8.296875 48.78125 10.40625 \nL 48.78125 2.09375 \nQ 45.015625 0.34375 40.984375 -0.53125 \nQ 36.96875 -1.421875 32.421875 -1.421875 \nQ 20.0625 -1.421875 12.78125 6.34375 \nQ 5.515625 14.109375 5.515625 27.296875 \nQ 5.515625 40.671875 12.859375 48.328125 \nQ 20.21875 56 33.015625 56 \nQ 37.15625 56 41.109375 55.140625 \nQ 45.0625 54.296875 48.78125 52.59375 \nz\n\" id=\"DejaVuSans-99\"/>\n       <path d=\"M 34.28125 27.484375 \nQ 23.390625 27.484375 19.1875 25 \nQ 14.984375 22.515625 14.984375 16.5 \nQ 14.984375 11.71875 18.140625 8.90625 \nQ 21.296875 6.109375 26.703125 6.109375 \nQ 34.1875 6.109375 38.703125 11.40625 \nQ 43.21875 16.703125 43.21875 25.484375 \nL 43.21875 27.484375 \nz\nM 52.203125 31.203125 \nL 52.203125 0 \nL 43.21875 0 \nL 43.21875 8.296875 \nQ 40.140625 3.328125 35.546875 0.953125 \nQ 30.953125 -1.421875 24.3125 -1.421875 \nQ 15.921875 -1.421875 10.953125 3.296875 \nQ 6 8.015625 6 15.921875 \nQ 6 25.140625 12.171875 29.828125 \nQ 18.359375 34.515625 30.609375 34.515625 \nL 43.21875 34.515625 \nL 43.21875 35.40625 \nQ 43.21875 41.609375 39.140625 45 \nQ 35.0625 48.390625 27.6875 48.390625 \nQ 23 48.390625 18.546875 47.265625 \nQ 14.109375 46.140625 10.015625 43.890625 \nL 10.015625 52.203125 \nQ 14.9375 54.109375 19.578125 55.046875 \nQ 24.21875 56 28.609375 56 \nQ 40.484375 56 46.34375 49.84375 \nQ 52.203125 43.703125 52.203125 31.203125 \nz\n\" id=\"DejaVuSans-97\"/>\n       <path d=\"M 52 44.1875 \nQ 55.375 50.25 60.0625 53.125 \nQ 64.75 56 71.09375 56 \nQ 79.640625 56 84.28125 50.015625 \nQ 88.921875 44.046875 88.921875 33.015625 \nL 88.921875 0 \nL 79.890625 0 \nL 79.890625 32.71875 \nQ 79.890625 40.578125 77.09375 44.375 \nQ 74.3125 48.1875 68.609375 48.1875 \nQ 61.625 48.1875 57.5625 43.546875 \nQ 53.515625 38.921875 53.515625 30.90625 \nL 53.515625 0 \nL 44.484375 0 \nL 44.484375 32.71875 \nQ 44.484375 40.625 41.703125 44.40625 \nQ 38.921875 48.1875 33.109375 48.1875 \nQ 26.21875 48.1875 22.15625 43.53125 \nQ 18.109375 38.875 18.109375 30.90625 \nL 18.109375 0 \nL 9.078125 0 \nL 9.078125 54.6875 \nL 18.109375 54.6875 \nL 18.109375 46.1875 \nQ 21.1875 51.21875 25.484375 53.609375 \nQ 29.78125 56 35.6875 56 \nQ 41.65625 56 45.828125 52.96875 \nQ 50 49.953125 52 44.1875 \nz\n\" id=\"DejaVuSans-109\"/>\n       <path d=\"M 18.109375 8.203125 \nL 18.109375 -20.796875 \nL 9.078125 -20.796875 \nL 9.078125 54.6875 \nL 18.109375 54.6875 \nL 18.109375 46.390625 \nQ 20.953125 51.265625 25.265625 53.625 \nQ 29.59375 56 35.59375 56 \nQ 45.5625 56 51.78125 48.09375 \nQ 58.015625 40.1875 58.015625 27.296875 \nQ 58.015625 14.40625 51.78125 6.484375 \nQ 45.5625 -1.421875 35.59375 -1.421875 \nQ 29.59375 -1.421875 25.265625 0.953125 \nQ 20.953125 3.328125 18.109375 8.203125 \nz\nM 48.6875 27.296875 \nQ 48.6875 37.203125 44.609375 42.84375 \nQ 40.53125 48.484375 33.40625 48.484375 \nQ 26.265625 48.484375 22.1875 42.84375 \nQ 18.109375 37.203125 18.109375 27.296875 \nQ 18.109375 17.390625 22.1875 11.75 \nQ 26.265625 6.109375 33.40625 6.109375 \nQ 40.53125 6.109375 44.609375 11.75 \nQ 48.6875 17.390625 48.6875 27.296875 \nz\n\" id=\"DejaVuSans-112\"/>\n       <path d=\"M 44.28125 53.078125 \nL 44.28125 44.578125 \nQ 40.484375 46.53125 36.375 47.5 \nQ 32.28125 48.484375 27.875 48.484375 \nQ 21.1875 48.484375 17.84375 46.4375 \nQ 14.5 44.390625 14.5 40.28125 \nQ 14.5 37.15625 16.890625 35.375 \nQ 19.28125 33.59375 26.515625 31.984375 \nL 29.59375 31.296875 \nQ 39.15625 29.25 43.1875 25.515625 \nQ 47.21875 21.78125 47.21875 15.09375 \nQ 47.21875 7.46875 41.1875 3.015625 \nQ 35.15625 -1.421875 24.609375 -1.421875 \nQ 20.21875 -1.421875 15.453125 -0.5625 \nQ 10.6875 0.296875 5.421875 2 \nL 5.421875 11.28125 \nQ 10.40625 8.6875 15.234375 7.390625 \nQ 20.0625 6.109375 24.8125 6.109375 \nQ 31.15625 6.109375 34.5625 8.28125 \nQ 37.984375 10.453125 37.984375 14.40625 \nQ 37.984375 18.0625 35.515625 20.015625 \nQ 33.0625 21.96875 24.703125 23.78125 \nL 21.578125 24.515625 \nQ 13.234375 26.265625 9.515625 29.90625 \nQ 5.8125 33.546875 5.8125 39.890625 \nQ 5.8125 47.609375 11.28125 51.796875 \nQ 16.75 56 26.8125 56 \nQ 31.78125 56 36.171875 55.265625 \nQ 40.578125 54.546875 44.28125 53.078125 \nz\n\" id=\"DejaVuSans-115\"/>\n      </defs>\n      <g transform=\"translate(143.55843 93.134687)rotate(-45)scale(0.16 -0.16)\">\n       <use xlink:href=\"#DejaVuSans-118\"/>\n       <use x=\"59.179688\" xlink:href=\"#DejaVuSans-50\"/>\n       <use x=\"122.802734\" xlink:href=\"#DejaVuSans-99\"/>\n       <use x=\"177.783203\" xlink:href=\"#DejaVuSans-97\"/>\n       <use x=\"239.0625\" xlink:href=\"#DejaVuSans-99\"/>\n       <use x=\"294.042969\" xlink:href=\"#DejaVuSans-97\"/>\n       <use x=\"355.322266\" xlink:href=\"#DejaVuSans-109\"/>\n       <use x=\"452.734375\" xlink:href=\"#DejaVuSans-112\"/>\n       <use x=\"516.210938\" xlink:href=\"#DejaVuSans-115\"/>\n      </g>\n     </g>\n    </g>\n    <g id=\"xtick_2\">\n     <g id=\"text_4\">\n      <!-- v2caviol -->\n      <defs>\n       <path d=\"M 9.421875 54.6875 \nL 18.40625 54.6875 \nL 18.40625 0 \nL 9.421875 0 \nz\nM 9.421875 75.984375 \nL 18.40625 75.984375 \nL 18.40625 64.59375 \nL 9.421875 64.59375 \nz\n\" id=\"DejaVuSans-105\"/>\n       <path d=\"M 30.609375 48.390625 \nQ 23.390625 48.390625 19.1875 42.75 \nQ 14.984375 37.109375 14.984375 27.296875 \nQ 14.984375 17.484375 19.15625 11.84375 \nQ 23.34375 6.203125 30.609375 6.203125 \nQ 37.796875 6.203125 41.984375 11.859375 \nQ 46.1875 17.53125 46.1875 27.296875 \nQ 46.1875 37.015625 41.984375 42.703125 \nQ 37.796875 48.390625 30.609375 48.390625 \nz\nM 30.609375 56 \nQ 42.328125 56 49.015625 48.375 \nQ 55.71875 40.765625 55.71875 27.296875 \nQ 55.71875 13.875 49.015625 6.21875 \nQ 42.328125 -1.421875 30.609375 -1.421875 \nQ 18.84375 -1.421875 12.171875 6.21875 \nQ 5.515625 13.875 5.515625 27.296875 \nQ 5.515625 40.765625 12.171875 48.375 \nQ 18.84375 56 30.609375 56 \nz\n\" id=\"DejaVuSans-111\"/>\n       <path d=\"M 9.421875 75.984375 \nL 18.40625 75.984375 \nL 18.40625 0 \nL 9.421875 0 \nz\n\" id=\"DejaVuSans-108\"/>\n      </defs>\n      <g transform=\"translate(283.281987 93.134687)rotate(-45)scale(0.16 -0.16)\">\n       <use xlink:href=\"#DejaVuSans-118\"/>\n       <use x=\"59.179688\" xlink:href=\"#DejaVuSans-50\"/>\n       <use x=\"122.802734\" xlink:href=\"#DejaVuSans-99\"/>\n       <use x=\"177.783203\" xlink:href=\"#DejaVuSans-97\"/>\n       <use x=\"239.0625\" xlink:href=\"#DejaVuSans-118\"/>\n       <use x=\"298.242188\" xlink:href=\"#DejaVuSans-105\"/>\n       <use x=\"326.025391\" xlink:href=\"#DejaVuSans-111\"/>\n       <use x=\"387.207031\" xlink:href=\"#DejaVuSans-108\"/>\n      </g>\n     </g>\n    </g>\n    <g id=\"xtick_3\">\n     <g id=\"text_5\">\n      <!-- v2cagenmob -->\n      <defs>\n       <path d=\"M 45.40625 27.984375 \nQ 45.40625 37.75 41.375 43.109375 \nQ 37.359375 48.484375 30.078125 48.484375 \nQ 22.859375 48.484375 18.828125 43.109375 \nQ 14.796875 37.75 14.796875 27.984375 \nQ 14.796875 18.265625 18.828125 12.890625 \nQ 22.859375 7.515625 30.078125 7.515625 \nQ 37.359375 7.515625 41.375 12.890625 \nQ 45.40625 18.265625 45.40625 27.984375 \nz\nM 54.390625 6.78125 \nQ 54.390625 -7.171875 48.1875 -13.984375 \nQ 42 -20.796875 29.203125 -20.796875 \nQ 24.46875 -20.796875 20.265625 -20.09375 \nQ 16.0625 -19.390625 12.109375 -17.921875 \nL 12.109375 -9.1875 \nQ 16.0625 -11.328125 19.921875 -12.34375 \nQ 23.78125 -13.375 27.78125 -13.375 \nQ 36.625 -13.375 41.015625 -8.765625 \nQ 45.40625 -4.15625 45.40625 5.171875 \nL 45.40625 9.625 \nQ 42.625 4.78125 38.28125 2.390625 \nQ 33.9375 0 27.875 0 \nQ 17.828125 0 11.671875 7.65625 \nQ 5.515625 15.328125 5.515625 27.984375 \nQ 5.515625 40.671875 11.671875 48.328125 \nQ 17.828125 56 27.875 56 \nQ 33.9375 56 38.28125 53.609375 \nQ 42.625 51.21875 45.40625 46.390625 \nL 45.40625 54.6875 \nL 54.390625 54.6875 \nz\n\" id=\"DejaVuSans-103\"/>\n       <path d=\"M 56.203125 29.59375 \nL 56.203125 25.203125 \nL 14.890625 25.203125 \nQ 15.484375 15.921875 20.484375 11.0625 \nQ 25.484375 6.203125 34.421875 6.203125 \nQ 39.59375 6.203125 44.453125 7.46875 \nQ 49.3125 8.734375 54.109375 11.28125 \nL 54.109375 2.78125 \nQ 49.265625 0.734375 44.1875 -0.34375 \nQ 39.109375 -1.421875 33.890625 -1.421875 \nQ 20.796875 -1.421875 13.15625 6.1875 \nQ 5.515625 13.8125 5.515625 26.8125 \nQ 5.515625 40.234375 12.765625 48.109375 \nQ 20.015625 56 32.328125 56 \nQ 43.359375 56 49.78125 48.890625 \nQ 56.203125 41.796875 56.203125 29.59375 \nz\nM 47.21875 32.234375 \nQ 47.125 39.59375 43.09375 43.984375 \nQ 39.0625 48.390625 32.421875 48.390625 \nQ 24.90625 48.390625 20.390625 44.140625 \nQ 15.875 39.890625 15.1875 32.171875 \nz\n\" id=\"DejaVuSans-101\"/>\n       <path d=\"M 54.890625 33.015625 \nL 54.890625 0 \nL 45.90625 0 \nL 45.90625 32.71875 \nQ 45.90625 40.484375 42.875 44.328125 \nQ 39.84375 48.1875 33.796875 48.1875 \nQ 26.515625 48.1875 22.3125 43.546875 \nQ 18.109375 38.921875 18.109375 30.90625 \nL 18.109375 0 \nL 9.078125 0 \nL 9.078125 54.6875 \nL 18.109375 54.6875 \nL 18.109375 46.1875 \nQ 21.34375 51.125 25.703125 53.5625 \nQ 30.078125 56 35.796875 56 \nQ 45.21875 56 50.046875 50.171875 \nQ 54.890625 44.34375 54.890625 33.015625 \nz\n\" id=\"DejaVuSans-110\"/>\n       <path d=\"M 48.6875 27.296875 \nQ 48.6875 37.203125 44.609375 42.84375 \nQ 40.53125 48.484375 33.40625 48.484375 \nQ 26.265625 48.484375 22.1875 42.84375 \nQ 18.109375 37.203125 18.109375 27.296875 \nQ 18.109375 17.390625 22.1875 11.75 \nQ 26.265625 6.109375 33.40625 6.109375 \nQ 40.53125 6.109375 44.609375 11.75 \nQ 48.6875 17.390625 48.6875 27.296875 \nz\nM 18.109375 46.390625 \nQ 20.953125 51.265625 25.265625 53.625 \nQ 29.59375 56 35.59375 56 \nQ 45.5625 56 51.78125 48.09375 \nQ 58.015625 40.1875 58.015625 27.296875 \nQ 58.015625 14.40625 51.78125 6.484375 \nQ 45.5625 -1.421875 35.59375 -1.421875 \nQ 29.59375 -1.421875 25.265625 0.953125 \nQ 20.953125 3.328125 18.109375 8.203125 \nL 18.109375 0 \nL 9.078125 0 \nL 9.078125 75.984375 \nL 18.109375 75.984375 \nz\n\" id=\"DejaVuSans-98\"/>\n      </defs>\n      <g transform=\"translate(423.005545 93.134687)rotate(-45)scale(0.16 -0.16)\">\n       <use xlink:href=\"#DejaVuSans-118\"/>\n       <use x=\"59.179688\" xlink:href=\"#DejaVuSans-50\"/>\n       <use x=\"122.802734\" xlink:href=\"#DejaVuSans-99\"/>\n       <use x=\"177.783203\" xlink:href=\"#DejaVuSans-97\"/>\n       <use x=\"239.0625\" xlink:href=\"#DejaVuSans-103\"/>\n       <use x=\"302.539062\" xlink:href=\"#DejaVuSans-101\"/>\n       <use x=\"364.0625\" xlink:href=\"#DejaVuSans-110\"/>\n       <use x=\"427.441406\" xlink:href=\"#DejaVuSans-109\"/>\n       <use x=\"524.853516\" xlink:href=\"#DejaVuSans-111\"/>\n       <use x=\"586.035156\" xlink:href=\"#DejaVuSans-98\"/>\n      </g>\n     </g>\n    </g>\n    <g id=\"xtick_4\">\n     <g id=\"text_6\">\n      <!-- v2cademmob -->\n      <defs>\n       <path d=\"M 45.40625 46.390625 \nL 45.40625 75.984375 \nL 54.390625 75.984375 \nL 54.390625 0 \nL 45.40625 0 \nL 45.40625 8.203125 \nQ 42.578125 3.328125 38.25 0.953125 \nQ 33.9375 -1.421875 27.875 -1.421875 \nQ 17.96875 -1.421875 11.734375 6.484375 \nQ 5.515625 14.40625 5.515625 27.296875 \nQ 5.515625 40.1875 11.734375 48.09375 \nQ 17.96875 56 27.875 56 \nQ 33.9375 56 38.25 53.625 \nQ 42.578125 51.265625 45.40625 46.390625 \nz\nM 14.796875 27.296875 \nQ 14.796875 17.390625 18.875 11.75 \nQ 22.953125 6.109375 30.078125 6.109375 \nQ 37.203125 6.109375 41.296875 11.75 \nQ 45.40625 17.390625 45.40625 27.296875 \nQ 45.40625 37.203125 41.296875 42.84375 \nQ 37.203125 48.484375 30.078125 48.484375 \nQ 22.953125 48.484375 18.875 42.84375 \nQ 14.796875 37.203125 14.796875 27.296875 \nz\n\" id=\"DejaVuSans-100\"/>\n      </defs>\n      <g transform=\"translate(562.729103 93.134687)rotate(-45)scale(0.16 -0.16)\">\n       <use xlink:href=\"#DejaVuSans-118\"/>\n       <use x=\"59.179688\" xlink:href=\"#DejaVuSans-50\"/>\n       <use x=\"122.802734\" xlink:href=\"#DejaVuSans-99\"/>\n       <use x=\"177.783203\" xlink:href=\"#DejaVuSans-97\"/>\n       <use x=\"239.0625\" xlink:href=\"#DejaVuSans-100\"/>\n       <use x=\"302.539062\" xlink:href=\"#DejaVuSans-101\"/>\n       <use x=\"364.0625\" xlink:href=\"#DejaVuSans-109\"/>\n       <use x=\"461.474609\" xlink:href=\"#DejaVuSans-109\"/>\n       <use x=\"558.886719\" xlink:href=\"#DejaVuSans-111\"/>\n       <use x=\"620.068359\" xlink:href=\"#DejaVuSans-98\"/>\n      </g>\n     </g>\n    </g>\n    <g id=\"xtick_5\">\n     <g id=\"text_7\">\n      <!-- v2caautmob -->\n      <defs>\n       <path d=\"M 8.5 21.578125 \nL 8.5 54.6875 \nL 17.484375 54.6875 \nL 17.484375 21.921875 \nQ 17.484375 14.15625 20.5 10.265625 \nQ 23.53125 6.390625 29.59375 6.390625 \nQ 36.859375 6.390625 41.078125 11.03125 \nQ 45.3125 15.671875 45.3125 23.6875 \nL 45.3125 54.6875 \nL 54.296875 54.6875 \nL 54.296875 0 \nL 45.3125 0 \nL 45.3125 8.40625 \nQ 42.046875 3.421875 37.71875 1 \nQ 33.40625 -1.421875 27.6875 -1.421875 \nQ 18.265625 -1.421875 13.375 4.4375 \nQ 8.5 10.296875 8.5 21.578125 \nz\nM 31.109375 56 \nz\n\" id=\"DejaVuSans-117\"/>\n       <path d=\"M 18.3125 70.21875 \nL 18.3125 54.6875 \nL 36.8125 54.6875 \nL 36.8125 47.703125 \nL 18.3125 47.703125 \nL 18.3125 18.015625 \nQ 18.3125 11.328125 20.140625 9.421875 \nQ 21.96875 7.515625 27.59375 7.515625 \nL 36.8125 7.515625 \nL 36.8125 0 \nL 27.59375 0 \nQ 17.1875 0 13.234375 3.875 \nQ 9.28125 7.765625 9.28125 18.015625 \nL 9.28125 47.703125 \nL 2.6875 47.703125 \nL 2.6875 54.6875 \nL 9.28125 54.6875 \nL 9.28125 70.21875 \nz\n\" id=\"DejaVuSans-116\"/>\n      </defs>\n      <g transform=\"translate(702.45266 93.134687)rotate(-45)scale(0.16 -0.16)\">\n       <use xlink:href=\"#DejaVuSans-118\"/>\n       <use x=\"59.179688\" xlink:href=\"#DejaVuSans-50\"/>\n       <use x=\"122.802734\" xlink:href=\"#DejaVuSans-99\"/>\n       <use x=\"177.783203\" xlink:href=\"#DejaVuSans-97\"/>\n       <use x=\"239.0625\" xlink:href=\"#DejaVuSans-97\"/>\n       <use x=\"300.341797\" xlink:href=\"#DejaVuSans-117\"/>\n       <use x=\"363.720703\" xlink:href=\"#DejaVuSans-116\"/>\n       <use x=\"402.929688\" xlink:href=\"#DejaVuSans-109\"/>\n       <use x=\"500.341797\" xlink:href=\"#DejaVuSans-111\"/>\n       <use x=\"561.523438\" xlink:href=\"#DejaVuSans-98\"/>\n      </g>\n     </g>\n    </g>\n    <g id=\"xtick_6\">\n     <g id=\"text_8\">\n      <!-- v2castate -->\n      <g transform=\"translate(842.176218 93.134687)rotate(-45)scale(0.16 -0.16)\">\n       <use xlink:href=\"#DejaVuSans-118\"/>\n       <use x=\"59.179688\" xlink:href=\"#DejaVuSans-50\"/>\n       <use x=\"122.802734\" xlink:href=\"#DejaVuSans-99\"/>\n       <use x=\"177.783203\" xlink:href=\"#DejaVuSans-97\"/>\n       <use x=\"239.0625\" xlink:href=\"#DejaVuSans-115\"/>\n       <use x=\"291.162109\" xlink:href=\"#DejaVuSans-116\"/>\n       <use x=\"330.371094\" xlink:href=\"#DejaVuSans-97\"/>\n       <use x=\"391.650391\" xlink:href=\"#DejaVuSans-116\"/>\n       <use x=\"430.859375\" xlink:href=\"#DejaVuSans-101\"/>\n      </g>\n     </g>\n    </g>\n    <g id=\"xtick_7\">\n     <g id=\"text_9\">\n      <!-- v2catrauni -->\n      <defs>\n       <path d=\"M 41.109375 46.296875 \nQ 39.59375 47.171875 37.8125 47.578125 \nQ 36.03125 48 33.890625 48 \nQ 26.265625 48 22.1875 43.046875 \nQ 18.109375 38.09375 18.109375 28.8125 \nL 18.109375 0 \nL 9.078125 0 \nL 9.078125 54.6875 \nL 18.109375 54.6875 \nL 18.109375 46.1875 \nQ 20.953125 51.171875 25.484375 53.578125 \nQ 30.03125 56 36.53125 56 \nQ 37.453125 56 38.578125 55.875 \nQ 39.703125 55.765625 41.0625 55.515625 \nz\n\" id=\"DejaVuSans-114\"/>\n      </defs>\n      <g transform=\"translate(981.899776 93.134687)rotate(-45)scale(0.16 -0.16)\">\n       <use xlink:href=\"#DejaVuSans-118\"/>\n       <use x=\"59.179688\" xlink:href=\"#DejaVuSans-50\"/>\n       <use x=\"122.802734\" xlink:href=\"#DejaVuSans-99\"/>\n       <use x=\"177.783203\" xlink:href=\"#DejaVuSans-97\"/>\n       <use x=\"239.0625\" xlink:href=\"#DejaVuSans-116\"/>\n       <use x=\"278.271484\" xlink:href=\"#DejaVuSans-114\"/>\n       <use x=\"319.384766\" xlink:href=\"#DejaVuSans-97\"/>\n       <use x=\"380.664062\" xlink:href=\"#DejaVuSans-117\"/>\n       <use x=\"444.042969\" xlink:href=\"#DejaVuSans-110\"/>\n       <use x=\"507.421875\" xlink:href=\"#DejaVuSans-105\"/>\n      </g>\n     </g>\n    </g>\n    <g id=\"xtick_8\">\n     <g id=\"text_10\">\n      <!-- v2capolit -->\n      <g transform=\"translate(1121.623333 93.134687)rotate(-45)scale(0.16 -0.16)\">\n       <use xlink:href=\"#DejaVuSans-118\"/>\n       <use x=\"59.179688\" xlink:href=\"#DejaVuSans-50\"/>\n       <use x=\"122.802734\" xlink:href=\"#DejaVuSans-99\"/>\n       <use x=\"177.783203\" xlink:href=\"#DejaVuSans-97\"/>\n       <use x=\"239.0625\" xlink:href=\"#DejaVuSans-112\"/>\n       <use x=\"302.539062\" xlink:href=\"#DejaVuSans-111\"/>\n       <use x=\"363.720703\" xlink:href=\"#DejaVuSans-108\"/>\n       <use x=\"391.503906\" xlink:href=\"#DejaVuSans-105\"/>\n       <use x=\"419.287109\" xlink:href=\"#DejaVuSans-116\"/>\n      </g>\n     </g>\n    </g>\n    <g id=\"xtick_9\">\n     <g id=\"text_11\">\n      <!-- v2canonpol -->\n      <g transform=\"translate(1261.346891 93.134687)rotate(-45)scale(0.16 -0.16)\">\n       <use xlink:href=\"#DejaVuSans-118\"/>\n       <use x=\"59.179688\" xlink:href=\"#DejaVuSans-50\"/>\n       <use x=\"122.802734\" xlink:href=\"#DejaVuSans-99\"/>\n       <use x=\"177.783203\" xlink:href=\"#DejaVuSans-97\"/>\n       <use x=\"239.0625\" xlink:href=\"#DejaVuSans-110\"/>\n       <use x=\"302.441406\" xlink:href=\"#DejaVuSans-111\"/>\n       <use x=\"363.623047\" xlink:href=\"#DejaVuSans-110\"/>\n       <use x=\"427.001953\" xlink:href=\"#DejaVuSans-112\"/>\n       <use x=\"490.478516\" xlink:href=\"#DejaVuSans-111\"/>\n       <use x=\"551.660156\" xlink:href=\"#DejaVuSans-108\"/>\n      </g>\n     </g>\n    </g>\n   </g>\n   <g id=\"matplotlib.axis_4\">\n    <g id=\"ytick_1\">\n     <g id=\"text_12\">\n      <!-- 1 -->\n      <defs>\n       <path d=\"M 12.40625 8.296875 \nL 28.515625 8.296875 \nL 28.515625 63.921875 \nL 10.984375 60.40625 \nL 10.984375 69.390625 \nL 28.421875 72.90625 \nL 38.28125 72.90625 \nL 38.28125 8.296875 \nL 54.390625 8.296875 \nL 54.390625 0 \nL 12.40625 0 \nz\n\" id=\"DejaVuSans-49\"/>\n      </defs>\n      <g transform=\"translate(45.375 110.127883)scale(0.2 -0.2)\">\n       <use xlink:href=\"#DejaVuSans-49\"/>\n      </g>\n     </g>\n    </g>\n    <g id=\"ytick_2\">\n     <g id=\"text_13\">\n      <!-- 6493 -->\n      <defs>\n       <path d=\"M 33.015625 40.375 \nQ 26.375 40.375 22.484375 35.828125 \nQ 18.609375 31.296875 18.609375 23.390625 \nQ 18.609375 15.53125 22.484375 10.953125 \nQ 26.375 6.390625 33.015625 6.390625 \nQ 39.65625 6.390625 43.53125 10.953125 \nQ 47.40625 15.53125 47.40625 23.390625 \nQ 47.40625 31.296875 43.53125 35.828125 \nQ 39.65625 40.375 33.015625 40.375 \nz\nM 52.59375 71.296875 \nL 52.59375 62.3125 \nQ 48.875 64.0625 45.09375 64.984375 \nQ 41.3125 65.921875 37.59375 65.921875 \nQ 27.828125 65.921875 22.671875 59.328125 \nQ 17.53125 52.734375 16.796875 39.40625 \nQ 19.671875 43.65625 24.015625 45.921875 \nQ 28.375 48.1875 33.59375 48.1875 \nQ 44.578125 48.1875 50.953125 41.515625 \nQ 57.328125 34.859375 57.328125 23.390625 \nQ 57.328125 12.15625 50.6875 5.359375 \nQ 44.046875 -1.421875 33.015625 -1.421875 \nQ 20.359375 -1.421875 13.671875 8.265625 \nQ 6.984375 17.96875 6.984375 36.375 \nQ 6.984375 53.65625 15.1875 63.9375 \nQ 23.390625 74.21875 37.203125 74.21875 \nQ 40.921875 74.21875 44.703125 73.484375 \nQ 48.484375 72.75 52.59375 71.296875 \nz\n\" id=\"DejaVuSans-54\"/>\n       <path d=\"M 37.796875 64.3125 \nL 12.890625 25.390625 \nL 37.796875 25.390625 \nz\nM 35.203125 72.90625 \nL 47.609375 72.90625 \nL 47.609375 25.390625 \nL 58.015625 25.390625 \nL 58.015625 17.1875 \nL 47.609375 17.1875 \nL 47.609375 0 \nL 37.796875 0 \nL 37.796875 17.1875 \nL 4.890625 17.1875 \nL 4.890625 26.703125 \nz\n\" id=\"DejaVuSans-52\"/>\n       <path d=\"M 40.578125 39.3125 \nQ 47.65625 37.796875 51.625 33 \nQ 55.609375 28.21875 55.609375 21.1875 \nQ 55.609375 10.40625 48.1875 4.484375 \nQ 40.765625 -1.421875 27.09375 -1.421875 \nQ 22.515625 -1.421875 17.65625 -0.515625 \nQ 12.796875 0.390625 7.625 2.203125 \nL 7.625 11.71875 \nQ 11.71875 9.328125 16.59375 8.109375 \nQ 21.484375 6.890625 26.8125 6.890625 \nQ 36.078125 6.890625 40.9375 10.546875 \nQ 45.796875 14.203125 45.796875 21.1875 \nQ 45.796875 27.640625 41.28125 31.265625 \nQ 36.765625 34.90625 28.71875 34.90625 \nL 20.21875 34.90625 \nL 20.21875 43.015625 \nL 29.109375 43.015625 \nQ 36.375 43.015625 40.234375 45.921875 \nQ 44.09375 48.828125 44.09375 54.296875 \nQ 44.09375 59.90625 40.109375 62.90625 \nQ 36.140625 65.921875 28.71875 65.921875 \nQ 24.65625 65.921875 20.015625 65.03125 \nQ 15.375 64.15625 9.8125 62.3125 \nL 9.8125 71.09375 \nQ 15.4375 72.65625 20.34375 73.4375 \nQ 25.25 74.21875 29.59375 74.21875 \nQ 40.828125 74.21875 47.359375 69.109375 \nQ 53.90625 64.015625 53.90625 55.328125 \nQ 53.90625 49.265625 50.4375 45.09375 \nQ 46.96875 40.921875 40.578125 39.3125 \nz\n\" id=\"DejaVuSans-51\"/>\n      </defs>\n      <g transform=\"translate(7.2 653.644162)scale(0.2 -0.2)\">\n       <use xlink:href=\"#DejaVuSans-54\"/>\n       <use x=\"63.623047\" xlink:href=\"#DejaVuSans-52\"/>\n       <use x=\"127.246094\" xlink:href=\"#DejaVuSans-57\"/>\n       <use x=\"190.869141\" xlink:href=\"#DejaVuSans-51\"/>\n      </g>\n     </g>\n    </g>\n   </g>\n   <g id=\"line2d_4\">\n    <path clip-path=\"url(#pc867fd644a)\" d=\"M 204.823558 646.087585 \nL 204.823558 102.487585 \n\" style=\"fill:none;stroke:#ffffff;stroke-linecap:square;stroke-width:1.5;\"/>\n   </g>\n   <g id=\"line2d_5\">\n    <path clip-path=\"url(#pc867fd644a)\" d=\"M 344.547115 646.087585 \nL 344.547115 102.487585 \n\" style=\"fill:none;stroke:#ffffff;stroke-linecap:square;stroke-width:1.5;\"/>\n   </g>\n   <g id=\"line2d_6\">\n    <path clip-path=\"url(#pc867fd644a)\" d=\"M 484.270673 646.087585 \nL 484.270673 102.487585 \n\" style=\"fill:none;stroke:#ffffff;stroke-linecap:square;stroke-width:1.5;\"/>\n   </g>\n   <g id=\"line2d_7\">\n    <path clip-path=\"url(#pc867fd644a)\" d=\"M 623.994231 646.087585 \nL 623.994231 102.487585 \n\" style=\"fill:none;stroke:#ffffff;stroke-linecap:square;stroke-width:1.5;\"/>\n   </g>\n   <g id=\"line2d_8\">\n    <path clip-path=\"url(#pc867fd644a)\" d=\"M 763.717788 646.087585 \nL 763.717788 102.487585 \n\" style=\"fill:none;stroke:#ffffff;stroke-linecap:square;stroke-width:1.5;\"/>\n   </g>\n   <g id=\"line2d_9\">\n    <path clip-path=\"url(#pc867fd644a)\" d=\"M 903.441346 646.087585 \nL 903.441346 102.487585 \n\" style=\"fill:none;stroke:#ffffff;stroke-linecap:square;stroke-width:1.5;\"/>\n   </g>\n   <g id=\"line2d_10\">\n    <path clip-path=\"url(#pc867fd644a)\" d=\"M 1043.164904 646.087585 \nL 1043.164904 102.487585 \n\" style=\"fill:none;stroke:#ffffff;stroke-linecap:square;stroke-width:1.5;\"/>\n   </g>\n   <g id=\"line2d_11\">\n    <path clip-path=\"url(#pc867fd644a)\" d=\"M 1182.888462 646.087585 \nL 1182.888462 102.487585 \n\" style=\"fill:none;stroke:#ffffff;stroke-linecap:square;stroke-width:1.5;\"/>\n   </g>\n  </g>\n </g>\n <defs>\n  <clipPath id=\"p39d0a125a9\">\n   <rect height=\"543.6\" width=\"83.834135\" x=\"1376.265865\" y=\"102.487585\"/>\n  </clipPath>\n  <clipPath id=\"pc867fd644a\">\n   <rect height=\"543.6\" width=\"1257.512019\" x=\"65.1\" y=\"102.487585\"/>\n  </clipPath>\n </defs>\n</svg>\n",
      "image/png": "[encoded data removed]"
     },
     "metadata": {
      "needs_background": "light"
     }
    }
   ],
   "source": [
    "miss.matrix(train_X)"
   ]
  },
  {
   "cell_type": "code",
   "execution_count": 88,
   "metadata": {},
   "outputs": [
    {
     "output_type": "execute_result",
     "data": {
      "text/plain": [
       "                       v2cacamps  v2caviol  v2cagenmob  v2cademmob  \\\n",
       "country_name     year                                                \n",
       "Mexico           1973     -0.788     1.049       0.543       1.710   \n",
       "Oman             1986        NaN       NaN         NaN         NaN   \n",
       "Guinea           1970      2.287     0.687      -0.406      -1.418   \n",
       "Turkmenistan     1999     -1.938    -2.410      -1.500      -2.400   \n",
       "Papua New Guinea 1996        NaN       NaN         NaN         NaN   \n",
       "...                          ...       ...         ...         ...   \n",
       "Finland          2000     -1.632    -1.284      -1.276         NaN   \n",
       "Tanzania         2018     -0.620    -1.041      -0.454       0.004   \n",
       "Bolivia          2000     -1.346    -0.724       0.611      -0.531   \n",
       "Bahrain          2017      1.926     1.578       0.538       0.590   \n",
       "Chile            1984      2.911     1.202      -0.640      -0.106   \n",
       "\n",
       "                       v2caautmob  v2castate  v2catrauni  v2capolit  \\\n",
       "country_name     year                                                 \n",
       "Mexico           1973       1.994      1.028       0.138     -0.730   \n",
       "Oman             1986         NaN        NaN         NaN        NaN   \n",
       "Guinea           1970       1.584      2.498      -1.059     -0.791   \n",
       "Turkmenistan     1999       1.767      0.834      -2.103     -1.479   \n",
       "Papua New Guinea 1996         NaN        NaN         NaN        NaN   \n",
       "...                           ...        ...         ...        ...   \n",
       "Finland          2000      -1.840     -2.516         NaN      1.620   \n",
       "Tanzania         2018       0.538      1.172       0.216      1.425   \n",
       "Bolivia          2000       0.332     -1.795       1.789      0.200   \n",
       "Bahrain          2017       0.203      0.280       1.224      0.651   \n",
       "Chile            1984       1.292     -0.242       0.506     -1.228   \n",
       "\n",
       "                       v2canonpol  \n",
       "country_name     year              \n",
       "Mexico           1973      -0.470  \n",
       "Oman             1986         NaN  \n",
       "Guinea           1970       0.887  \n",
       "Turkmenistan     1999      -1.674  \n",
       "Papua New Guinea 1996         NaN  \n",
       "...                           ...  \n",
       "Finland          2000       2.876  \n",
       "Tanzania         2018       0.677  \n",
       "Bolivia          2000       1.115  \n",
       "Bahrain          2017       1.366  \n",
       "Chile            1984      -2.372  \n",
       "\n",
       "[6493 rows x 9 columns]"
      ],
      "text/html": "<div>\n<style scoped>\n    .dataframe tbody tr th:only-of-type {\n        vertical-align: middle;\n    }\n\n    .dataframe tbody tr th {\n        vertical-align: top;\n    }\n\n    .dataframe thead th {\n        text-align: right;\n    }\n</style>\n<table border=\"1\" class=\"dataframe\">\n  <thead>\n    <tr style=\"text-align: right;\">\n      <th></th>\n      <th></th>\n      <th>v2cacamps</th>\n      <th>v2caviol</th>\n      <th>v2cagenmob</th>\n      <th>v2cademmob</th>\n      <th>v2caautmob</th>\n      <th>v2castate</th>\n      <th>v2catrauni</th>\n      <th>v2capolit</th>\n      <th>v2canonpol</th>\n    </tr>\n    <tr>\n      <th>country_name</th>\n      <th>year</th>\n      <th></th>\n      <th></th>\n      <th></th>\n      <th></th>\n      <th></th>\n      <th></th>\n      <th></th>\n      <th></th>\n      <th></th>\n    </tr>\n  </thead>\n  <tbody>\n    <tr>\n      <th>Mexico</th>\n      <th>1973</th>\n      <td>-0.788</td>\n      <td>1.049</td>\n      <td>0.543</td>\n      <td>1.710</td>\n      <td>1.994</td>\n      <td>1.028</td>\n      <td>0.138</td>\n      <td>-0.730</td>\n      <td>-0.470</td>\n    </tr>\n    <tr>\n      <th>Oman</th>\n      <th>1986</th>\n      <td>NaN</td>\n      <td>NaN</td>\n      <td>NaN</td>\n      <td>NaN</td>\n      <td>NaN</td>\n      <td>NaN</td>\n      <td>NaN</td>\n      <td>NaN</td>\n      <td>NaN</td>\n    </tr>\n    <tr>\n      <th>Guinea</th>\n      <th>1970</th>\n      <td>2.287</td>\n      <td>0.687</td>\n      <td>-0.406</td>\n      <td>-1.418</td>\n      <td>1.584</td>\n      <td>2.498</td>\n      <td>-1.059</td>\n      <td>-0.791</td>\n      <td>0.887</td>\n    </tr>\n    <tr>\n      <th>Turkmenistan</th>\n      <th>1999</th>\n      <td>-1.938</td>\n      <td>-2.410</td>\n      <td>-1.500</td>\n      <td>-2.400</td>\n      <td>1.767</td>\n      <td>0.834</td>\n      <td>-2.103</td>\n      <td>-1.479</td>\n      <td>-1.674</td>\n    </tr>\n    <tr>\n      <th>Papua New Guinea</th>\n      <th>1996</th>\n      <td>NaN</td>\n      <td>NaN</td>\n      <td>NaN</td>\n      <td>NaN</td>\n      <td>NaN</td>\n      <td>NaN</td>\n      <td>NaN</td>\n      <td>NaN</td>\n      <td>NaN</td>\n    </tr>\n    <tr>\n      <th>...</th>\n      <th>...</th>\n      <td>...</td>\n      <td>...</td>\n      <td>...</td>\n      <td>...</td>\n      <td>...</td>\n      <td>...</td>\n      <td>...</td>\n      <td>...</td>\n      <td>...</td>\n    </tr>\n    <tr>\n      <th>Finland</th>\n      <th>2000</th>\n      <td>-1.632</td>\n      <td>-1.284</td>\n      <td>-1.276</td>\n      <td>NaN</td>\n      <td>-1.840</td>\n      <td>-2.516</td>\n      <td>NaN</td>\n      <td>1.620</td>\n      <td>2.876</td>\n    </tr>\n    <tr>\n      <th>Tanzania</th>\n      <th>2018</th>\n      <td>-0.620</td>\n      <td>-1.041</td>\n      <td>-0.454</td>\n      <td>0.004</td>\n      <td>0.538</td>\n      <td>1.172</td>\n      <td>0.216</td>\n      <td>1.425</td>\n      <td>0.677</td>\n    </tr>\n    <tr>\n      <th>Bolivia</th>\n      <th>2000</th>\n      <td>-1.346</td>\n      <td>-0.724</td>\n      <td>0.611</td>\n      <td>-0.531</td>\n      <td>0.332</td>\n      <td>-1.795</td>\n      <td>1.789</td>\n      <td>0.200</td>\n      <td>1.115</td>\n    </tr>\n    <tr>\n      <th>Bahrain</th>\n      <th>2017</th>\n      <td>1.926</td>\n      <td>1.578</td>\n      <td>0.538</td>\n      <td>0.590</td>\n      <td>0.203</td>\n      <td>0.280</td>\n      <td>1.224</td>\n      <td>0.651</td>\n      <td>1.366</td>\n    </tr>\n    <tr>\n      <th>Chile</th>\n      <th>1984</th>\n      <td>2.911</td>\n      <td>1.202</td>\n      <td>-0.640</td>\n      <td>-0.106</td>\n      <td>1.292</td>\n      <td>-0.242</td>\n      <td>0.506</td>\n      <td>-1.228</td>\n      <td>-2.372</td>\n    </tr>\n  </tbody>\n</table>\n<p>6493 rows × 9 columns</p>\n</div>"
     },
     "metadata": {},
     "execution_count": 88
    }
   ],
   "source": [
    "train_X"
   ]
  },
  {
   "cell_type": "code",
   "execution_count": 89,
   "metadata": {},
   "outputs": [],
   "source": [
    "train_X.dropna(inplace=True)"
   ]
  },
  {
   "cell_type": "code",
   "execution_count": 90,
   "metadata": {},
   "outputs": [
    {
     "output_type": "execute_result",
     "data": {
      "text/plain": [
       "         v2cacamps     v2caviol   v2cagenmob   v2cademmob   v2caautmob  \\\n",
       "count  4242.000000  4242.000000  4242.000000  4242.000000  4242.000000   \n",
       "mean     -0.281381    -0.297330    -0.206315    -0.375581    -0.378801   \n",
       "std       1.338783     1.386784     1.269520     1.309998     1.289777   \n",
       "min      -3.527000    -3.065000    -3.200000    -2.584000    -2.172000   \n",
       "25%      -1.386000    -1.392250    -1.159750    -1.438000    -1.441000   \n",
       "50%      -0.248000    -0.403000    -0.263000    -0.555000    -0.668000   \n",
       "75%       0.669000     0.661000     0.731250     0.612000     0.512000   \n",
       "max       3.816000     3.698000     3.547000     3.691000     3.809000   \n",
       "\n",
       "         v2castate   v2catrauni    v2capolit   v2canonpol  \n",
       "count  4242.000000  4242.000000  4242.000000  4242.000000  \n",
       "mean     -0.097031     0.451091     0.364141     0.497884  \n",
       "std       1.467630     1.402762     1.291421     1.148749  \n",
       "min      -2.979000    -2.802000    -2.791000    -2.894000  \n",
       "25%      -1.271000    -0.463000    -0.493000    -0.227000  \n",
       "50%      -0.242000     0.694000     0.476000     0.611000  \n",
       "75%       1.122000     1.369000     1.263000     1.317000  \n",
       "max       3.435000     3.722000     3.448000     3.645000  "
      ],
      "text/html": "<div>\n<style scoped>\n    .dataframe tbody tr th:only-of-type {\n        vertical-align: middle;\n    }\n\n    .dataframe tbody tr th {\n        vertical-align: top;\n    }\n\n    .dataframe thead th {\n        text-align: right;\n    }\n</style>\n<table border=\"1\" class=\"dataframe\">\n  <thead>\n    <tr style=\"text-align: right;\">\n      <th></th>\n      <th>v2cacamps</th>\n      <th>v2caviol</th>\n      <th>v2cagenmob</th>\n      <th>v2cademmob</th>\n      <th>v2caautmob</th>\n      <th>v2castate</th>\n      <th>v2catrauni</th>\n      <th>v2capolit</th>\n      <th>v2canonpol</th>\n    </tr>\n  </thead>\n  <tbody>\n    <tr>\n      <th>count</th>\n      <td>4242.000000</td>\n      <td>4242.000000</td>\n      <td>4242.000000</td>\n      <td>4242.000000</td>\n      <td>4242.000000</td>\n      <td>4242.000000</td>\n      <td>4242.000000</td>\n      <td>4242.000000</td>\n      <td>4242.000000</td>\n    </tr>\n    <tr>\n      <th>mean</th>\n      <td>-0.281381</td>\n      <td>-0.297330</td>\n      <td>-0.206315</td>\n      <td>-0.375581</td>\n      <td>-0.378801</td>\n      <td>-0.097031</td>\n      <td>0.451091</td>\n      <td>0.364141</td>\n      <td>0.497884</td>\n    </tr>\n    <tr>\n      <th>std</th>\n      <td>1.338783</td>\n      <td>1.386784</td>\n      <td>1.269520</td>\n      <td>1.309998</td>\n      <td>1.289777</td>\n      <td>1.467630</td>\n      <td>1.402762</td>\n      <td>1.291421</td>\n      <td>1.148749</td>\n    </tr>\n    <tr>\n      <th>min</th>\n      <td>-3.527000</td>\n      <td>-3.065000</td>\n      <td>-3.200000</td>\n      <td>-2.584000</td>\n      <td>-2.172000</td>\n      <td>-2.979000</td>\n      <td>-2.802000</td>\n      <td>-2.791000</td>\n      <td>-2.894000</td>\n    </tr>\n    <tr>\n      <th>25%</th>\n      <td>-1.386000</td>\n      <td>-1.392250</td>\n      <td>-1.159750</td>\n      <td>-1.438000</td>\n      <td>-1.441000</td>\n      <td>-1.271000</td>\n      <td>-0.463000</td>\n      <td>-0.493000</td>\n      <td>-0.227000</td>\n    </tr>\n    <tr>\n      <th>50%</th>\n      <td>-0.248000</td>\n      <td>-0.403000</td>\n      <td>-0.263000</td>\n      <td>-0.555000</td>\n      <td>-0.668000</td>\n      <td>-0.242000</td>\n      <td>0.694000</td>\n      <td>0.476000</td>\n      <td>0.611000</td>\n    </tr>\n    <tr>\n      <th>75%</th>\n      <td>0.669000</td>\n      <td>0.661000</td>\n      <td>0.731250</td>\n      <td>0.612000</td>\n      <td>0.512000</td>\n      <td>1.122000</td>\n      <td>1.369000</td>\n      <td>1.263000</td>\n      <td>1.317000</td>\n    </tr>\n    <tr>\n      <th>max</th>\n      <td>3.816000</td>\n      <td>3.698000</td>\n      <td>3.547000</td>\n      <td>3.691000</td>\n      <td>3.809000</td>\n      <td>3.435000</td>\n      <td>3.722000</td>\n      <td>3.448000</td>\n      <td>3.645000</td>\n    </tr>\n  </tbody>\n</table>\n</div>"
     },
     "metadata": {},
     "execution_count": 90
    }
   ],
   "source": [
    "train_X.describe()"
   ]
  },
  {
   "source": [
    "## Make edits to full model"
   ],
   "cell_type": "markdown",
   "metadata": {}
  },
  {
   "cell_type": "code",
   "execution_count": 91,
   "metadata": {},
   "outputs": [],
   "source": [
    "strife.dropna(inplace = True)"
   ]
  },
  {
   "source": [
    "# Model"
   ],
   "cell_type": "markdown",
   "metadata": {}
  },
  {
   "cell_type": "code",
   "execution_count": 93,
   "metadata": {},
   "outputs": [],
   "source": [
    "# split strife again\n",
    "y = strife[\"backsliding\"]\n",
    "X = strife.drop(columns=\"backsliding\")\n",
    "train_X, test_X, train_y, test_y = train_test_split(X,y,test_size = .25,random_state=202011)"
   ]
  },
  {
   "cell_type": "code",
   "execution_count": 94,
   "metadata": {},
   "outputs": [],
   "source": [
    "# Set the folds index to ensure comparable samples\n",
    "fold_generator = KFold(n_splits=5, shuffle=True,random_state=1234)\n",
    "\n",
    "# Set preprocess equal to Min Max Scaler to keep our variable distributions\n",
    "preprocess = pp.MinMaxScaler()"
   ]
  },
  {
   "cell_type": "code",
   "execution_count": 95,
   "metadata": {},
   "outputs": [
    {
     "output_type": "execute_result",
     "data": {
      "text/plain": [
       "GridSearchCV(cv=KFold(n_splits=5, random_state=1234, shuffle=True),\n",
       "             estimator=Pipeline(steps=[('pre_process', MinMaxScaler()),\n",
       "                                       ('model', None)]),\n",
       "             n_jobs=4,\n",
       "             param_grid=[{'model': [GaussianNB()]},\n",
       "                         {'model': [KNeighborsClassifier()],\n",
       "                          'model__n_neighbors': [5, 10, 25, 50]},\n",
       "                         {'model': [DecisionTreeClassifier()],\n",
       "                          'model__max_depth': [2, 3, 4]},\n",
       "                         {'model': [RandomForestClassifier(max_depth=8,\n",
       "                                                           max_features=5,\n",
       "                                                           n_estimators=500)],\n",
       "                          'model__max_depth': [6, 7, 8],\n",
       "                          'model__max_features': [5, 10, 15],\n",
       "                          'model__n_estimators': [500, 1000, 1500]}],\n",
       "             scoring='roc_auc')"
      ]
     },
     "metadata": {},
     "execution_count": 95
    }
   ],
   "source": [
    "# Build the modeling pipeline\n",
    "pipe = Pipeline(steps=[('pre_process', preprocess),('model',None)])\n",
    "\n",
    "search_space = [\n",
    "    \n",
    "    # NaiveBayes\n",
    "    {'model': [NB()]},\n",
    "    \n",
    "    # KNN with K tuning param\n",
    "    {'model' : [KNN()],\n",
    "     'model__n_neighbors':[5,10,25,50]},\n",
    "    \n",
    "    # Decision Tree with the Max Depth Param\n",
    "    {'model': [DT()],\n",
    "     'model__max_depth':[2,3,4]},\n",
    "    \n",
    "    # Random forest with the N Estimators, max depth, and max features tuning param\n",
    "    {'model' : [RF()],\n",
    "    'model__max_depth':[6,7,8],\n",
    "    'model__n_estimators':[500,1000,1500],\n",
    "    'model__max_features': [5,10,15]},\n",
    "    \n",
    "]\n",
    "\n",
    "# Grid Search to find the best parameters. The metric used for evaluation is ROC AUC\n",
    "search = GridSearchCV(pipe, search_space, \n",
    "                      cv = fold_generator,\n",
    "                      scoring='roc_auc',\n",
    "                      n_jobs=4)\n",
    "\n",
    "# fit the data with the model\n",
    "search.fit(train_X,train_y)"
   ]
  },
  {
   "cell_type": "code",
   "execution_count": 96,
   "metadata": {},
   "outputs": [
    {
     "output_type": "execute_result",
     "data": {
      "text/plain": [
       "0.7593319720256609"
      ]
     },
     "metadata": {},
     "execution_count": 96
    }
   ],
   "source": [
    "#this is our out of sample AUC score\n",
    "search.best_score_ "
   ]
  },
  {
   "cell_type": "code",
   "execution_count": null,
   "metadata": {},
   "outputs": [],
   "source": [
    "# now what happens if we try on the test data\n"
   ]
  }
 ]
}