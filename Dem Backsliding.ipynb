{
 "metadata": {
  "language_info": {
   "codemirror_mode": {
    "name": "ipython",
    "version": 3
   },
   "file_extension": ".py",
   "mimetype": "text/x-python",
   "name": "python",
   "nbconvert_exporter": "python",
   "pygments_lexer": "ipython3",
   "version": "3.8.2-final"
  },
  "orig_nbformat": 2,
  "kernelspec": {
   "name": "python3",
   "display_name": "Python 3"
  }
 },
 "nbformat": 4,
 "nbformat_minor": 2,
 "cells": [
  {
   "source": [
    "# Predicting Democratic Backsliding"
   ],
   "cell_type": "markdown",
   "metadata": {}
  },
  {
   "source": [
    "## Import Packages"
   ],
   "cell_type": "markdown",
   "metadata": {}
  },
  {
   "cell_type": "code",
   "execution_count": 1,
   "metadata": {},
   "outputs": [],
   "source": [
    "import pandas as pd\n",
    "from sklearn.model_selection import train_test_split"
   ]
  },
  {
   "source": [
    "## Load the democracy data and select features"
   ],
   "cell_type": "markdown",
   "metadata": {}
  },
  {
   "cell_type": "code",
   "execution_count": 2,
   "metadata": {},
   "outputs": [],
   "source": [
    "vdem = pd.read_csv(\"Data/Country_Year_V-Dem_Full+others_CSV_v10/V-Dem-CY-Full+Others-v10.csv\")"
   ]
  },
  {
   "cell_type": "code",
   "execution_count": 3,
   "metadata": {},
   "outputs": [],
   "source": [
    "vdem = vdem.loc[vdem['year'] >= 1960]"
   ]
  },
  {
   "cell_type": "code",
   "execution_count": 4,
   "metadata": {},
   "outputs": [],
   "source": [
    "civil_liberties = vdem[[\"country_name\", \"year\", \"v2x_frassoc_thick\", \"v2x_suffr\", \"v2xel_frefair\", \"v2cltort\", \"v2clkill\", \"v2cltrnslw\", \"v2clrspct\", \"v2clacjust\", \"v2clsocgrp\", \"v2clacfree\", \"v2clrelig\", \"v2caassemb\", \"v2xcl_acjst\", \"v2x_clpol\", \"v2x_freexp\"]]"
   ]
  },
  {
   "cell_type": "code",
   "execution_count": 5,
   "metadata": {},
   "outputs": [],
   "source": [
    "civil_society = vdem[[\"country_name\", \"year\", \"v2x_cspart\", \"v2cseeorgs\", \"v2csreprss\", \"v2cscnsult\", \"v2csstruc_0\", \"v2csstruc_1\", \"v2csstruc_2\", \"v2csprtcpt\", \"v2csantimv\", \"v2csrlgrep\"]]"
   ]
  },
  {
   "cell_type": "code",
   "execution_count": 6,
   "metadata": {},
   "outputs": [],
   "source": [
    "media = vdem[[\"country_name\", \"year\", \"v2mecenefm\", \"v2mecenefi\", \"v2mecenefibin\", \"v2mecrit\", \"v2merange\", \"v2meharjrn\", \"v2mebias\"]]"
   ]
  },
  {
   "cell_type": "code",
   "execution_count": 7,
   "metadata": {},
   "outputs": [],
   "source": [
    "access_services = vdem[[\"country_name\", \"year\", \"v2pepwrses\", \"v2pepwrsoc\", \"v2peedueq\", \"v2pehealth\", \"v2peapsecon\", \"v2peasjsoecon\", \"v2peasbecon\", \"v2clgencl\", \"v2peapsgen\", \"v2pepwrgeo\", \"v2clgeocl\", \"v2peapsgeo\", \"v2peasjgeo\", \"v2peasbegeo\", \"v2clpolcl\", \"v2peapspol\", \"v2peasjpol\", \"v2peasbepol\"]]"
   ]
  },
  {
   "cell_type": "code",
   "execution_count": 8,
   "metadata": {},
   "outputs": [],
   "source": [
    "strife = vdem[[\"country_name\", \"year\", \"v2cacamps\", \"v2caviol\", \"v2cagenmob\", \"v2cademmob\", \"v2caautmob\", \"v2castate\", \"v2catrauni\", \"v2capolit\", \"v2canonpol\"]]"
   ]
  },
  {
   "cell_type": "code",
   "execution_count": 9,
   "metadata": {},
   "outputs": [],
   "source": [
    "polity_data = pd.read_csv(\"Data/p5v2018.csv\")"
   ]
  },
  {
   "cell_type": "code",
   "execution_count": 10,
   "metadata": {},
   "outputs": [],
   "source": [
    "polity_data = polity_data[[\"country\", \"year\", \"polity\", \"durable\"]]"
   ]
  },
  {
   "cell_type": "code",
   "execution_count": 11,
   "metadata": {},
   "outputs": [],
   "source": [
    "polity_data = polity_data.loc[polity_data['year'] >= 1960]"
   ]
  },
  {
   "source": [
    "## Load the econ data"
   ],
   "cell_type": "markdown",
   "metadata": {}
  },
  {
   "cell_type": "code",
   "execution_count": 12,
   "metadata": {},
   "outputs": [],
   "source": [
    "GDPPC_growth = pd.read_csv(\"Data/gdp_per_capita_yearly_growth.csv\")"
   ]
  },
  {
   "cell_type": "code",
   "execution_count": 13,
   "metadata": {},
   "outputs": [
    {
     "output_type": "execute_result",
     "data": {
      "text/plain": [
       "           country  year  GDPpc_growth\n",
       "0      Afghanistan  1801       0.00000\n",
       "1          Albania  1801       0.10400\n",
       "2          Algeria  1801      -0.00247\n",
       "3          Andorra  1801       0.16600\n",
       "4           Angola  1801       0.42500\n",
       "...            ...   ...           ...\n",
       "42481    Venezuela  2019      -0.55700\n",
       "42482      Vietnam  2019       4.90000\n",
       "42483        Yemen  2019       1.91000\n",
       "42484       Zambia  2019       2.60000\n",
       "42485     Zimbabwe  2019       2.87000\n",
       "\n",
       "[42486 rows x 3 columns]"
      ],
      "text/html": "<div>\n<style scoped>\n    .dataframe tbody tr th:only-of-type {\n        vertical-align: middle;\n    }\n\n    .dataframe tbody tr th {\n        vertical-align: top;\n    }\n\n    .dataframe thead th {\n        text-align: right;\n    }\n</style>\n<table border=\"1\" class=\"dataframe\">\n  <thead>\n    <tr style=\"text-align: right;\">\n      <th></th>\n      <th>country</th>\n      <th>year</th>\n      <th>GDPpc_growth</th>\n    </tr>\n  </thead>\n  <tbody>\n    <tr>\n      <th>0</th>\n      <td>Afghanistan</td>\n      <td>1801</td>\n      <td>0.00000</td>\n    </tr>\n    <tr>\n      <th>1</th>\n      <td>Albania</td>\n      <td>1801</td>\n      <td>0.10400</td>\n    </tr>\n    <tr>\n      <th>2</th>\n      <td>Algeria</td>\n      <td>1801</td>\n      <td>-0.00247</td>\n    </tr>\n    <tr>\n      <th>3</th>\n      <td>Andorra</td>\n      <td>1801</td>\n      <td>0.16600</td>\n    </tr>\n    <tr>\n      <th>4</th>\n      <td>Angola</td>\n      <td>1801</td>\n      <td>0.42500</td>\n    </tr>\n    <tr>\n      <th>...</th>\n      <td>...</td>\n      <td>...</td>\n      <td>...</td>\n    </tr>\n    <tr>\n      <th>42481</th>\n      <td>Venezuela</td>\n      <td>2019</td>\n      <td>-0.55700</td>\n    </tr>\n    <tr>\n      <th>42482</th>\n      <td>Vietnam</td>\n      <td>2019</td>\n      <td>4.90000</td>\n    </tr>\n    <tr>\n      <th>42483</th>\n      <td>Yemen</td>\n      <td>2019</td>\n      <td>1.91000</td>\n    </tr>\n    <tr>\n      <th>42484</th>\n      <td>Zambia</td>\n      <td>2019</td>\n      <td>2.60000</td>\n    </tr>\n    <tr>\n      <th>42485</th>\n      <td>Zimbabwe</td>\n      <td>2019</td>\n      <td>2.87000</td>\n    </tr>\n  </tbody>\n</table>\n<p>42486 rows × 3 columns</p>\n</div>"
     },
     "metadata": {},
     "execution_count": 13
    }
   ],
   "source": [
    "GDPPC_growth = GDPPC_growth.melt(id_vars= 'country', var_name = 'year', value_name='GDPpc_growth')"
   ]
  },
  {
   "cell_type": "code",
   "execution_count": 10,
   "metadata": {},
   "outputs": [],
   "source": [
    "GDP_growth = pd.read_csv(\"Data/gdp_total_yearly_growth.csv\")"
   ]
  },
  {
   "cell_type": "code",
   "execution_count": null,
   "metadata": {},
   "outputs": [],
   "source": []
  }
 ]
}