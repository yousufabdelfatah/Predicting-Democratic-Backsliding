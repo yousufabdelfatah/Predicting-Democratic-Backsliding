{
 "metadata": {
  "language_info": {
   "codemirror_mode": {
    "name": "ipython",
    "version": 3
   },
   "file_extension": ".py",
   "mimetype": "text/x-python",
   "name": "python",
   "nbconvert_exporter": "python",
   "pygments_lexer": "ipython3",
   "version": 3
  },
  "orig_nbformat": 2
 },
 "nbformat": 4,
 "nbformat_minor": 2,
 "cells": [
  {
   "source": [
    "# <center> Project Proposal </center>\n",
    "Github Repo: https://github.com/yousufabdelfatah/Predicting-Democratic-Backsliding.git"
   ],
   "cell_type": "markdown",
   "metadata": {}
  },
  {
   "source": [
    "## <center> Problem Statement </center>\n",
    "\n",
    "What factors contribute to democratic backsliding- economics/social/institutional \n",
    "\n",
    "Accountability and transparency metrics (freedom house)\n",
    "\n",
    "Social cohesion survies\n",
    "\n",
    "## <center> Data Sources and Plan to Obtain the Data </center>\n",
    "\n",
    "[https://www.v-dem.net/en/](https://www.v-dem.net/en/)\n",
    "\n",
    "Polity database?\n",
    "\n",
    "Arab baromoter?\n",
    "\n",
    "Afro-barometer?\n",
    "\n",
    "Freedom House\n",
    "\n",
    "World Bank\n",
    "\n",
    "Economic data I can source from the world Bank\n",
    "\n",
    "Social data will be a little bit harder to find but I can pull it from various social cohesion survies\n",
    "\n",
    "Indicators of democratic backsliding I can pull from polity and freedom house\n",
    "\n",
    "## <center> Methods </center>\n",
    "\n",
    "Combine datasets (pandas)\n",
    "Use statistical learning models to derive relationships between the dependent variables I've identified (social, instituaional, economic) and democratic backsliding\n",
    "Use matplotlib, seaborn, and plotnine to generate graphics that show the relationships between the data\n",
    "\n",
    "## <center> What would success look like </center>\n",
    "Putting everything in one dataset from these various databases\n",
    "If the predictive model can show democratic backsliding\n",
    "Null results can also be illustrative- maybe a decline in per capita gdp isn't actually a good predictive factor \n",
    "\n"
   ],
   "cell_type": "markdown",
   "metadata": {}
  }
 ]
}